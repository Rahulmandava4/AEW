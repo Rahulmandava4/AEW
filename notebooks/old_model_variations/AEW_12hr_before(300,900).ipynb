{
 "cells": [
  {
   "cell_type": "code",
   "execution_count": 2,
   "id": "8bf88bb8-756d-47cb-ad74-88b3b302a462",
   "metadata": {
    "editable": true,
    "papermill": {
     "duration": 0.022322,
     "end_time": "2025-03-05T18:49:06.250982",
     "exception": false,
     "start_time": "2025-03-05T18:49:06.228660",
     "status": "completed"
    },
    "slideshow": {
     "slide_type": ""
    },
    "tags": [
     "Parameters",
     "parameters",
     "  Parameters"
    ]
   },
   "outputs": [],
   "source": [
    "# Parameters\n",
    "var_list = [\"default1\", \"default2\"]\n",
    "plevel_list = [False, 300]\n",
    "aew_subset = \"default_subset\"\n",
    "model_save_name = \"default_modelbase1.keras\"\n",
    "tuner_project_name = \"default_tuner_run1\"\n",
    "\n",
    "\n",
    "\n",
    "\n"
   ]
  },
  {
   "cell_type": "code",
   "execution_count": 16,
   "id": "b6798e3f",
   "metadata": {
    "papermill": {
     "duration": 0.012789,
     "end_time": "2025-03-05T18:49:06.269446",
     "exception": false,
     "start_time": "2025-03-05T18:49:06.256657",
     "status": "completed"
    },
    "tags": [
     "injected-parameters"
    ]
   },
   "outputs": [],
   "source": [
    "# Parameters\n",
    "# Parameters\n",
    "var_list = [\"cape\", \"crr\", \"d\",\"d\", \"ie\", \"ishf\", \"lsrr\", \"pv\",\"pv\", \"q\",\"q\",\"r\",\"r\", \"sp\", \"sstk\", \"tcw\", \"tcwv\", \"t\",\"t\",  \"ttr\", \"u\",\"u\",\"v\",\"v\", \"vo\",\"vo\",\"w\",\"w\"] #ERA5 variables\n",
    "\n",
    "\n",
    "\n",
    "plevel_list = [False, False,300,900, False, False, False, 300,900, 300,900, 300,900,False, False, False, False, 300,900,  False, 300,900,900  ,300,  300,900, 300,900] #pressure levels of variables\n",
    "\n",
    "aew_subset = \"12hr_before\"\n",
    "model_save_name = \"best_model_var(300,900).keras\"\n",
    "tuner_project_name = \"tuner_run(300,900)\"\n"
   ]
  },
  {
   "cell_type": "code",
   "execution_count": null,
   "id": "cfe4b521-b034-49f0-a1ac-d961fe639066",
   "metadata": {
    "papermill": {
     "duration": 0.005028,
     "end_time": "2025-03-05T18:49:06.279538",
     "exception": false,
     "start_time": "2025-03-05T18:49:06.274510",
     "status": "completed"
    },
    "tags": []
   },
   "outputs": [],
   "source": [
    "\n"
   ]
  },
  {
   "cell_type": "code",
   "execution_count": 17,
   "id": "3d1aa354-4561-4486-9f61-73f2c1c81a31",
   "metadata": {
    "editable": true,
    "papermill": {
     "duration": 13.973479,
     "end_time": "2025-03-05T18:49:20.258119",
     "exception": false,
     "start_time": "2025-03-05T18:49:06.284640",
     "status": "completed"
    },
    "slideshow": {
     "slide_type": ""
    },
    "tags": []
   },
   "outputs": [],
   "source": [
    "#!/usr/bin/env python\n",
    "\n",
    "# coding: utf-8\n",
    "\n",
    "\n",
    "import numpy as np\n",
    "\n",
    "import matplotlib.pyplot as plt\n",
    "\n",
    "import xarray as xr\n",
    "\n",
    "import sklearn\n",
    "\n",
    "import sklearn.model_selection\n",
    "\n",
    "import keras\n",
    "\n",
    "from keras import layers\n",
    "\n",
    "import keras_tuner\n",
    "\n",
    "import tensorflow as tf\n",
    "\n",
    "import tensorflow.keras.backend as K\n",
    "\n",
    "keras.utils.set_random_seed(812)"
   ]
  },
  {
   "cell_type": "code",
   "execution_count": 18,
   "id": "c74c2082-8917-4d0d-a2d7-b39f8548bcbb",
   "metadata": {
    "papermill": {
     "duration": 0.014754,
     "end_time": "2025-03-05T18:49:20.282885",
     "exception": false,
     "start_time": "2025-03-05T18:49:20.268131",
     "status": "completed"
    },
    "tags": []
   },
   "outputs": [],
   "source": [
    "#functions to calculate f1 score as loss function\n",
    "\n",
    "def f1_loss_sigmoid(y_true, y_pred):\n",
    "    \"\"\"\n",
    "\n",
    "    F1 metric for sigmoid output and integer encoded labels.\n",
    "\n",
    "\"\"\"\n",
    "\n",
    "    # compute tp, fp, and fn\n",
    "\n",
    "    tp = K.sum(K.cast(y_true * y_pred, 'float'), axis=0)\n",
    "\n",
    "    fp = K.sum(K.cast((1 - y_true) * y_pred, 'float'), axis=0)\n",
    "\n",
    "    fn = K.sum(K.cast(y_true * (1 - y_pred), 'float'), axis=0)\n",
    "\n",
    "\n",
    "    # precision (tp / (tp + fp))\n",
    "\n",
    "    p = tp / (tp + fp + K.epsilon())\n",
    "\n",
    "   # recall (tp / (tp + fn))\n",
    "\n",
    "    r = tp / (tp + fn + K.epsilon())\n",
    "\n",
    "\n",
    "# harmonic mean of precision and recall\n",
    "\n",
    "    f1 = (2 * p * r) / (p + r + K.epsilon())\n",
    "\n",
    "    f1 = tf.where(tf.math.is_nan(f1), tf.zeros_like(f1), f1)\n",
    "\n",
    "    return 1 - K.mean(f1)"
   ]
  },
  {
   "cell_type": "code",
   "execution_count": 19,
   "id": "58fe83a8-b5b0-4a10-81f6-a5b9277e5a3a",
   "metadata": {
    "papermill": {
     "duration": 0.012029,
     "end_time": "2025-03-05T18:49:20.300625",
     "exception": false,
     "start_time": "2025-03-05T18:49:20.288596",
     "status": "completed"
    },
    "tags": []
   },
   "outputs": [],
   "source": [
    "def f1_loss_onehot(y_true, y_pred):\n",
    "\n",
    "   \"\"\"\n",
    "\n",
    "   F1 metric for two-class output and one-hot encoded labels.\n",
    "\n",
    "   \"\"\"\n",
    "\n",
    "   # compute tp, fp, and fn\n",
    "\n",
    "   tp = K.sum(K.cast(y_true[:, 1] * y_pred[:, 1], 'float'), axis=0)\n",
    "\n",
    "   fp = K.sum(K.cast((1 - y_true[:, 1]) * y_pred[:, 1], 'float'), axis=0)\n",
    "\n",
    "   fn = K.sum(K.cast(y_true[:, 0] * (1 - y_pred[:, 0]), 'float'), axis=0)\n",
    "\n",
    "\n",
    "   # precision (tp / (tp + fp))\n",
    "\n",
    "   p = tp / (tp + fp + K.epsilon())\n",
    "\n",
    "   # recall (tp / (tp + fn))\n",
    "\n",
    "   r = tp / (tp + fn + K.epsilon())\n",
    "\n",
    "\n",
    "   # harmonic mean of precision and recall\n",
    "\n",
    "   f1 = (2 * p * r) / (p + r + K.epsilon())\n",
    "\n",
    "   f1 = tf.where(tf.math.is_nan(f1), tf.zeros_like(f1), f1)\n",
    "\n",
    "   return 1 - K.mean(f1)"
   ]
  },
  {
   "cell_type": "code",
   "execution_count": 20,
   "id": "82e6df90-377d-4c27-ac1d-156b3bc34623",
   "metadata": {
    "papermill": {
     "duration": 0.012229,
     "end_time": "2025-03-05T18:49:20.319927",
     "exception": false,
     "start_time": "2025-03-05T18:49:20.307698",
     "status": "completed"
    },
    "tags": []
   },
   "outputs": [],
   "source": [
    "import re\n",
    "\n",
    "\n",
    "def add_dim(ds):\n",
    "    # Extract the source file name from the dataset's encoding.\n",
    "    fname = ds.encoding.get('source', '')\n",
    "    # Use a regex to capture the central latitude and longitude from the filename.\n",
    "    m = re.search(r'_(\\-?\\d+\\.\\d+)_(-?\\d+\\.\\d+)\\.nc$', fname)\n",
    "    if m:\n",
    "        lat_center = float(m.group(1))\n",
    "        lon_center = float(m.group(2))\n",
    "        # Assign the central coordinates and the file name as new coordinates.\n",
    "        ds = ds.assign_coords(lat_center=lat_center, lon_center=lon_center, file_name=fname)\n",
    "    else:\n",
    "        print(\"File name does not match expected pattern:\", fname)\n",
    "    \n",
    "    # Expand dims to add the 'sample' dimension and drop unnecessary variables.\n",
    "    return ds.assign_coords({\"sample\": 1}).expand_dims(dim={\"sample\": 1}).drop_vars(\"utc_date\").drop_vars(\"latitude\").drop_vars(\"longitude\")\n",
    "\n",
    "\n",
    "\n",
    "\n",
    "    "
   ]
  },
  {
   "cell_type": "code",
   "execution_count": 21,
   "id": "ec3de133-3ed1-4df3-9444-a58e88716284",
   "metadata": {
    "papermill": {
     "duration": 0.017203,
     "end_time": "2025-03-05T18:49:20.344038",
     "exception": false,
     "start_time": "2025-03-05T18:49:20.326835",
     "status": "completed"
    },
    "tags": []
   },
   "outputs": [],
   "source": [
    "import os\n",
    "import xarray as xr\n",
    "\n",
    "def open_files_zarr(list_of_vars, aew_subset=\"12hr_before\",\n",
    "                    directory=\"/glade/derecho/scratch/rmandava/AEW_time_location_files/\",\n",
    "                    plevel_list=None, zarr_store_path=\"zarr_data\"):\n",
    "    \"\"\"\n",
    "    Opens ERA5 NetCDF files for the given variables. For each variable (or pressure-level variant),\n",
    "    it checks if a corresponding Zarr store exists in 'zarr_store_path'. If so, it loads the dataset\n",
    "    from the Zarr store; if not, it opens the NetCDF files, preprocesses them, saves them to Zarr,\n",
    "    and then returns the dataset.\n",
    "    \"\"\"\n",
    "    # Create the zarr_store_path directory if it doesn't exist.\n",
    "    if not os.path.exists(zarr_store_path):\n",
    "        os.makedirs(zarr_store_path)\n",
    "    \n",
    "    datas = {}\n",
    "    for num, var in enumerate(list_of_vars):\n",
    "        # Determine the key and filename based on whether a pressure level is specified.\n",
    "        if plevel_list:\n",
    "            if plevel_list[num]:\n",
    "                key = f\"{var}_{int(plevel_list[num])}\"\n",
    "                file_pattern = f'{directory}/{var}/aew_{aew_subset}_{int(plevel_list[num])}_*.nc'\n",
    "            else:\n",
    "                key = var\n",
    "                file_pattern = f'{directory}/{var}/aew_{aew_subset}_*.nc'\n",
    "        else:\n",
    "            key = var\n",
    "            file_pattern = f'{directory}/{var}/aew_{aew_subset}_*.nc'\n",
    "        \n",
    "        # Define the zarr path for this variable.\n",
    "        zarr_path = os.path.join(zarr_store_path, f\"{key}.zarr\")\n",
    "        \n",
    "        # If the Zarr dataset exists, load from it; otherwise, create it.\n",
    "        if os.path.exists(zarr_path):\n",
    "            print(f\"Loading {key} from Zarr store.\")\n",
    "            ds = xr.open_zarr(zarr_path)\n",
    "        else:\n",
    "            print(f\"Creating Zarr store for {key} from NetCDF files.\")\n",
    "            ds = xr.open_mfdataset(\n",
    "                file_pattern,\n",
    "                preprocess=add_dim,\n",
    "                concat_dim=\"sample\",\n",
    "                combine=\"nested\",\n",
    "            )\n",
    "            ds.to_zarr(zarr_path, mode=\"w\")\n",
    "        datas[key] = ds\n",
    "    \n",
    "    return datas\n"
   ]
  },
  {
   "cell_type": "code",
   "execution_count": null,
   "id": "c20c80e6-2437-4626-be0b-4d82bebb4f73",
   "metadata": {
    "papermill": {
     "duration": 0.015473,
     "end_time": "2025-03-05T18:49:20.366598",
     "exception": false,
     "start_time": "2025-03-05T18:49:20.351125",
     "status": "completed"
    },
    "tags": []
   },
   "outputs": [],
   "source": [
    "\n"
   ]
  },
  {
   "cell_type": "code",
   "execution_count": 22,
   "id": "ad1f231e-abc1-49e7-9bab-09ab1f3f4ebc",
   "metadata": {},
   "outputs": [],
   "source": [
    "def transpose_load_concat(data_dictionary):\n",
    "    # Instead of eagerly converting to NumPy arrays, keep the datasets as xarray objects.\n",
    "    transposed = {}\n",
    "    for key, ds in data_dictionary.items():\n",
    "        var_name = key.split('_')[0].upper()\n",
    "        # Do lazy transpose and add a 'features' dimension\n",
    "        transposed[key] = ds[var_name].expand_dims('features').transpose('sample', 'latitude', 'longitude', 'features')\n",
    "    # Concatenate along the new 'features' dimension (if multiple variables exist)\n",
    "    if len(transposed) > 1:\n",
    "        data = xr.concat(list(transposed.values()), dim='features',coords='minimal',compat='override')\n",
    "    else:\n",
    "        data = list(transposed.values())[0]\n",
    "    # Use the coordinates (lat_center, lon_center) from one of the datasets.\n",
    "    # They remain lazy and are not computed until needed.\n",
    "    first_key = next(iter(data_dictionary))\n",
    "    lat_center = data_dictionary[first_key]['lat_center']\n",
    "    lon_center = data_dictionary[first_key]['lon_center']\n",
    "    label = data_dictionary[first_key]['label']\n",
    "    return data, label, lat_center, lon_center\n",
    "\n"
   ]
  },
  {
   "cell_type": "code",
   "execution_count": 23,
   "id": "bec2717c-8176-447f-82ea-5b15e038ace1",
   "metadata": {
    "papermill": {
     "duration": 0.010767,
     "end_time": "2025-03-05T18:49:20.384143",
     "exception": false,
     "start_time": "2025-03-05T18:49:20.373376",
     "status": "completed"
    },
    "tags": []
   },
   "outputs": [],
   "source": [
    "def omit_nans(data, label, lat, lon):\n",
    "    # If data is an xarray DataArray, convert it to a NumPy array\n",
    "    if hasattr(data, 'values'):\n",
    "        data = data.values\n",
    "    maskarray = np.full(data.shape[0], True)\n",
    "    # Find indices where NaNs occur\n",
    "    masker = np.unique(np.argwhere(np.isnan(data))[:, 0])\n",
    "    maskarray[masker] = False\n",
    "\n",
    "    traindata = data[maskarray, ...]\n",
    "    trainlabel = label[maskarray]\n",
    "    lat_filtered = lat[maskarray]\n",
    "    lon_filtered = lon[maskarray]\n",
    "    return traindata, trainlabel, lat_filtered, lon_filtered\n",
    "\n"
   ]
  },
  {
   "cell_type": "code",
   "execution_count": 24,
   "id": "d02dbe1a-f1ba-4f9b-8fe0-d9126814ae62",
   "metadata": {
    "papermill": {
     "duration": 0.010866,
     "end_time": "2025-03-05T18:49:20.400498",
     "exception": false,
     "start_time": "2025-03-05T18:49:20.389632",
     "status": "completed"
    },
    "tags": []
   },
   "outputs": [],
   "source": [
    "def zscore(data):\n",
    "\n",
    "  \"\"\"\n",
    "\n",
    "  Rescaling the data using zscore (mean/std).\n",
    "\n",
    "  Each variable gets scaled independently from others.\n",
    "\n",
    "  Note that we will need to remove test data for formal training.\n",
    "\n",
    "  \"\"\"\n",
    "\n",
    "  for i in range(0, data_.shape[-1]):\n",
    "\n",
    "      data_[:, :, :, i] = (\n",
    "\n",
    "               data_[:, :, :, i] - np.nanmean(\n",
    "\n",
    "                     data_[:, :, :, i])) / np.nanstd(data_[:, :, :, i])\n",
    "\n",
    "  return data_"
   ]
  },
  {
   "cell_type": "code",
   "execution_count": 25,
   "id": "332bc130-a4e7-465c-a135-687f543db181",
   "metadata": {
    "papermill": {
     "duration": 0.011066,
     "end_time": "2025-03-05T18:49:20.416849",
     "exception": false,
     "start_time": "2025-03-05T18:49:20.405783",
     "status": "completed"
    },
    "tags": []
   },
   "outputs": [],
   "source": [
    "def minmax(data):\n",
    "\n",
    "   \"\"\"\n",
    "\n",
    "   Rescaling the data using min-max.\n",
    "\n",
    "   Each variable gets scaled independently from others.\n",
    "\n",
    "   Note that we will need to remove test data for formal training.\n",
    "\n",
    "   \"\"\"\n",
    "\n",
    "   for i in range(0, data_.shape[-1]):\n",
    "\n",
    "          data_[:, :, :, i] = (\n",
    "\n",
    "              data_[:, :, :, i] - np.nanmin(data_[:, :, :, i])\n",
    "\n",
    "          ) / (np.nanmax(data_[:, :, :, i]) - np.nanmin(data_[:, :, :, i]))\n",
    "   return data"
   ]
  },
  {
   "cell_type": "code",
   "execution_count": 26,
   "id": "f652c778-f81b-4c46-bf87-d60487903b73",
   "metadata": {
    "papermill": {
     "duration": 0.010904,
     "end_time": "2025-03-05T18:49:20.433062",
     "exception": false,
     "start_time": "2025-03-05T18:49:20.422158",
     "status": "completed"
    },
    "tags": []
   },
   "outputs": [],
   "source": [
    "def random_split(data, label, split=0.3, seed=0):\n",
    "\n",
    "   \"\"\"\n",
    "\n",
    "   Help spliting data randomly for training and testing.\n",
    "\n",
    "   \"\"\"\n",
    "\n",
    "   np.random.seed(0)\n",
    "\n",
    "   da_indx = np.random.permutation(data.shape[0])\n",
    "\n",
    "   data = data[da_indx.astype(int)]\n",
    "\n",
    "   label = label[da_indx.astype(int)]\n",
    "\n",
    "   init_range = int(data.shape[0] * (1 - 0.3))\n",
    "\n",
    "   return data[:init_range], label[:init_range], data[init_range:], label[init_range:]"
   ]
  },
  {
   "cell_type": "code",
   "execution_count": 27,
   "id": "c9f970b2-2444-4dba-8e66-a850482d5ea4",
   "metadata": {
    "papermill": {
     "duration": 0.010837,
     "end_time": "2025-03-05T18:49:20.449475",
     "exception": false,
     "start_time": "2025-03-05T18:49:20.438638",
     "status": "completed"
    },
    "tags": []
   },
   "outputs": [],
   "source": [
    "def pick_loss(loss_string):\n",
    "    \n",
    "\n",
    "    lossdict = {\n",
    "        \"relu\": tf.nn.relu,\n",
    "        \"tanh\": tf.nn.tanh,\n",
    "        \"selu\": tf.nn.selu,\n",
    "        \"sigmoid\": tf.nn.sigmoid,\n",
    "        \"relu6\": tf.nn.relu6,\n",
    "        \"silu\": tf.nn.silu,\n",
    "        \"gelu\": tf.nn.gelu,\n",
    "        \"lrelu\": tf.nn.leaky_relu,\n",
    "    }\n",
    "\n",
    "    return lossdict[loss_string]"
   ]
  },
  {
   "cell_type": "code",
   "execution_count": 28,
   "id": "d3e0c99e-885a-4f64-b057-0056b0ef246f",
   "metadata": {},
   "outputs": [],
   "source": [
    "def compute_saliency_map(model, input_sample):\n",
    "    \"\"\"\n",
    "    Compute a saliency map for a given input sample using a gradient-based approach.\n",
    "    \n",
    "    Args:\n",
    "        model (tf.keras.Model): The trained Keras model.\n",
    "        input_sample (numpy array): A single input sample of shape (1, height, width, channels).\n",
    "    \n",
    "    Returns:\n",
    "        saliency (numpy array): The saliency map of shape (height, width).\n",
    "    \"\"\"\n",
    "    # Ensure the model is in inference mode\n",
    "    model.trainable = False\n",
    "    input_tensor = tf.convert_to_tensor(input_sample)\n",
    "    \n",
    "    # Use GradientTape to record operations for automatic differentiation\n",
    "    with tf.GradientTape() as tape:\n",
    "        # Watch the input tensor\n",
    "        tape.watch(input_tensor)\n",
    "        # Get the model's prediction\n",
    "        prediction = model(input_tensor)\n",
    "    \n",
    "    # Compute gradients of the prediction with respect to the input\n",
    "    grads = tape.gradient(prediction, input_tensor)\n",
    "    \n",
    "    # If there are multiple channels, take the maximum absolute gradient across channels\n",
    "    saliency = np.max(np.abs(grads.numpy()), axis=-1)[0]\n",
    "    return saliency"
   ]
  },
  {
   "cell_type": "code",
   "execution_count": 29,
   "id": "9776cdc0-38bc-476f-b93d-3753a2eb6803",
   "metadata": {},
   "outputs": [],
   "source": [
    "def compute_saliency_per_channel(model, input_sample):\n",
    "    \"\"\"\n",
    "    Computes the saliency map for each channel of a given input sample.\n",
    "    \n",
    "    Args:\n",
    "        model (tf.keras.Model): The trained Keras model.\n",
    "        input_sample (numpy array): A single input sample with shape (1, H, W, C).\n",
    "        \n",
    "    Returns:\n",
    "        saliency_maps (numpy array): Absolute gradients with shape (H, W, C) for each channel.\n",
    "        channel_importance (numpy array): Mean saliency per channel (shape: (C,)).\n",
    "    \"\"\"\n",
    "    # Set the model to inference mode\n",
    "    model.trainable = False\n",
    "    input_tensor = tf.convert_to_tensor(input_sample)\n",
    "    \n",
    "    # Compute gradients with respect to the input sample using GradientTape\n",
    "    with tf.GradientTape() as tape:\n",
    "        tape.watch(input_tensor)\n",
    "        prediction = model(input_tensor)\n",
    "    \n",
    "    # Calculate gradients: shape (1, H, W, C)\n",
    "    grads = tape.gradient(prediction, input_tensor)\n",
    "    \n",
    "    # Remove the batch dimension: shape becomes (H, W, C)\n",
    "    grads = grads.numpy()[0]\n",
    "    \n",
    "    # Take absolute value to measure importance (magnitude of sensitivity)\n",
    "    saliency_maps = np.abs(grads)\n",
    "    \n",
    "    # Aggregate saliency per channel (e.g., using the mean over spatial dimensions)\n",
    "    channel_importance = np.mean(saliency_maps, axis=(0, 1))\n",
    "    \n",
    "    return saliency_maps, channel_importance"
   ]
  },
  {
   "cell_type": "code",
   "execution_count": 30,
   "id": "81aa5f1b-5513-4496-9fae-a6cde06e1aaa",
   "metadata": {
    "papermill": {
     "duration": 0.00964,
     "end_time": "2025-03-05T18:49:20.464813",
     "exception": false,
     "start_time": "2025-03-05T18:49:20.455173",
     "status": "completed"
    },
    "tags": []
   },
   "outputs": [],
   "source": [
    "number_of_features = len(var_list)"
   ]
  },
  {
   "cell_type": "code",
   "execution_count": 31,
   "id": "3490622e-a626-42aa-9cfe-020ee54d21e0",
   "metadata": {
    "papermill": {
     "duration": 758.818091,
     "end_time": "2025-03-05T19:01:59.288567",
     "exception": false,
     "start_time": "2025-03-05T18:49:20.470476",
     "status": "completed"
    },
    "tags": []
   },
   "outputs": [
    {
     "name": "stdout",
     "output_type": "stream",
     "text": [
      "Loading cape from Zarr store.\n",
      "Loading crr from Zarr store.\n",
      "Loading d_300 from Zarr store.\n",
      "Loading d_900 from Zarr store.\n",
      "Loading ie from Zarr store.\n",
      "Loading ishf from Zarr store.\n",
      "Loading lsrr from Zarr store.\n",
      "Loading pv_300 from Zarr store.\n",
      "Loading pv_900 from Zarr store.\n",
      "Loading q_300 from Zarr store.\n",
      "Loading q_900 from Zarr store.\n",
      "Loading r_300 from Zarr store.\n",
      "Loading r_900 from Zarr store.\n",
      "Loading sp from Zarr store.\n",
      "Loading sstk from Zarr store.\n",
      "Loading tcw from Zarr store.\n",
      "Loading tcwv from Zarr store.\n",
      "Loading t_300 from Zarr store.\n",
      "Loading t_900 from Zarr store.\n",
      "Loading ttr from Zarr store.\n",
      "Loading u_300 from Zarr store.\n",
      "Loading u_900 from Zarr store.\n",
      "Loading v_900 from Zarr store.\n",
      "Loading v_300 from Zarr store.\n",
      "Loading vo_300 from Zarr store.\n",
      "Loading vo_900 from Zarr store.\n",
      "Loading w_300 from Zarr store.\n",
      "Loading w_900 from Zarr store.\n"
     ]
    }
   ],
   "source": [
    "data = open_files_zarr(\n",
    "    list_of_vars=var_list,\n",
    "    aew_subset=aew_subset,\n",
    "    directory=\"/glade/derecho/scratch/rmandava/AEW_time_location_files/\",\n",
    "    plevel_list=plevel_list,\n",
    "    zarr_store_path=\"/glade/derecho/scratch/rmandava/AEW_time_location_files/Project1/zarr\"\n",
    ")\n",
    "\n",
    "\n",
    "\n",
    "\n"
   ]
  },
  {
   "cell_type": "code",
   "execution_count": null,
   "id": "51ddac3e-071b-4796-9ca6-9cb01deeb598",
   "metadata": {},
   "outputs": [],
   "source": []
  },
  {
   "cell_type": "code",
   "execution_count": 32,
   "id": "f240d4af-46d1-4cef-a5ab-2e2527a1639f",
   "metadata": {
    "papermill": {
     "duration": 185.616237,
     "end_time": "2025-03-05T19:05:04.925249",
     "exception": false,
     "start_time": "2025-03-05T19:01:59.309012",
     "status": "completed"
    },
    "tags": []
   },
   "outputs": [
    {
     "name": "stdout",
     "output_type": "stream",
     "text": [
      "(2750, 32, 32, 28)\n"
     ]
    }
   ],
   "source": [
    "# transpose the data and concat variables\n",
    "\n",
    "#data_, labels_ = transpose_load_concat(data)\n",
    "data_, labels_, sample_lat, sample_lon = transpose_load_concat(data)\n",
    "\n",
    "print(np.shape(data_))"
   ]
  },
  {
   "cell_type": "code",
   "execution_count": 33,
   "id": "a0e4f7b8-f9e0-4131-ae35-97e47bc557d0",
   "metadata": {
    "papermill": {
     "duration": 0.372532,
     "end_time": "2025-03-05T19:05:05.305951",
     "exception": false,
     "start_time": "2025-03-05T19:05:04.933419",
     "status": "completed"
    },
    "tags": []
   },
   "outputs": [],
   "source": [
    "# check / remove nans\n",
    "\n",
    "data_, labels_, sample_lat, sample_lon = omit_nans(data_, labels_, sample_lat, sample_lon)\n",
    "\n",
    "\n",
    "\n",
    "\n"
   ]
  },
  {
   "cell_type": "code",
   "execution_count": 34,
   "id": "0492935e-1f35-446b-ab16-aba0e667857b",
   "metadata": {
    "papermill": {
     "duration": 0.044227,
     "end_time": "2025-03-05T19:05:05.358050",
     "exception": false,
     "start_time": "2025-03-05T19:05:05.313823",
     "status": "completed"
    },
    "tags": []
   },
   "outputs": [
    {
     "name": "stdout",
     "output_type": "stream",
     "text": [
      "(560, 32, 32, 28) (140, 32, 32, 28) (560,) (140,)\n"
     ]
    },
    {
     "name": "stderr",
     "output_type": "stream",
     "text": [
      "/glade/u/home/rmandava/.local/lib/python3.10/site-packages/xarray/core/indexing.py:1642: PerformanceWarning: Slicing with an out-of-order index is generating 106 times more chunks\n",
      "  return self.array[key]\n",
      "/glade/u/home/rmandava/.local/lib/python3.10/site-packages/xarray/core/indexing.py:1642: PerformanceWarning: Slicing with an out-of-order index is generating 27 times more chunks\n",
      "  return self.array[key]\n"
     ]
    }
   ],
   "source": [
    "#split train and test set\n",
    "X_train, X_test, y_train, y_test, lat_train, lat_test, lon_train, lon_test = sklearn.model_selection.train_test_split(\n",
    "    data_, labels_, sample_lat, sample_lon, test_size=0.2, random_state=42)\n",
    "\n",
    "\n",
    "\n",
    "print (np.shape(X_train), np.shape(X_test), np.shape(y_train), np.shape(y_test))\n",
    "\n",
    "\n",
    "y_train = np.expand_dims(y_train, axis=1)\n",
    "\n",
    "y_test = np.expand_dims(y_test, axis=1)"
   ]
  },
  {
   "cell_type": "code",
   "execution_count": 35,
   "id": "164ee316-7c83-474b-bdb9-7c12ca165e1f",
   "metadata": {
    "papermill": {
     "duration": 0.312834,
     "end_time": "2025-03-05T19:05:05.678612",
     "exception": false,
     "start_time": "2025-03-05T19:05:05.365778",
     "status": "completed"
    },
    "tags": []
   },
   "outputs": [],
   "source": [
    "# now rescale using sklearn object\n",
    "\n",
    "# create our scaler object\n",
    "\n",
    "# scaler_input = sklearn.preprocessing.MinMaxScaler()\n",
    "\n",
    "#Zscore scaling\n",
    "\n",
    "scaler_input = sklearn.preprocessing.StandardScaler()\n",
    "\n",
    "\n",
    "# now fit and transform our input data and labels\n",
    "\n",
    "# training data\n",
    "\n",
    "# inputs\n",
    "\n",
    "X_train_tmp = np.reshape(X_train, (-1, len(var_list)))\n",
    "\n",
    "input_train_scaled = scaler_input.fit_transform(X_train_tmp)\n",
    "\n",
    "input_train_scaled = np.reshape(input_train_scaled, X_train.shape)\n",
    "\n",
    "# labels\n",
    "\n",
    "label_train_scaled = y_train\n",
    "\n",
    "\n",
    "# testing data\n",
    "\n",
    "# inputs\n",
    "\n",
    "X_test_tmp = np.reshape(X_test, (-1, len(var_list)))\n",
    "\n",
    "input_test_scaled = scaler_input.fit_transform(X_test_tmp)\n",
    "\n",
    "input_test_scaled = np.reshape(input_test_scaled, X_test.shape)\n",
    "\n",
    "# labels\n",
    "\n",
    "label_test_scaled = y_test"
   ]
  },
  {
   "cell_type": "code",
   "execution_count": 36,
   "id": "6bed418e-264b-45e6-92ee-b72c2f7a04d7",
   "metadata": {
    "papermill": {
     "duration": 0.014239,
     "end_time": "2025-03-05T19:05:05.701116",
     "exception": false,
     "start_time": "2025-03-05T19:05:05.686877",
     "status": "completed"
    },
    "tags": []
   },
   "outputs": [
    {
     "name": "stdout",
     "output_type": "stream",
     "text": [
      "(560, 32, 32, 28) (560, 1) (140, 32, 32, 28) (140, 1)\n"
     ]
    }
   ],
   "source": [
    "# print the shapes to double check them\n",
    "\n",
    "print(\n",
    "\n",
    "input_train_scaled.shape,\n",
    "\n",
    "label_train_scaled.shape,\n",
    "\n",
    "input_test_scaled.shape,\n",
    "\n",
    "label_test_scaled.shape\n",
    "\n",
    ")"
   ]
  },
  {
   "cell_type": "code",
   "execution_count": 37,
   "id": "10597eb7-f8fa-4523-a306-55d5a442d504",
   "metadata": {
    "papermill": {
     "duration": 0.017418,
     "end_time": "2025-03-05T19:05:05.726147",
     "exception": false,
     "start_time": "2025-03-05T19:05:05.708729",
     "status": "completed"
    },
    "tags": []
   },
   "outputs": [
    {
     "name": "stdout",
     "output_type": "stream",
     "text": [
      "Number of positive samples in training data: 91 (16.25% of total)\n"
     ]
    }
   ],
   "source": [
    "#generate class weights due to class imbalance issues\n",
    "\n",
    "counts = np.bincount(y_train[:, 0].astype(int))\n",
    "\n",
    "\n",
    "print(\n",
    "\n",
    "\"Number of positive samples in training data: {} ({:.2f}% of total)\".format(\n",
    "\n",
    "counts[1], 100 * float(counts[1]) / len(y_train))\n",
    "\n",
    ")"
   ]
  },
  {
   "cell_type": "code",
   "execution_count": 38,
   "id": "557d98a2-07ba-4fa7-8ba2-9ce8baa53b63",
   "metadata": {
    "papermill": {
     "duration": 0.01967,
     "end_time": "2025-03-05T19:05:05.753659",
     "exception": false,
     "start_time": "2025-03-05T19:05:05.733989",
     "status": "completed"
    },
    "tags": []
   },
   "outputs": [
    {
     "name": "stdout",
     "output_type": "stream",
     "text": [
      "{0: 0.1625, 1: 0.8375}\n"
     ]
    }
   ],
   "source": [
    "# old weights\n",
    "\n",
    "# weight_for_0 = 1.0 / counts[0]\n",
    "\n",
    "# weight_for_1 = 1.0 / counts[1]\n",
    "\n",
    "\n",
    "#new weights\n",
    "\n",
    "weight_for_0 = float(counts[1]) / len(y_train)\n",
    "\n",
    "weight_for_1 = 1 - (float(counts[1]) / len(y_train))\n",
    "\n",
    "\n",
    "class_weight = {0: weight_for_0, 1: weight_for_1}\n",
    "\n",
    "print(class_weight)"
   ]
  },
  {
   "cell_type": "code",
   "execution_count": 39,
   "id": "700f978d-cc6f-484a-864f-dcb9e703eed4",
   "metadata": {
    "papermill": {
     "duration": 1.029155,
     "end_time": "2025-03-05T19:05:06.790734",
     "exception": false,
     "start_time": "2025-03-05T19:05:05.761579",
     "status": "completed"
    },
    "tags": []
   },
   "outputs": [
    {
     "name": "stderr",
     "output_type": "stream",
     "text": [
      "2025-04-13 23:26:55.501424: E tensorflow/compiler/xla/stream_executor/cuda/cuda_driver.cc:268] failed call to cuInit: CUDA_ERROR_NO_DEVICE: no CUDA-capable device is detected\n"
     ]
    }
   ],
   "source": [
    "METRICS = [\n",
    "\n",
    "keras.metrics.BinaryCrossentropy(name='cross entropy'),\n",
    "\n",
    "keras.metrics.MeanSquaredError(name='mean_squared_error'),\n",
    "\n",
    "keras.metrics.RootMeanSquaredError(name='root_mean_squared_error'),\n",
    "\n",
    "keras.metrics.TruePositives(name='tp'),\n",
    "\n",
    "keras.metrics.FalsePositives(name='fp'),\n",
    "\n",
    "keras.metrics.TrueNegatives(name='tn'),\n",
    "\n",
    "keras.metrics.FalseNegatives(name='fn'),\n",
    "\n",
    "keras.metrics.BinaryAccuracy(name='binary_accuracy'),\n",
    "\n",
    "keras.metrics.F1Score(threshold=0.5, name='f1_score'),\n",
    "\n",
    "keras.metrics.Precision(name='precision'),\n",
    "\n",
    "keras.metrics.Recall(name='recall'),\n",
    "\n",
    "keras.metrics.AUC(name='auc'),\n",
    "\n",
    "keras.metrics.AUC(name='prc', curve='PR'),\n",
    "\n",
    "]"
   ]
  },
  {
   "cell_type": "code",
   "execution_count": 40,
   "id": "6bc9aab7-2558-4304-a6c7-5809d60e8437",
   "metadata": {
    "papermill": {
     "duration": 0.030448,
     "end_time": "2025-03-05T19:05:06.829775",
     "exception": false,
     "start_time": "2025-03-05T19:05:06.799327",
     "status": "completed"
    },
    "tags": []
   },
   "outputs": [],
   "source": [
    "# Build CNN using keras-tuner\n",
    "\n",
    "class MyHyperModel(keras_tuner.HyperModel):\n",
    "    def build(self, hp):\n",
    "        # start building model\n",
    "        model = keras.Sequential()\n",
    "\n",
    "        # input\n",
    "        model.add(keras.Input(shape=(32, 32, number_of_features)))  # 32x32 images\n",
    "\n",
    "        # data augmentation layers\n",
    "        model.add(layers.RandomFlip(\"horizontal_and_vertical\"))\n",
    "        model.add(layers.RandomRotation(factor=(-0.5, 0.5)))\n",
    "\n",
    "        # things to tune\n",
    "        featmaps1 = hp.Int('units_1', min_value=10, max_value=60)\n",
    "        featmaps2 = hp.Int('units_2', min_value=10, max_value=64)\n",
    "        featmaps3 = hp.Int('units_3', min_value=10, max_value=128)\n",
    "        featmaps4 = hp.Int('units_4', min_value=10, max_value=80)\n",
    "        learning_rate = hp.Float(\"lr\", min_value=0.00001, max_value=0.01, sampling=\"linear\")\n",
    "        act_func = hp.Choice(\n",
    "            \"activation\",\n",
    "            [\"relu\", \"tanh\", \"selu\", \"sigmoid\", \"relu6\", \"silu\", \"gelu\"]\n",
    "        )\n",
    "\n",
    "        # hidden layers\n",
    "        model.add(layers.Conv2D(featmaps1, 3, strides=1, padding=\"same\", activation=pick_loss(act_func)))\n",
    "        model.add(layers.MaxPooling2D(2))\n",
    "        model.add(layers.Dropout(0.2))\n",
    "\n",
    "        model.add(layers.Conv2D(featmaps2, 3, strides=1, padding=\"same\", activation=pick_loss(act_func)))\n",
    "        model.add(layers.MaxPooling2D(2))\n",
    "        model.add(layers.Dropout(0.2))\n",
    "\n",
    "        model.add(layers.Conv2D(featmaps3, 3, strides=1, padding=\"same\", activation=pick_loss(act_func)))\n",
    "        model.add(layers.MaxPooling2D(2))\n",
    "        model.add(layers.Dropout(0.2))\n",
    "\n",
    "        # Now that we have 4x4 feature maps, now apply global max pooling.\n",
    "        model.add(layers.GlobalMaxPooling2D())\n",
    "\n",
    "        # Finally, we add last fully connected (dense) layers\n",
    "        model.add(layers.Dense(featmaps4))\n",
    "        model.add(layers.Dense(1, activation=\"sigmoid\"))\n",
    "\n",
    "        model.compile(\n",
    "            optimizer=keras.optimizers.Adam(learning_rate=learning_rate),\n",
    "            loss=f1_loss_sigmoid,\n",
    "            metrics=METRICS\n",
    "        )\n",
    "        return model\n"
   ]
  },
  {
   "cell_type": "code",
   "execution_count": 41,
   "id": "e68e967f-623f-4332-a38c-57359b8121c3",
   "metadata": {
    "papermill": {
     "duration": 0.018907,
     "end_time": "2025-03-05T19:05:06.856235",
     "exception": false,
     "start_time": "2025-03-05T19:05:06.837328",
     "status": "completed"
    },
    "tags": []
   },
   "outputs": [],
   "source": [
    "def fit(self, hp, model, *args, **kwargs):\n",
    "    batchsizenum = hp.Int('batch_size', min_value=10, max_value=60, step=5, sampling=\"linear\")\n",
    "\n",
    "    print({k: hp.get(k) if hp.is_active(k) else None for k in hp._hps})\n",
    "\n",
    "    return model.fit(\n",
    "        *args,\n",
    "        batch_size=batchsizenum,\n",
    "        # normally we might use early stopping, but not needed since\n",
    "        # callbacks saves checkpoints of the model during trials\n",
    "        # callbacks=keras.callbacks.EarlyStopping('val_loss', patience=5),\n",
    "        validation_split=0.1,\n",
    "        shuffle=True,\n",
    "        class_weight=class_weight,\n",
    "        **kwargs,\n",
    "    )\n"
   ]
  },
  {
   "cell_type": "code",
   "execution_count": 42,
   "id": "4b0947fd-6eb0-4f20-8b0f-2f5d11ab5b3b",
   "metadata": {
    "editable": true,
    "papermill": {
     "duration": 0.379052,
     "end_time": "2025-03-05T19:05:07.243192",
     "exception": false,
     "start_time": "2025-03-05T19:05:06.864140",
     "status": "completed"
    },
    "slideshow": {
     "slide_type": ""
    },
    "tags": [
     "Parameters",
     "parameters"
    ]
   },
   "outputs": [
    {
     "name": "stdout",
     "output_type": "stream",
     "text": [
      "Search space summary\n",
      "Default search space size: 6\n",
      "units_1 (Int)\n",
      "{'default': None, 'conditions': [], 'min_value': 10, 'max_value': 60, 'step': 1, 'sampling': 'linear'}\n",
      "units_2 (Int)\n",
      "{'default': None, 'conditions': [], 'min_value': 10, 'max_value': 64, 'step': 1, 'sampling': 'linear'}\n",
      "units_3 (Int)\n",
      "{'default': None, 'conditions': [], 'min_value': 10, 'max_value': 128, 'step': 1, 'sampling': 'linear'}\n",
      "units_4 (Int)\n",
      "{'default': None, 'conditions': [], 'min_value': 10, 'max_value': 80, 'step': 1, 'sampling': 'linear'}\n",
      "lr (Float)\n",
      "{'default': 1e-05, 'conditions': [], 'min_value': 1e-05, 'max_value': 0.01, 'step': None, 'sampling': 'linear'}\n",
      "activation (Choice)\n",
      "{'default': 'relu', 'conditions': [], 'values': ['relu', 'tanh', 'selu', 'sigmoid', 'relu6', 'silu', 'gelu'], 'ordered': False}\n"
     ]
    }
   ],
   "source": [
    "# make the tuner object\n",
    "tuner = keras_tuner.BayesianOptimization(\n",
    "    hypermodel=MyHyperModel(),\n",
    "    objective=keras_tuner.Objective(\"val_mean_squared_error\", direction=\"min\"),\n",
    "    max_trials=500,\n",
    "    project_name=tuner_project_name,    # Use the passed parameter\n",
    "    alpha=0.0001,\n",
    "    beta=2.6,\n",
    "    seed=123,\n",
    "    tune_new_entries=True,\n",
    "    allow_new_entries=True,\n",
    "    max_retries_per_trial=1,\n",
    "    max_consecutive_failed_trials=3,\n",
    "    overwrite=True\n",
    ")\n",
    "\n",
    "# summary\n",
    "tuner.search_space_summary()\n"
   ]
  },
  {
   "cell_type": "code",
   "execution_count": 43,
   "id": "ff5a6396-3b45-4ae6-91ad-62b07260777e",
   "metadata": {
    "papermill": {
     "duration": 6055.188829,
     "end_time": "2025-03-05T20:46:02.439902",
     "exception": false,
     "start_time": "2025-03-05T19:05:07.251073",
     "status": "completed"
    },
    "tags": []
   },
   "outputs": [
    {
     "name": "stdout",
     "output_type": "stream",
     "text": [
      "Trial 92 Complete [00h 00m 26s]\n",
      "val_mean_squared_error: 0.117434062063694\n",
      "\n",
      "Best val_mean_squared_error So Far: 0.05420392006635666\n",
      "Total elapsed time: 00h 38m 01s\n",
      "\n",
      "Search: Running Trial #93\n",
      "\n",
      "Value             |Best Value So Far |Hyperparameter\n",
      "10                |49                |units_1\n",
      "27                |21                |units_2\n",
      "10                |25                |units_3\n",
      "61                |80                |units_4\n",
      "1e-05             |0.0022148         |lr\n",
      "sigmoid           |relu              |activation\n",
      "\n",
      "Epoch 1/100\n",
      "16/16 [==============================] - 2s 33ms/step - loss: 0.7749 - cross entropy: 105.5697 - mean_squared_error: 0.1793 - root_mean_squared_error: 0.4234 - tp: 2.0000 - fp: 6.0000 - tn: 463.0000 - fn: 89.0000 - binary_accuracy: 0.8304 - f1_score: 0.0404 - precision: 0.2500 - recall: 0.0220 - auc: 0.5849 - prc: 0.2186 - val_loss: 0.8309 - val_cross entropy: 0.5685 - val_mean_squared_error: 0.1883 - val_root_mean_squared_error: 0.4339 - val_tp: 0.0000e+00 - val_fp: 0.0000e+00 - val_tn: 50.0000 - val_fn: 6.0000 - val_binary_accuracy: 0.8929 - val_f1_score: 0.0000e+00 - val_precision: 0.0000e+00 - val_recall: 0.0000e+00 - val_auc: 0.4433 - val_prc: 0.0905\n",
      "Epoch 2/100\n",
      "16/16 [==============================] - 0s 10ms/step - loss: 0.7761 - cross entropy: 0.5535 - mean_squared_error: 0.1815 - root_mean_squared_error: 0.4261 - tp: 0.0000e+00 - fp: 0.0000e+00 - tn: 419.0000 - fn: 85.0000 - binary_accuracy: 0.8313 - f1_score: 0.0000e+00 - precision: 0.0000e+00 - recall: 0.0000e+00 - auc: 0.4937 - prc: 0.1576 - val_loss: 0.8306 - val_cross entropy: 0.5730 - val_mean_squared_error: 0.1905 - val_root_mean_squared_error: 0.4364 - val_tp: 0.0000e+00 - val_fp: 0.0000e+00 - val_tn: 50.0000 - val_fn: 6.0000 - val_binary_accuracy: 0.8929 - val_f1_score: 0.0000e+00 - val_precision: 0.0000e+00 - val_recall: 0.0000e+00 - val_auc: 0.5333 - val_prc: 0.1260\n",
      "Epoch 3/100\n",
      "16/16 [==============================] - 0s 10ms/step - loss: 0.7743 - cross entropy: 0.5577 - mean_squared_error: 0.1835 - root_mean_squared_error: 0.4284 - tp: 0.0000e+00 - fp: 0.0000e+00 - tn: 419.0000 - fn: 85.0000 - binary_accuracy: 0.8313 - f1_score: 0.0000e+00 - precision: 0.0000e+00 - recall: 0.0000e+00 - auc: 0.4608 - prc: 0.1504 - val_loss: 0.8303 - val_cross entropy: 0.5774 - val_mean_squared_error: 0.1926 - val_root_mean_squared_error: 0.4389 - val_tp: 0.0000e+00 - val_fp: 0.0000e+00 - val_tn: 50.0000 - val_fn: 6.0000 - val_binary_accuracy: 0.8929 - val_f1_score: 0.0000e+00 - val_precision: 0.0000e+00 - val_recall: 0.0000e+00 - val_auc: 0.5400 - val_prc: 0.1154\n",
      "Epoch 4/100\n",
      "16/16 [==============================] - 0s 10ms/step - loss: 0.7720 - cross entropy: 0.5621 - mean_squared_error: 0.1856 - root_mean_squared_error: 0.4308 - tp: 0.0000e+00 - fp: 0.0000e+00 - tn: 419.0000 - fn: 85.0000 - binary_accuracy: 0.8313 - f1_score: 0.0000e+00 - precision: 0.0000e+00 - recall: 0.0000e+00 - auc: 0.4451 - prc: 0.1463 - val_loss: 0.8300 - val_cross entropy: 0.5821 - val_mean_squared_error: 0.1949 - val_root_mean_squared_error: 0.4415 - val_tp: 0.0000e+00 - val_fp: 0.0000e+00 - val_tn: 50.0000 - val_fn: 6.0000 - val_binary_accuracy: 0.8929 - val_f1_score: 0.0000e+00 - val_precision: 0.0000e+00 - val_recall: 0.0000e+00 - val_auc: 0.4700 - val_prc: 0.0999\n",
      "Epoch 5/100\n",
      "16/16 [==============================] - 0s 11ms/step - loss: 0.7743 - cross entropy: 0.5670 - mean_squared_error: 0.1879 - root_mean_squared_error: 0.4335 - tp: 0.0000e+00 - fp: 0.0000e+00 - tn: 419.0000 - fn: 85.0000 - binary_accuracy: 0.8313 - f1_score: 0.0000e+00 - precision: 0.0000e+00 - recall: 0.0000e+00 - auc: 0.4307 - prc: 0.1409 - val_loss: 0.8296 - val_cross entropy: 0.5868 - val_mean_squared_error: 0.1972 - val_root_mean_squared_error: 0.4441 - val_tp: 0.0000e+00 - val_fp: 0.0000e+00 - val_tn: 50.0000 - val_fn: 6.0000 - val_binary_accuracy: 0.8929 - val_f1_score: 0.0000e+00 - val_precision: 0.0000e+00 - val_recall: 0.0000e+00 - val_auc: 0.4933 - val_prc: 0.1045\n",
      "Epoch 6/100\n",
      "16/16 [==============================] - 0s 12ms/step - loss: 0.7684 - cross entropy: 0.5709 - mean_squared_error: 0.1898 - root_mean_squared_error: 0.4356 - tp: 0.0000e+00 - fp: 0.0000e+00 - tn: 419.0000 - fn: 85.0000 - binary_accuracy: 0.8313 - f1_score: 0.0000e+00 - precision: 0.0000e+00 - recall: 0.0000e+00 - auc: 0.4985 - prc: 0.1686 - val_loss: 0.8293 - val_cross entropy: 0.5917 - val_mean_squared_error: 0.1996 - val_root_mean_squared_error: 0.4468 - val_tp: 0.0000e+00 - val_fp: 0.0000e+00 - val_tn: 50.0000 - val_fn: 6.0000 - val_binary_accuracy: 0.8929 - val_f1_score: 0.0000e+00 - val_precision: 0.0000e+00 - val_recall: 0.0000e+00 - val_auc: 0.5833 - val_prc: 0.2979\n",
      "Epoch 7/100\n",
      "16/16 [==============================] - 0s 10ms/step - loss: 0.7704 - cross entropy: 0.5755 - mean_squared_error: 0.1920 - root_mean_squared_error: 0.4381 - tp: 0.0000e+00 - fp: 0.0000e+00 - tn: 419.0000 - fn: 85.0000 - binary_accuracy: 0.8313 - f1_score: 0.0000e+00 - precision: 0.0000e+00 - recall: 0.0000e+00 - auc: 0.5055 - prc: 0.1685 - val_loss: 0.8290 - val_cross entropy: 0.5967 - val_mean_squared_error: 0.2020 - val_root_mean_squared_error: 0.4495 - val_tp: 0.0000e+00 - val_fp: 0.0000e+00 - val_tn: 50.0000 - val_fn: 6.0000 - val_binary_accuracy: 0.8929 - val_f1_score: 0.0000e+00 - val_precision: 0.0000e+00 - val_recall: 0.0000e+00 - val_auc: 0.5700 - val_prc: 0.1224\n",
      "Epoch 8/100\n",
      "16/16 [==============================] - 0s 12ms/step - loss: 0.7687 - cross entropy: 0.5803 - mean_squared_error: 0.1943 - root_mean_squared_error: 0.4408 - tp: 0.0000e+00 - fp: 0.0000e+00 - tn: 419.0000 - fn: 85.0000 - binary_accuracy: 0.8313 - f1_score: 0.0000e+00 - precision: 0.0000e+00 - recall: 0.0000e+00 - auc: 0.4591 - prc: 0.1637 - val_loss: 0.8287 - val_cross entropy: 0.6012 - val_mean_squared_error: 0.2042 - val_root_mean_squared_error: 0.4519 - val_tp: 0.0000e+00 - val_fp: 0.0000e+00 - val_tn: 50.0000 - val_fn: 6.0000 - val_binary_accuracy: 0.8929 - val_f1_score: 0.0000e+00 - val_precision: 0.0000e+00 - val_recall: 0.0000e+00 - val_auc: 0.6200 - val_prc: 0.1594\n",
      "Epoch 9/100\n",
      "16/16 [==============================] - 0s 10ms/step - loss: 0.7691 - cross entropy: 0.5856 - mean_squared_error: 0.1968 - root_mean_squared_error: 0.4437 - tp: 0.0000e+00 - fp: 0.0000e+00 - tn: 419.0000 - fn: 85.0000 - binary_accuracy: 0.8313 - f1_score: 0.0000e+00 - precision: 0.0000e+00 - recall: 0.0000e+00 - auc: 0.4517 - prc: 0.1411 - val_loss: 0.8284 - val_cross entropy: 0.6064 - val_mean_squared_error: 0.2068 - val_root_mean_squared_error: 0.4548 - val_tp: 0.0000e+00 - val_fp: 0.0000e+00 - val_tn: 50.0000 - val_fn: 6.0000 - val_binary_accuracy: 0.8929 - val_f1_score: 0.0000e+00 - val_precision: 0.0000e+00 - val_recall: 0.0000e+00 - val_auc: 0.5233 - val_prc: 0.1189\n",
      "Epoch 10/100\n",
      "16/16 [==============================] - 0s 12ms/step - loss: 0.7685 - cross entropy: 0.5902 - mean_squared_error: 0.1990 - root_mean_squared_error: 0.4461 - tp: 0.0000e+00 - fp: 0.0000e+00 - tn: 419.0000 - fn: 85.0000 - binary_accuracy: 0.8313 - f1_score: 0.0000e+00 - precision: 0.0000e+00 - recall: 0.0000e+00 - auc: 0.5118 - prc: 0.1668 - val_loss: 0.8281 - val_cross entropy: 0.6114 - val_mean_squared_error: 0.2093 - val_root_mean_squared_error: 0.4575 - val_tp: 0.0000e+00 - val_fp: 0.0000e+00 - val_tn: 50.0000 - val_fn: 6.0000 - val_binary_accuracy: 0.8929 - val_f1_score: 0.0000e+00 - val_precision: 0.0000e+00 - val_recall: 0.0000e+00 - val_auc: 0.5100 - val_prc: 0.1091\n",
      "Epoch 11/100\n",
      "16/16 [==============================] - 0s 11ms/step - loss: 0.7689 - cross entropy: 0.5943 - mean_squared_error: 0.2010 - root_mean_squared_error: 0.4484 - tp: 0.0000e+00 - fp: 0.0000e+00 - tn: 419.0000 - fn: 85.0000 - binary_accuracy: 0.8313 - f1_score: 0.0000e+00 - precision: 0.0000e+00 - recall: 0.0000e+00 - auc: 0.5330 - prc: 0.1850 - val_loss: 0.8279 - val_cross entropy: 0.6159 - val_mean_squared_error: 0.2115 - val_root_mean_squared_error: 0.4599 - val_tp: 0.0000e+00 - val_fp: 0.0000e+00 - val_tn: 50.0000 - val_fn: 6.0000 - val_binary_accuracy: 0.8929 - val_f1_score: 0.0000e+00 - val_precision: 0.0000e+00 - val_recall: 0.0000e+00 - val_auc: 0.6067 - val_prc: 0.1359\n",
      "Epoch 12/100\n",
      "16/16 [==============================] - 0s 10ms/step - loss: 0.7657 - cross entropy: 0.5991 - mean_squared_error: 0.2033 - root_mean_squared_error: 0.4509 - tp: 0.0000e+00 - fp: 0.0000e+00 - tn: 419.0000 - fn: 85.0000 - binary_accuracy: 0.8313 - f1_score: 0.0000e+00 - precision: 0.0000e+00 - recall: 0.0000e+00 - auc: 0.5331 - prc: 0.1851 - val_loss: 0.8276 - val_cross entropy: 0.6212 - val_mean_squared_error: 0.2141 - val_root_mean_squared_error: 0.4627 - val_tp: 0.0000e+00 - val_fp: 0.0000e+00 - val_tn: 50.0000 - val_fn: 6.0000 - val_binary_accuracy: 0.8929 - val_f1_score: 0.0000e+00 - val_precision: 0.0000e+00 - val_recall: 0.0000e+00 - val_auc: 0.5467 - val_prc: 0.1258\n",
      "Epoch 13/100\n",
      "16/16 [==============================] - 0s 10ms/step - loss: 0.7679 - cross entropy: 0.6035 - mean_squared_error: 0.2055 - root_mean_squared_error: 0.4533 - tp: 0.0000e+00 - fp: 0.0000e+00 - tn: 419.0000 - fn: 85.0000 - binary_accuracy: 0.8313 - f1_score: 0.0000e+00 - precision: 0.0000e+00 - recall: 0.0000e+00 - auc: 0.5872 - prc: 0.1944 - val_loss: 0.8274 - val_cross entropy: 0.6259 - val_mean_squared_error: 0.2165 - val_root_mean_squared_error: 0.4652 - val_tp: 0.0000e+00 - val_fp: 0.0000e+00 - val_tn: 50.0000 - val_fn: 6.0000 - val_binary_accuracy: 0.8929 - val_f1_score: 0.0000e+00 - val_precision: 0.0000e+00 - val_recall: 0.0000e+00 - val_auc: 0.5000 - val_prc: 0.1071\n",
      "Epoch 14/100\n",
      "16/16 [==============================] - 0s 10ms/step - loss: 0.7662 - cross entropy: 0.6091 - mean_squared_error: 0.2082 - root_mean_squared_error: 0.4563 - tp: 0.0000e+00 - fp: 0.0000e+00 - tn: 419.0000 - fn: 85.0000 - binary_accuracy: 0.8313 - f1_score: 0.0000e+00 - precision: 0.0000e+00 - recall: 0.0000e+00 - auc: 0.5566 - prc: 0.2250 - val_loss: 0.8271 - val_cross entropy: 0.6309 - val_mean_squared_error: 0.2190 - val_root_mean_squared_error: 0.4679 - val_tp: 0.0000e+00 - val_fp: 0.0000e+00 - val_tn: 50.0000 - val_fn: 6.0000 - val_binary_accuracy: 0.8929 - val_f1_score: 0.0000e+00 - val_precision: 0.0000e+00 - val_recall: 0.0000e+00 - val_auc: 0.6100 - val_prc: 0.1333\n",
      "Epoch 15/100\n",
      "16/16 [==============================] - 0s 10ms/step - loss: 0.7626 - cross entropy: 0.6154 - mean_squared_error: 0.2113 - root_mean_squared_error: 0.4597 - tp: 0.0000e+00 - fp: 0.0000e+00 - tn: 419.0000 - fn: 85.0000 - binary_accuracy: 0.8313 - f1_score: 0.0000e+00 - precision: 0.0000e+00 - recall: 0.0000e+00 - auc: 0.4831 - prc: 0.1677 - val_loss: 0.8268 - val_cross entropy: 0.6360 - val_mean_squared_error: 0.2215 - val_root_mean_squared_error: 0.4706 - val_tp: 0.0000e+00 - val_fp: 0.0000e+00 - val_tn: 50.0000 - val_fn: 6.0000 - val_binary_accuracy: 0.8929 - val_f1_score: 0.0000e+00 - val_precision: 0.0000e+00 - val_recall: 0.0000e+00 - val_auc: 0.6633 - val_prc: 0.1722\n",
      "Epoch 16/100\n",
      "16/16 [==============================] - 0s 10ms/step - loss: 0.7635 - cross entropy: 0.6213 - mean_squared_error: 0.2143 - root_mean_squared_error: 0.4629 - tp: 0.0000e+00 - fp: 0.0000e+00 - tn: 419.0000 - fn: 85.0000 - binary_accuracy: 0.8313 - f1_score: 0.0000e+00 - precision: 0.0000e+00 - recall: 0.0000e+00 - auc: 0.4383 - prc: 0.1457 - val_loss: 0.8266 - val_cross entropy: 0.6411 - val_mean_squared_error: 0.2240 - val_root_mean_squared_error: 0.4733 - val_tp: 0.0000e+00 - val_fp: 0.0000e+00 - val_tn: 50.0000 - val_fn: 6.0000 - val_binary_accuracy: 0.8929 - val_f1_score: 0.0000e+00 - val_precision: 0.0000e+00 - val_recall: 0.0000e+00 - val_auc: 0.5533 - val_prc: 0.1478\n",
      "Epoch 17/100\n",
      "16/16 [==============================] - 0s 10ms/step - loss: 0.7609 - cross entropy: 0.6252 - mean_squared_error: 0.2162 - root_mean_squared_error: 0.4649 - tp: 0.0000e+00 - fp: 0.0000e+00 - tn: 419.0000 - fn: 85.0000 - binary_accuracy: 0.8313 - f1_score: 0.0000e+00 - precision: 0.0000e+00 - recall: 0.0000e+00 - auc: 0.4947 - prc: 0.1718 - val_loss: 0.8263 - val_cross entropy: 0.6458 - val_mean_squared_error: 0.2263 - val_root_mean_squared_error: 0.4757 - val_tp: 0.0000e+00 - val_fp: 0.0000e+00 - val_tn: 50.0000 - val_fn: 6.0000 - val_binary_accuracy: 0.8929 - val_f1_score: 0.0000e+00 - val_precision: 0.0000e+00 - val_recall: 0.0000e+00 - val_auc: 0.5300 - val_prc: 0.1132\n",
      "Epoch 18/100\n",
      "16/16 [==============================] - 0s 10ms/step - loss: 0.7619 - cross entropy: 0.6310 - mean_squared_error: 0.2190 - root_mean_squared_error: 0.4680 - tp: 0.0000e+00 - fp: 0.0000e+00 - tn: 419.0000 - fn: 85.0000 - binary_accuracy: 0.8313 - f1_score: 0.0000e+00 - precision: 0.0000e+00 - recall: 0.0000e+00 - auc: 0.4786 - prc: 0.1537 - val_loss: 0.8261 - val_cross entropy: 0.6509 - val_mean_squared_error: 0.2289 - val_root_mean_squared_error: 0.4785 - val_tp: 0.0000e+00 - val_fp: 0.0000e+00 - val_tn: 50.0000 - val_fn: 6.0000 - val_binary_accuracy: 0.8929 - val_f1_score: 0.0000e+00 - val_precision: 0.0000e+00 - val_recall: 0.0000e+00 - val_auc: 0.6033 - val_prc: 0.1397\n",
      "Epoch 19/100\n",
      "16/16 [==============================] - 0s 11ms/step - loss: 0.7594 - cross entropy: 0.6353 - mean_squared_error: 0.2211 - root_mean_squared_error: 0.4703 - tp: 0.0000e+00 - fp: 0.0000e+00 - tn: 419.0000 - fn: 85.0000 - binary_accuracy: 0.8313 - f1_score: 0.0000e+00 - precision: 0.0000e+00 - recall: 0.0000e+00 - auc: 0.5379 - prc: 0.1799 - val_loss: 0.8259 - val_cross entropy: 0.6553 - val_mean_squared_error: 0.2311 - val_root_mean_squared_error: 0.4807 - val_tp: 0.0000e+00 - val_fp: 0.0000e+00 - val_tn: 50.0000 - val_fn: 6.0000 - val_binary_accuracy: 0.8929 - val_f1_score: 0.0000e+00 - val_precision: 0.0000e+00 - val_recall: 0.0000e+00 - val_auc: 0.4900 - val_prc: 0.1011\n",
      "Epoch 20/100\n",
      "16/16 [==============================] - 0s 10ms/step - loss: 0.7565 - cross entropy: 0.6408 - mean_squared_error: 0.2239 - root_mean_squared_error: 0.4732 - tp: 0.0000e+00 - fp: 0.0000e+00 - tn: 419.0000 - fn: 85.0000 - binary_accuracy: 0.8313 - f1_score: 0.0000e+00 - precision: 0.0000e+00 - recall: 0.0000e+00 - auc: 0.4962 - prc: 0.1705 - val_loss: 0.8257 - val_cross entropy: 0.6605 - val_mean_squared_error: 0.2337 - val_root_mean_squared_error: 0.4834 - val_tp: 0.0000e+00 - val_fp: 0.0000e+00 - val_tn: 50.0000 - val_fn: 6.0000 - val_binary_accuracy: 0.8929 - val_f1_score: 0.0000e+00 - val_precision: 0.0000e+00 - val_recall: 0.0000e+00 - val_auc: 0.5600 - val_prc: 0.1200\n",
      "Epoch 21/100\n",
      "16/16 [==============================] - 0s 10ms/step - loss: 0.7621 - cross entropy: 0.6461 - mean_squared_error: 0.2265 - root_mean_squared_error: 0.4759 - tp: 0.0000e+00 - fp: 0.0000e+00 - tn: 419.0000 - fn: 85.0000 - binary_accuracy: 0.8313 - f1_score: 0.0000e+00 - precision: 0.0000e+00 - recall: 0.0000e+00 - auc: 0.5447 - prc: 0.1998 - val_loss: 0.8254 - val_cross entropy: 0.6658 - val_mean_squared_error: 0.2363 - val_root_mean_squared_error: 0.4861 - val_tp: 0.0000e+00 - val_fp: 0.0000e+00 - val_tn: 50.0000 - val_fn: 6.0000 - val_binary_accuracy: 0.8929 - val_f1_score: 0.0000e+00 - val_precision: 0.0000e+00 - val_recall: 0.0000e+00 - val_auc: 0.6033 - val_prc: 0.1397\n",
      "Epoch 22/100\n",
      "16/16 [==============================] - 0s 10ms/step - loss: 0.7615 - cross entropy: 0.6528 - mean_squared_error: 0.2299 - root_mean_squared_error: 0.4795 - tp: 0.0000e+00 - fp: 0.0000e+00 - tn: 419.0000 - fn: 85.0000 - binary_accuracy: 0.8313 - f1_score: 0.0000e+00 - precision: 0.0000e+00 - recall: 0.0000e+00 - auc: 0.4204 - prc: 0.1391 - val_loss: 0.8252 - val_cross entropy: 0.6710 - val_mean_squared_error: 0.2389 - val_root_mean_squared_error: 0.4888 - val_tp: 0.0000e+00 - val_fp: 0.0000e+00 - val_tn: 50.0000 - val_fn: 6.0000 - val_binary_accuracy: 0.8929 - val_f1_score: 0.0000e+00 - val_precision: 0.0000e+00 - val_recall: 0.0000e+00 - val_auc: 0.5533 - val_prc: 0.1478\n",
      "Epoch 23/100\n",
      "16/16 [==============================] - 0s 10ms/step - loss: 0.7548 - cross entropy: 0.6577 - mean_squared_error: 0.2323 - root_mean_squared_error: 0.4820 - tp: 0.0000e+00 - fp: 0.0000e+00 - tn: 419.0000 - fn: 85.0000 - binary_accuracy: 0.8313 - f1_score: 0.0000e+00 - precision: 0.0000e+00 - recall: 0.0000e+00 - auc: 0.4975 - prc: 0.1698 - val_loss: 0.8250 - val_cross entropy: 0.6761 - val_mean_squared_error: 0.2415 - val_root_mean_squared_error: 0.4914 - val_tp: 0.0000e+00 - val_fp: 0.0000e+00 - val_tn: 50.0000 - val_fn: 6.0000 - val_binary_accuracy: 0.8929 - val_f1_score: 0.0000e+00 - val_precision: 0.0000e+00 - val_recall: 0.0000e+00 - val_auc: 0.5400 - val_prc: 0.1154\n",
      "Epoch 24/100\n",
      "16/16 [==============================] - 0s 10ms/step - loss: 0.7575 - cross entropy: 0.6636 - mean_squared_error: 0.2352 - root_mean_squared_error: 0.4850 - tp: 0.0000e+00 - fp: 0.0000e+00 - tn: 419.0000 - fn: 85.0000 - binary_accuracy: 0.8313 - f1_score: 0.0000e+00 - precision: 0.0000e+00 - recall: 0.0000e+00 - auc: 0.4557 - prc: 0.1488 - val_loss: 0.8248 - val_cross entropy: 0.6810 - val_mean_squared_error: 0.2439 - val_root_mean_squared_error: 0.4939 - val_tp: 0.0000e+00 - val_fp: 0.0000e+00 - val_tn: 50.0000 - val_fn: 6.0000 - val_binary_accuracy: 0.8929 - val_f1_score: 0.0000e+00 - val_precision: 0.0000e+00 - val_recall: 0.0000e+00 - val_auc: 0.6033 - val_prc: 0.1397\n",
      "Epoch 25/100\n",
      "16/16 [==============================] - 0s 10ms/step - loss: 0.7562 - cross entropy: 0.6683 - mean_squared_error: 0.2376 - root_mean_squared_error: 0.4874 - tp: 0.0000e+00 - fp: 0.0000e+00 - tn: 419.0000 - fn: 85.0000 - binary_accuracy: 0.8313 - f1_score: 0.0000e+00 - precision: 0.0000e+00 - recall: 0.0000e+00 - auc: 0.4676 - prc: 0.1640 - val_loss: 0.8245 - val_cross entropy: 0.6862 - val_mean_squared_error: 0.2465 - val_root_mean_squared_error: 0.4965 - val_tp: 0.0000e+00 - val_fp: 0.0000e+00 - val_tn: 50.0000 - val_fn: 6.0000 - val_binary_accuracy: 0.8929 - val_f1_score: 0.0000e+00 - val_precision: 0.0000e+00 - val_recall: 0.0000e+00 - val_auc: 0.4800 - val_prc: 0.0974\n",
      "Epoch 26/100\n",
      "16/16 [==============================] - 0s 10ms/step - loss: 0.7577 - cross entropy: 0.6744 - mean_squared_error: 0.2406 - root_mean_squared_error: 0.4905 - tp: 0.0000e+00 - fp: 4.0000 - tn: 415.0000 - fn: 85.0000 - binary_accuracy: 0.8234 - f1_score: 0.0000e+00 - precision: 0.0000e+00 - recall: 0.0000e+00 - auc: 0.5511 - prc: 0.1979 - val_loss: 0.8243 - val_cross entropy: 0.6918 - val_mean_squared_error: 0.2493 - val_root_mean_squared_error: 0.4993 - val_tp: 3.0000 - val_fp: 12.0000 - val_tn: 38.0000 - val_fn: 3.0000 - val_binary_accuracy: 0.7321 - val_f1_score: 0.2857 - val_precision: 0.2000 - val_recall: 0.5000 - val_auc: 0.5400 - val_prc: 0.1154\n",
      "Epoch 27/100\n",
      "16/16 [==============================] - 0s 10ms/step - loss: 0.7575 - cross entropy: 0.6810 - mean_squared_error: 0.2439 - root_mean_squared_error: 0.4939 - tp: 10.0000 - fp: 21.0000 - tn: 398.0000 - fn: 75.0000 - binary_accuracy: 0.8095 - f1_score: 0.1724 - precision: 0.3226 - recall: 0.1176 - auc: 0.4733 - prc: 0.1807 - val_loss: 0.8241 - val_cross entropy: 0.6968 - val_mean_squared_error: 0.2518 - val_root_mean_squared_error: 0.5018 - val_tp: 6.0000 - val_fp: 50.0000 - val_tn: 0.0000e+00 - val_fn: 0.0000e+00 - val_binary_accuracy: 0.1071 - val_f1_score: 0.1935 - val_precision: 0.1071 - val_recall: 1.0000 - val_auc: 0.5933 - val_prc: 0.1356\n",
      "Epoch 28/100\n",
      "16/16 [==============================] - 0s 11ms/step - loss: 0.7540 - cross entropy: 0.6860 - mean_squared_error: 0.2464 - root_mean_squared_error: 0.4964 - tp: 11.0000 - fp: 68.0000 - tn: 351.0000 - fn: 74.0000 - binary_accuracy: 0.7183 - f1_score: 0.1341 - precision: 0.1392 - recall: 0.1294 - auc: 0.4829 - prc: 0.1781 - val_loss: 0.8239 - val_cross entropy: 0.7018 - val_mean_squared_error: 0.2543 - val_root_mean_squared_error: 0.5043 - val_tp: 6.0000 - val_fp: 50.0000 - val_tn: 0.0000e+00 - val_fn: 0.0000e+00 - val_binary_accuracy: 0.1071 - val_f1_score: 0.1935 - val_precision: 0.1071 - val_recall: 1.0000 - val_auc: 0.4900 - val_prc: 0.1011\n",
      "Epoch 29/100\n",
      "16/16 [==============================] - 0s 11ms/step - loss: 0.7561 - cross entropy: 0.6912 - mean_squared_error: 0.2490 - root_mean_squared_error: 0.4990 - tp: 39.0000 - fp: 180.0000 - tn: 239.0000 - fn: 46.0000 - binary_accuracy: 0.5516 - f1_score: 0.2566 - precision: 0.1781 - recall: 0.4588 - auc: 0.5662 - prc: 0.1922 - val_loss: 0.8237 - val_cross entropy: 0.7073 - val_mean_squared_error: 0.2571 - val_root_mean_squared_error: 0.5070 - val_tp: 6.0000 - val_fp: 50.0000 - val_tn: 0.0000e+00 - val_fn: 0.0000e+00 - val_binary_accuracy: 0.1071 - val_f1_score: 0.1935 - val_precision: 0.1071 - val_recall: 1.0000 - val_auc: 0.5500 - val_prc: 0.1176\n",
      "Epoch 30/100\n",
      "16/16 [==============================] - 0s 12ms/step - loss: 0.7571 - cross entropy: 0.6982 - mean_squared_error: 0.2525 - root_mean_squared_error: 0.5025 - tp: 62.0000 - fp: 314.0000 - tn: 105.0000 - fn: 23.0000 - binary_accuracy: 0.3313 - f1_score: 0.2690 - precision: 0.1649 - recall: 0.7294 - auc: 0.4834 - prc: 0.1667 - val_loss: 0.8235 - val_cross entropy: 0.7122 - val_mean_squared_error: 0.2595 - val_root_mean_squared_error: 0.5094 - val_tp: 6.0000 - val_fp: 50.0000 - val_tn: 0.0000e+00 - val_fn: 0.0000e+00 - val_binary_accuracy: 0.1071 - val_f1_score: 0.1935 - val_precision: 0.1071 - val_recall: 1.0000 - val_auc: 0.6833 - val_prc: 0.1873\n",
      "Epoch 31/100\n",
      "16/16 [==============================] - 0s 10ms/step - loss: 0.7531 - cross entropy: 0.7033 - mean_squared_error: 0.2551 - root_mean_squared_error: 0.5050 - tp: 81.0000 - fp: 384.0000 - tn: 35.0000 - fn: 4.0000 - binary_accuracy: 0.2302 - f1_score: 0.2945 - precision: 0.1742 - recall: 0.9529 - auc: 0.5453 - prc: 0.1841 - val_loss: 0.8233 - val_cross entropy: 0.7175 - val_mean_squared_error: 0.2622 - val_root_mean_squared_error: 0.5120 - val_tp: 6.0000 - val_fp: 50.0000 - val_tn: 0.0000e+00 - val_fn: 0.0000e+00 - val_binary_accuracy: 0.1071 - val_f1_score: 0.1935 - val_precision: 0.1071 - val_recall: 1.0000 - val_auc: 0.4900 - val_prc: 0.1011\n",
      "Epoch 32/100\n",
      "16/16 [==============================] - 0s 10ms/step - loss: 0.7540 - cross entropy: 0.7102 - mean_squared_error: 0.2585 - root_mean_squared_error: 0.5084 - tp: 84.0000 - fp: 411.0000 - tn: 8.0000 - fn: 1.0000 - binary_accuracy: 0.1825 - f1_score: 0.2897 - precision: 0.1697 - recall: 0.9882 - auc: 0.4696 - prc: 0.1571 - val_loss: 0.8231 - val_cross entropy: 0.7227 - val_mean_squared_error: 0.2648 - val_root_mean_squared_error: 0.5146 - val_tp: 6.0000 - val_fp: 50.0000 - val_tn: 0.0000e+00 - val_fn: 0.0000e+00 - val_binary_accuracy: 0.1071 - val_f1_score: 0.1935 - val_precision: 0.1071 - val_recall: 1.0000 - val_auc: 0.6100 - val_prc: 0.1333\n",
      "Epoch 33/100\n",
      "16/16 [==============================] - 0s 10ms/step - loss: 0.7501 - cross entropy: 0.7152 - mean_squared_error: 0.2610 - root_mean_squared_error: 0.5109 - tp: 85.0000 - fp: 418.0000 - tn: 1.0000 - fn: 0.0000e+00 - binary_accuracy: 0.1706 - f1_score: 0.2891 - precision: 0.1690 - recall: 1.0000 - auc: 0.5124 - prc: 0.1754 - val_loss: 0.8230 - val_cross entropy: 0.7278 - val_mean_squared_error: 0.2673 - val_root_mean_squared_error: 0.5170 - val_tp: 6.0000 - val_fp: 50.0000 - val_tn: 0.0000e+00 - val_fn: 0.0000e+00 - val_binary_accuracy: 0.1071 - val_f1_score: 0.1935 - val_precision: 0.1071 - val_recall: 1.0000 - val_auc: 0.6900 - val_prc: 0.2458\n",
      "Epoch 34/100\n",
      "16/16 [==============================] - 0s 10ms/step - loss: 0.7529 - cross entropy: 0.7213 - mean_squared_error: 0.2641 - root_mean_squared_error: 0.5139 - tp: 85.0000 - fp: 419.0000 - tn: 0.0000e+00 - fn: 0.0000e+00 - binary_accuracy: 0.1687 - f1_score: 0.2886 - precision: 0.1687 - recall: 1.0000 - auc: 0.4980 - prc: 0.1784 - val_loss: 0.8228 - val_cross entropy: 0.7330 - val_mean_squared_error: 0.2699 - val_root_mean_squared_error: 0.5195 - val_tp: 6.0000 - val_fp: 50.0000 - val_tn: 0.0000e+00 - val_fn: 0.0000e+00 - val_binary_accuracy: 0.1071 - val_f1_score: 0.1935 - val_precision: 0.1071 - val_recall: 1.0000 - val_auc: 0.5000 - val_prc: 0.1071\n",
      "Epoch 35/100\n",
      "16/16 [==============================] - 0s 11ms/step - loss: 0.7505 - cross entropy: 0.7277 - mean_squared_error: 0.2673 - root_mean_squared_error: 0.5170 - tp: 85.0000 - fp: 419.0000 - tn: 0.0000e+00 - fn: 0.0000e+00 - binary_accuracy: 0.1687 - f1_score: 0.2886 - precision: 0.1687 - recall: 1.0000 - auc: 0.4963 - prc: 0.1900 - val_loss: 0.8226 - val_cross entropy: 0.7386 - val_mean_squared_error: 0.2727 - val_root_mean_squared_error: 0.5222 - val_tp: 6.0000 - val_fp: 50.0000 - val_tn: 0.0000e+00 - val_fn: 0.0000e+00 - val_binary_accuracy: 0.1071 - val_f1_score: 0.1935 - val_precision: 0.1071 - val_recall: 1.0000 - val_auc: 0.6067 - val_prc: 0.1359\n",
      "Epoch 36/100\n",
      "16/16 [==============================] - 0s 10ms/step - loss: 0.7505 - cross entropy: 0.7341 - mean_squared_error: 0.2705 - root_mean_squared_error: 0.5201 - tp: 85.0000 - fp: 419.0000 - tn: 0.0000e+00 - fn: 0.0000e+00 - binary_accuracy: 0.1687 - f1_score: 0.2886 - precision: 0.1687 - recall: 1.0000 - auc: 0.4757 - prc: 0.1534 - val_loss: 0.8224 - val_cross entropy: 0.7437 - val_mean_squared_error: 0.2752 - val_root_mean_squared_error: 0.5246 - val_tp: 6.0000 - val_fp: 50.0000 - val_tn: 0.0000e+00 - val_fn: 0.0000e+00 - val_binary_accuracy: 0.1071 - val_f1_score: 0.1935 - val_precision: 0.1071 - val_recall: 1.0000 - val_auc: 0.5533 - val_prc: 0.1478\n",
      "Epoch 37/100\n",
      "16/16 [==============================] - 0s 10ms/step - loss: 0.7468 - cross entropy: 0.7389 - mean_squared_error: 0.2728 - root_mean_squared_error: 0.5223 - tp: 85.0000 - fp: 419.0000 - tn: 0.0000e+00 - fn: 0.0000e+00 - binary_accuracy: 0.1687 - f1_score: 0.2886 - precision: 0.1687 - recall: 1.0000 - auc: 0.5517 - prc: 0.1938 - val_loss: 0.8222 - val_cross entropy: 0.7490 - val_mean_squared_error: 0.2779 - val_root_mean_squared_error: 0.5271 - val_tp: 6.0000 - val_fp: 50.0000 - val_tn: 0.0000e+00 - val_fn: 0.0000e+00 - val_binary_accuracy: 0.1071 - val_f1_score: 0.1935 - val_precision: 0.1071 - val_recall: 1.0000 - val_auc: 0.5500 - val_prc: 0.1176\n",
      "Epoch 38/100\n",
      "16/16 [==============================] - 0s 10ms/step - loss: 0.7489 - cross entropy: 0.7453 - mean_squared_error: 0.2760 - root_mean_squared_error: 0.5254 - tp: 85.0000 - fp: 419.0000 - tn: 0.0000e+00 - fn: 0.0000e+00 - binary_accuracy: 0.1687 - f1_score: 0.2886 - precision: 0.1687 - recall: 1.0000 - auc: 0.4924 - prc: 0.1636 - val_loss: 0.8221 - val_cross entropy: 0.7542 - val_mean_squared_error: 0.2805 - val_root_mean_squared_error: 0.5296 - val_tp: 6.0000 - val_fp: 50.0000 - val_tn: 0.0000e+00 - val_fn: 0.0000e+00 - val_binary_accuracy: 0.1071 - val_f1_score: 0.1935 - val_precision: 0.1071 - val_recall: 1.0000 - val_auc: 0.6933 - val_prc: 0.1961\n",
      "Epoch 39/100\n",
      "16/16 [==============================] - 0s 10ms/step - loss: 0.7479 - cross entropy: 0.7513 - mean_squared_error: 0.2790 - root_mean_squared_error: 0.5282 - tp: 85.0000 - fp: 419.0000 - tn: 0.0000e+00 - fn: 0.0000e+00 - binary_accuracy: 0.1687 - f1_score: 0.2886 - precision: 0.1687 - recall: 1.0000 - auc: 0.5080 - prc: 0.1732 - val_loss: 0.8219 - val_cross entropy: 0.7591 - val_mean_squared_error: 0.2829 - val_root_mean_squared_error: 0.5319 - val_tp: 6.0000 - val_fp: 50.0000 - val_tn: 0.0000e+00 - val_fn: 0.0000e+00 - val_binary_accuracy: 0.1071 - val_f1_score: 0.1935 - val_precision: 0.1071 - val_recall: 1.0000 - val_auc: 0.5000 - val_prc: 0.1071\n",
      "Epoch 40/100\n",
      "16/16 [==============================] - 0s 10ms/step - loss: 0.7460 - cross entropy: 0.7567 - mean_squared_error: 0.2817 - root_mean_squared_error: 0.5307 - tp: 85.0000 - fp: 419.0000 - tn: 0.0000e+00 - fn: 0.0000e+00 - binary_accuracy: 0.1687 - f1_score: 0.2886 - precision: 0.1687 - recall: 1.0000 - auc: 0.5419 - prc: 0.1760 - val_loss: 0.8217 - val_cross entropy: 0.7646 - val_mean_squared_error: 0.2856 - val_root_mean_squared_error: 0.5344 - val_tp: 6.0000 - val_fp: 50.0000 - val_tn: 0.0000e+00 - val_fn: 0.0000e+00 - val_binary_accuracy: 0.1071 - val_f1_score: 0.1935 - val_precision: 0.1071 - val_recall: 1.0000 - val_auc: 0.6067 - val_prc: 0.1359\n",
      "Epoch 41/100\n",
      "16/16 [==============================] - 0s 10ms/step - loss: 0.7528 - cross entropy: 0.7634 - mean_squared_error: 0.2850 - root_mean_squared_error: 0.5339 - tp: 85.0000 - fp: 419.0000 - tn: 0.0000e+00 - fn: 0.0000e+00 - binary_accuracy: 0.1687 - f1_score: 0.2886 - precision: 0.1687 - recall: 1.0000 - auc: 0.5466 - prc: 0.1895 - val_loss: 0.8216 - val_cross entropy: 0.7699 - val_mean_squared_error: 0.2883 - val_root_mean_squared_error: 0.5369 - val_tp: 6.0000 - val_fp: 50.0000 - val_tn: 0.0000e+00 - val_fn: 0.0000e+00 - val_binary_accuracy: 0.1071 - val_f1_score: 0.1935 - val_precision: 0.1071 - val_recall: 1.0000 - val_auc: 0.5433 - val_prc: 0.1352\n",
      "Epoch 42/100\n",
      "16/16 [==============================] - 0s 10ms/step - loss: 0.7459 - cross entropy: 0.7693 - mean_squared_error: 0.2879 - root_mean_squared_error: 0.5366 - tp: 85.0000 - fp: 419.0000 - tn: 0.0000e+00 - fn: 0.0000e+00 - binary_accuracy: 0.1687 - f1_score: 0.2886 - precision: 0.1687 - recall: 1.0000 - auc: 0.5232 - prc: 0.2067 - val_loss: 0.8214 - val_cross entropy: 0.7749 - val_mean_squared_error: 0.2907 - val_root_mean_squared_error: 0.5392 - val_tp: 6.0000 - val_fp: 50.0000 - val_tn: 0.0000e+00 - val_fn: 0.0000e+00 - val_binary_accuracy: 0.1071 - val_f1_score: 0.1935 - val_precision: 0.1071 - val_recall: 1.0000 - val_auc: 0.5800 - val_prc: 0.1250\n",
      "Epoch 43/100\n",
      "16/16 [==============================] - 0s 10ms/step - loss: 0.7443 - cross entropy: 0.7753 - mean_squared_error: 0.2909 - root_mean_squared_error: 0.5394 - tp: 85.0000 - fp: 419.0000 - tn: 0.0000e+00 - fn: 0.0000e+00 - binary_accuracy: 0.1687 - f1_score: 0.2886 - precision: 0.1687 - recall: 1.0000 - auc: 0.5202 - prc: 0.1751 - val_loss: 0.8212 - val_cross entropy: 0.7803 - val_mean_squared_error: 0.2934 - val_root_mean_squared_error: 0.5417 - val_tp: 6.0000 - val_fp: 50.0000 - val_tn: 0.0000e+00 - val_fn: 0.0000e+00 - val_binary_accuracy: 0.1071 - val_f1_score: 0.1935 - val_precision: 0.1071 - val_recall: 1.0000 - val_auc: 0.5867 - val_prc: 0.1529\n",
      "Epoch 44/100\n",
      "16/16 [==============================] - 0s 10ms/step - loss: 0.7484 - cross entropy: 0.7824 - mean_squared_error: 0.2944 - root_mean_squared_error: 0.5426 - tp: 85.0000 - fp: 419.0000 - tn: 0.0000e+00 - fn: 0.0000e+00 - binary_accuracy: 0.1687 - f1_score: 0.2886 - precision: 0.1687 - recall: 1.0000 - auc: 0.4915 - prc: 0.1603 - val_loss: 0.8211 - val_cross entropy: 0.7855 - val_mean_squared_error: 0.2960 - val_root_mean_squared_error: 0.5441 - val_tp: 6.0000 - val_fp: 50.0000 - val_tn: 0.0000e+00 - val_fn: 0.0000e+00 - val_binary_accuracy: 0.1071 - val_f1_score: 0.1935 - val_precision: 0.1071 - val_recall: 1.0000 - val_auc: 0.5000 - val_prc: 0.1071\n",
      "Epoch 45/100\n",
      "16/16 [==============================] - 0s 10ms/step - loss: 0.7491 - cross entropy: 0.7879 - mean_squared_error: 0.2971 - root_mean_squared_error: 0.5451 - tp: 85.0000 - fp: 419.0000 - tn: 0.0000e+00 - fn: 0.0000e+00 - binary_accuracy: 0.1687 - f1_score: 0.2886 - precision: 0.1687 - recall: 1.0000 - auc: 0.5278 - prc: 0.1824 - val_loss: 0.8209 - val_cross entropy: 0.7910 - val_mean_squared_error: 0.2987 - val_root_mean_squared_error: 0.5465 - val_tp: 6.0000 - val_fp: 50.0000 - val_tn: 0.0000e+00 - val_fn: 0.0000e+00 - val_binary_accuracy: 0.1071 - val_f1_score: 0.1935 - val_precision: 0.1071 - val_recall: 1.0000 - val_auc: 0.6667 - val_prc: 0.1607\n",
      "Epoch 46/100\n",
      "16/16 [==============================] - 0s 10ms/step - loss: 0.7435 - cross entropy: 0.7946 - mean_squared_error: 0.3004 - root_mean_squared_error: 0.5481 - tp: 85.0000 - fp: 419.0000 - tn: 0.0000e+00 - fn: 0.0000e+00 - binary_accuracy: 0.1687 - f1_score: 0.2886 - precision: 0.1687 - recall: 1.0000 - auc: 0.4944 - prc: 0.1596 - val_loss: 0.8208 - val_cross entropy: 0.7963 - val_mean_squared_error: 0.3013 - val_root_mean_squared_error: 0.5489 - val_tp: 6.0000 - val_fp: 50.0000 - val_tn: 0.0000e+00 - val_fn: 0.0000e+00 - val_binary_accuracy: 0.1071 - val_f1_score: 0.1935 - val_precision: 0.1071 - val_recall: 1.0000 - val_auc: 0.4900 - val_prc: 0.1011\n",
      "Epoch 47/100\n",
      "16/16 [==============================] - 0s 11ms/step - loss: 0.7445 - cross entropy: 0.7999 - mean_squared_error: 0.3030 - root_mean_squared_error: 0.5504 - tp: 85.0000 - fp: 419.0000 - tn: 0.0000e+00 - fn: 0.0000e+00 - binary_accuracy: 0.1687 - f1_score: 0.2886 - precision: 0.1687 - recall: 1.0000 - auc: 0.5658 - prc: 0.2678 - val_loss: 0.8206 - val_cross entropy: 0.8011 - val_mean_squared_error: 0.3037 - val_root_mean_squared_error: 0.5511 - val_tp: 6.0000 - val_fp: 50.0000 - val_tn: 0.0000e+00 - val_fn: 0.0000e+00 - val_binary_accuracy: 0.1071 - val_f1_score: 0.1935 - val_precision: 0.1071 - val_recall: 1.0000 - val_auc: 0.5967 - val_prc: 0.1325\n",
      "Epoch 48/100\n",
      "16/16 [==============================] - 0s 11ms/step - loss: 0.7450 - cross entropy: 0.8062 - mean_squared_error: 0.3060 - root_mean_squared_error: 0.5532 - tp: 85.0000 - fp: 419.0000 - tn: 0.0000e+00 - fn: 0.0000e+00 - binary_accuracy: 0.1687 - f1_score: 0.2886 - precision: 0.1687 - recall: 1.0000 - auc: 0.5265 - prc: 0.1893 - val_loss: 0.8205 - val_cross entropy: 0.8066 - val_mean_squared_error: 0.3064 - val_root_mean_squared_error: 0.5535 - val_tp: 6.0000 - val_fp: 50.0000 - val_tn: 0.0000e+00 - val_fn: 0.0000e+00 - val_binary_accuracy: 0.1071 - val_f1_score: 0.1935 - val_precision: 0.1071 - val_recall: 1.0000 - val_auc: 0.6267 - val_prc: 0.2097\n",
      "Epoch 49/100\n",
      "16/16 [==============================] - 0s 10ms/step - loss: 0.7434 - cross entropy: 0.8140 - mean_squared_error: 0.3098 - root_mean_squared_error: 0.5566 - tp: 85.0000 - fp: 419.0000 - tn: 0.0000e+00 - fn: 0.0000e+00 - binary_accuracy: 0.1687 - f1_score: 0.2886 - precision: 0.1687 - recall: 1.0000 - auc: 0.4741 - prc: 0.1532 - val_loss: 0.8203 - val_cross entropy: 0.8123 - val_mean_squared_error: 0.3092 - val_root_mean_squared_error: 0.5560 - val_tp: 6.0000 - val_fp: 50.0000 - val_tn: 0.0000e+00 - val_fn: 0.0000e+00 - val_binary_accuracy: 0.1071 - val_f1_score: 0.1935 - val_precision: 0.1071 - val_recall: 1.0000 - val_auc: 0.5400 - val_prc: 0.1154\n",
      "Epoch 50/100\n",
      "16/16 [==============================] - 0s 10ms/step - loss: 0.7437 - cross entropy: 0.8189 - mean_squared_error: 0.3123 - root_mean_squared_error: 0.5588 - tp: 85.0000 - fp: 419.0000 - tn: 0.0000e+00 - fn: 0.0000e+00 - binary_accuracy: 0.1687 - f1_score: 0.2886 - precision: 0.1687 - recall: 1.0000 - auc: 0.5743 - prc: 0.2346 - val_loss: 0.8202 - val_cross entropy: 0.8174 - val_mean_squared_error: 0.3117 - val_root_mean_squared_error: 0.5583 - val_tp: 6.0000 - val_fp: 50.0000 - val_tn: 0.0000e+00 - val_fn: 0.0000e+00 - val_binary_accuracy: 0.1071 - val_f1_score: 0.1935 - val_precision: 0.1071 - val_recall: 1.0000 - val_auc: 0.5667 - val_prc: 0.1374\n",
      "Epoch 51/100\n",
      "16/16 [==============================] - 0s 10ms/step - loss: 0.7433 - cross entropy: 0.8264 - mean_squared_error: 0.3159 - root_mean_squared_error: 0.5620 - tp: 85.0000 - fp: 419.0000 - tn: 0.0000e+00 - fn: 0.0000e+00 - binary_accuracy: 0.1687 - f1_score: 0.2886 - precision: 0.1687 - recall: 1.0000 - auc: 0.5331 - prc: 0.1706 - val_loss: 0.8200 - val_cross entropy: 0.8229 - val_mean_squared_error: 0.3144 - val_root_mean_squared_error: 0.5607 - val_tp: 6.0000 - val_fp: 50.0000 - val_tn: 0.0000e+00 - val_fn: 0.0000e+00 - val_binary_accuracy: 0.1071 - val_f1_score: 0.1935 - val_precision: 0.1071 - val_recall: 1.0000 - val_auc: 0.5100 - val_prc: 0.1091\n",
      "Epoch 52/100\n",
      "16/16 [==============================] - 0s 10ms/step - loss: 0.7423 - cross entropy: 0.8314 - mean_squared_error: 0.3183 - root_mean_squared_error: 0.5642 - tp: 85.0000 - fp: 419.0000 - tn: 0.0000e+00 - fn: 0.0000e+00 - binary_accuracy: 0.1687 - f1_score: 0.2886 - precision: 0.1687 - recall: 1.0000 - auc: 0.5333 - prc: 0.2224 - val_loss: 0.8199 - val_cross entropy: 0.8282 - val_mean_squared_error: 0.3169 - val_root_mean_squared_error: 0.5630 - val_tp: 6.0000 - val_fp: 50.0000 - val_tn: 0.0000e+00 - val_fn: 0.0000e+00 - val_binary_accuracy: 0.1071 - val_f1_score: 0.1935 - val_precision: 0.1071 - val_recall: 1.0000 - val_auc: 0.6033 - val_prc: 0.1397\n",
      "Epoch 53/100\n",
      "16/16 [==============================] - 0s 11ms/step - loss: 0.7422 - cross entropy: 0.8381 - mean_squared_error: 0.3216 - root_mean_squared_error: 0.5671 - tp: 85.0000 - fp: 419.0000 - tn: 0.0000e+00 - fn: 0.0000e+00 - binary_accuracy: 0.1687 - f1_score: 0.2886 - precision: 0.1687 - recall: 1.0000 - auc: 0.5507 - prc: 0.1902 - val_loss: 0.8198 - val_cross entropy: 0.8334 - val_mean_squared_error: 0.3195 - val_root_mean_squared_error: 0.5652 - val_tp: 6.0000 - val_fp: 50.0000 - val_tn: 0.0000e+00 - val_fn: 0.0000e+00 - val_binary_accuracy: 0.1071 - val_f1_score: 0.1935 - val_precision: 0.1071 - val_recall: 1.0000 - val_auc: 0.5000 - val_prc: 0.1071\n",
      "Epoch 54/100\n",
      "16/16 [==============================] - 0s 10ms/step - loss: 0.7422 - cross entropy: 0.8456 - mean_squared_error: 0.3252 - root_mean_squared_error: 0.5702 - tp: 85.0000 - fp: 419.0000 - tn: 0.0000e+00 - fn: 0.0000e+00 - binary_accuracy: 0.1687 - f1_score: 0.2886 - precision: 0.1687 - recall: 1.0000 - auc: 0.5262 - prc: 0.1725 - val_loss: 0.8196 - val_cross entropy: 0.8385 - val_mean_squared_error: 0.3220 - val_root_mean_squared_error: 0.5674 - val_tp: 6.0000 - val_fp: 50.0000 - val_tn: 0.0000e+00 - val_fn: 0.0000e+00 - val_binary_accuracy: 0.1071 - val_f1_score: 0.1935 - val_precision: 0.1071 - val_recall: 1.0000 - val_auc: 0.6567 - val_prc: 0.1559\n",
      "Epoch 55/100\n",
      "16/16 [==============================] - 0s 10ms/step - loss: 0.7426 - cross entropy: 0.8509 - mean_squared_error: 0.3277 - root_mean_squared_error: 0.5724 - tp: 85.0000 - fp: 419.0000 - tn: 0.0000e+00 - fn: 0.0000e+00 - binary_accuracy: 0.1687 - f1_score: 0.2886 - precision: 0.1687 - recall: 1.0000 - auc: 0.5779 - prc: 0.2093 - val_loss: 0.8195 - val_cross entropy: 0.8441 - val_mean_squared_error: 0.3247 - val_root_mean_squared_error: 0.5698 - val_tp: 6.0000 - val_fp: 50.0000 - val_tn: 0.0000e+00 - val_fn: 0.0000e+00 - val_binary_accuracy: 0.1071 - val_f1_score: 0.1935 - val_precision: 0.1071 - val_recall: 1.0000 - val_auc: 0.5633 - val_prc: 0.1672\n",
      "Epoch 56/100\n",
      "16/16 [==============================] - 0s 10ms/step - loss: 0.7407 - cross entropy: 0.8588 - mean_squared_error: 0.3315 - root_mean_squared_error: 0.5757 - tp: 85.0000 - fp: 419.0000 - tn: 0.0000e+00 - fn: 0.0000e+00 - binary_accuracy: 0.1687 - f1_score: 0.2886 - precision: 0.1687 - recall: 1.0000 - auc: 0.5138 - prc: 0.1653 - val_loss: 0.8194 - val_cross entropy: 0.8496 - val_mean_squared_error: 0.3274 - val_root_mean_squared_error: 0.5722 - val_tp: 6.0000 - val_fp: 50.0000 - val_tn: 0.0000e+00 - val_fn: 0.0000e+00 - val_binary_accuracy: 0.1071 - val_f1_score: 0.1935 - val_precision: 0.1071 - val_recall: 1.0000 - val_auc: 0.5667 - val_prc: 0.1233\n",
      "Epoch 57/100\n",
      "16/16 [==============================] - 0s 11ms/step - loss: 0.7434 - cross entropy: 0.8638 - mean_squared_error: 0.3339 - root_mean_squared_error: 0.5778 - tp: 85.0000 - fp: 419.0000 - tn: 0.0000e+00 - fn: 0.0000e+00 - binary_accuracy: 0.1687 - f1_score: 0.2886 - precision: 0.1687 - recall: 1.0000 - auc: 0.5733 - prc: 0.2056 - val_loss: 0.8192 - val_cross entropy: 0.8551 - val_mean_squared_error: 0.3300 - val_root_mean_squared_error: 0.5745 - val_tp: 6.0000 - val_fp: 50.0000 - val_tn: 0.0000e+00 - val_fn: 0.0000e+00 - val_binary_accuracy: 0.1071 - val_f1_score: 0.1935 - val_precision: 0.1071 - val_recall: 1.0000 - val_auc: 0.6367 - val_prc: 0.2364\n",
      "Epoch 58/100\n",
      "16/16 [==============================] - 0s 11ms/step - loss: 0.7459 - cross entropy: 0.8696 - mean_squared_error: 0.3366 - root_mean_squared_error: 0.5802 - tp: 85.0000 - fp: 419.0000 - tn: 0.0000e+00 - fn: 0.0000e+00 - binary_accuracy: 0.1687 - f1_score: 0.2886 - precision: 0.1687 - recall: 1.0000 - auc: 0.6064 - prc: 0.2519 - val_loss: 0.8191 - val_cross entropy: 0.8601 - val_mean_squared_error: 0.3324 - val_root_mean_squared_error: 0.5766 - val_tp: 6.0000 - val_fp: 50.0000 - val_tn: 0.0000e+00 - val_fn: 0.0000e+00 - val_binary_accuracy: 0.1071 - val_f1_score: 0.1935 - val_precision: 0.1071 - val_recall: 1.0000 - val_auc: 0.5467 - val_prc: 0.1180\n",
      "Epoch 59/100\n",
      "16/16 [==============================] - 0s 10ms/step - loss: 0.7450 - cross entropy: 0.8780 - mean_squared_error: 0.3406 - root_mean_squared_error: 0.5836 - tp: 85.0000 - fp: 419.0000 - tn: 0.0000e+00 - fn: 0.0000e+00 - binary_accuracy: 0.1687 - f1_score: 0.2886 - precision: 0.1687 - recall: 1.0000 - auc: 0.5424 - prc: 0.1813 - val_loss: 0.8190 - val_cross entropy: 0.8661 - val_mean_squared_error: 0.3353 - val_root_mean_squared_error: 0.5791 - val_tp: 6.0000 - val_fp: 50.0000 - val_tn: 0.0000e+00 - val_fn: 0.0000e+00 - val_binary_accuracy: 0.1071 - val_f1_score: 0.1935 - val_precision: 0.1071 - val_recall: 1.0000 - val_auc: 0.5567 - val_prc: 0.1312\n",
      "Epoch 60/100\n",
      "16/16 [==============================] - 0s 10ms/step - loss: 0.7406 - cross entropy: 0.8840 - mean_squared_error: 0.3434 - root_mean_squared_error: 0.5860 - tp: 85.0000 - fp: 419.0000 - tn: 0.0000e+00 - fn: 0.0000e+00 - binary_accuracy: 0.1687 - f1_score: 0.2886 - precision: 0.1687 - recall: 1.0000 - auc: 0.5661 - prc: 0.1915 - val_loss: 0.8189 - val_cross entropy: 0.8710 - val_mean_squared_error: 0.3377 - val_root_mean_squared_error: 0.5811 - val_tp: 6.0000 - val_fp: 50.0000 - val_tn: 0.0000e+00 - val_fn: 0.0000e+00 - val_binary_accuracy: 0.1071 - val_f1_score: 0.1935 - val_precision: 0.1071 - val_recall: 1.0000 - val_auc: 0.6000 - val_prc: 0.1304\n",
      "Epoch 61/100\n",
      "15/16 [===========================>..] - ETA: 0s - loss: 0.7412 - cross entropy: 0.8896 - mean_squared_error: 0.3461 - root_mean_squared_error: 0.5883 - tp: 81.0000 - fp: 399.0000 - tn: 0.0000e+00 - fn: 0.0000e+00 - binary_accuracy: 0.1688 - f1_score: 0.2888 - precision: 0.1688 - recall: 1.0000 - auc: 0.6052 - prc: 0.2229"
     ]
    },
    {
     "ename": "KeyboardInterrupt",
     "evalue": "",
     "output_type": "error",
     "traceback": [
      "\u001b[0;31m---------------------------------------------------------------------------\u001b[0m",
      "\u001b[0;31mKeyboardInterrupt\u001b[0m                         Traceback (most recent call last)",
      "Cell \u001b[0;32mIn[43], line 4\u001b[0m\n\u001b[1;32m      1\u001b[0m \u001b[38;5;66;03m# Begin the search\u001b[39;00m\n\u001b[1;32m      2\u001b[0m EPOCHS \u001b[38;5;241m=\u001b[39m \u001b[38;5;241m100\u001b[39m\n\u001b[0;32m----> 4\u001b[0m \u001b[43mtuner\u001b[49m\u001b[38;5;241;43m.\u001b[39;49m\u001b[43msearch\u001b[49m\u001b[43m(\u001b[49m\n\u001b[1;32m      5\u001b[0m \u001b[43m    \u001b[49m\u001b[43minput_train_scaled\u001b[49m\u001b[43m,\u001b[49m\n\u001b[1;32m      6\u001b[0m \u001b[43m    \u001b[49m\u001b[43mlabel_train_scaled\u001b[49m\u001b[43m,\u001b[49m\n\u001b[1;32m      7\u001b[0m \u001b[43m    \u001b[49m\u001b[43mepochs\u001b[49m\u001b[38;5;241;43m=\u001b[39;49m\u001b[43mEPOCHS\u001b[49m\u001b[43m,\u001b[49m\n\u001b[1;32m      8\u001b[0m \u001b[43m    \u001b[49m\u001b[43mvalidation_split\u001b[49m\u001b[38;5;241;43m=\u001b[39;49m\u001b[38;5;241;43m0.1\u001b[39;49m\n\u001b[1;32m      9\u001b[0m \u001b[43m)\u001b[49m\n\u001b[1;32m     11\u001b[0m \u001b[38;5;66;03m# Query the tuner object to grab the best models\u001b[39;00m\n\u001b[1;32m     12\u001b[0m models \u001b[38;5;241m=\u001b[39m tuner\u001b[38;5;241m.\u001b[39mget_best_models(num_models\u001b[38;5;241m=\u001b[39m\u001b[38;5;241m5\u001b[39m)\n",
      "File \u001b[0;32m~/.local/lib/python3.10/site-packages/keras_tuner/src/engine/base_tuner.py:234\u001b[0m, in \u001b[0;36mBaseTuner.search\u001b[0;34m(self, *fit_args, **fit_kwargs)\u001b[0m\n\u001b[1;32m    231\u001b[0m         \u001b[38;5;28;01mcontinue\u001b[39;00m\n\u001b[1;32m    233\u001b[0m     \u001b[38;5;28mself\u001b[39m\u001b[38;5;241m.\u001b[39mon_trial_begin(trial)\n\u001b[0;32m--> 234\u001b[0m     \u001b[38;5;28;43mself\u001b[39;49m\u001b[38;5;241;43m.\u001b[39;49m\u001b[43m_try_run_and_update_trial\u001b[49m\u001b[43m(\u001b[49m\u001b[43mtrial\u001b[49m\u001b[43m,\u001b[49m\u001b[43m \u001b[49m\u001b[38;5;241;43m*\u001b[39;49m\u001b[43mfit_args\u001b[49m\u001b[43m,\u001b[49m\u001b[43m \u001b[49m\u001b[38;5;241;43m*\u001b[39;49m\u001b[38;5;241;43m*\u001b[39;49m\u001b[43mfit_kwargs\u001b[49m\u001b[43m)\u001b[49m\n\u001b[1;32m    235\u001b[0m     \u001b[38;5;28mself\u001b[39m\u001b[38;5;241m.\u001b[39mon_trial_end(trial)\n\u001b[1;32m    236\u001b[0m \u001b[38;5;28mself\u001b[39m\u001b[38;5;241m.\u001b[39mon_search_end()\n",
      "File \u001b[0;32m~/.local/lib/python3.10/site-packages/keras_tuner/src/engine/base_tuner.py:274\u001b[0m, in \u001b[0;36mBaseTuner._try_run_and_update_trial\u001b[0;34m(self, trial, *fit_args, **fit_kwargs)\u001b[0m\n\u001b[1;32m    272\u001b[0m \u001b[38;5;28;01mdef\u001b[39;00m \u001b[38;5;21m_try_run_and_update_trial\u001b[39m(\u001b[38;5;28mself\u001b[39m, trial, \u001b[38;5;241m*\u001b[39mfit_args, \u001b[38;5;241m*\u001b[39m\u001b[38;5;241m*\u001b[39mfit_kwargs):\n\u001b[1;32m    273\u001b[0m     \u001b[38;5;28;01mtry\u001b[39;00m:\n\u001b[0;32m--> 274\u001b[0m         \u001b[38;5;28;43mself\u001b[39;49m\u001b[38;5;241;43m.\u001b[39;49m\u001b[43m_run_and_update_trial\u001b[49m\u001b[43m(\u001b[49m\u001b[43mtrial\u001b[49m\u001b[43m,\u001b[49m\u001b[43m \u001b[49m\u001b[38;5;241;43m*\u001b[39;49m\u001b[43mfit_args\u001b[49m\u001b[43m,\u001b[49m\u001b[43m \u001b[49m\u001b[38;5;241;43m*\u001b[39;49m\u001b[38;5;241;43m*\u001b[39;49m\u001b[43mfit_kwargs\u001b[49m\u001b[43m)\u001b[49m\n\u001b[1;32m    275\u001b[0m         trial\u001b[38;5;241m.\u001b[39mstatus \u001b[38;5;241m=\u001b[39m trial_module\u001b[38;5;241m.\u001b[39mTrialStatus\u001b[38;5;241m.\u001b[39mCOMPLETED\n\u001b[1;32m    276\u001b[0m         \u001b[38;5;28;01mreturn\u001b[39;00m\n",
      "File \u001b[0;32m~/.local/lib/python3.10/site-packages/keras_tuner/src/engine/base_tuner.py:239\u001b[0m, in \u001b[0;36mBaseTuner._run_and_update_trial\u001b[0;34m(self, trial, *fit_args, **fit_kwargs)\u001b[0m\n\u001b[1;32m    238\u001b[0m \u001b[38;5;28;01mdef\u001b[39;00m \u001b[38;5;21m_run_and_update_trial\u001b[39m(\u001b[38;5;28mself\u001b[39m, trial, \u001b[38;5;241m*\u001b[39mfit_args, \u001b[38;5;241m*\u001b[39m\u001b[38;5;241m*\u001b[39mfit_kwargs):\n\u001b[0;32m--> 239\u001b[0m     results \u001b[38;5;241m=\u001b[39m \u001b[38;5;28;43mself\u001b[39;49m\u001b[38;5;241;43m.\u001b[39;49m\u001b[43mrun_trial\u001b[49m\u001b[43m(\u001b[49m\u001b[43mtrial\u001b[49m\u001b[43m,\u001b[49m\u001b[43m \u001b[49m\u001b[38;5;241;43m*\u001b[39;49m\u001b[43mfit_args\u001b[49m\u001b[43m,\u001b[49m\u001b[43m \u001b[49m\u001b[38;5;241;43m*\u001b[39;49m\u001b[38;5;241;43m*\u001b[39;49m\u001b[43mfit_kwargs\u001b[49m\u001b[43m)\u001b[49m\n\u001b[1;32m    240\u001b[0m     \u001b[38;5;28;01mif\u001b[39;00m \u001b[38;5;28mself\u001b[39m\u001b[38;5;241m.\u001b[39moracle\u001b[38;5;241m.\u001b[39mget_trial(trial\u001b[38;5;241m.\u001b[39mtrial_id)\u001b[38;5;241m.\u001b[39mmetrics\u001b[38;5;241m.\u001b[39mexists(\n\u001b[1;32m    241\u001b[0m         \u001b[38;5;28mself\u001b[39m\u001b[38;5;241m.\u001b[39moracle\u001b[38;5;241m.\u001b[39mobjective\u001b[38;5;241m.\u001b[39mname\n\u001b[1;32m    242\u001b[0m     ):\n\u001b[1;32m    243\u001b[0m         \u001b[38;5;66;03m# The oracle is updated by calling `self.oracle.update_trial()` in\u001b[39;00m\n\u001b[1;32m    244\u001b[0m         \u001b[38;5;66;03m# `Tuner.run_trial()`. For backward compatibility, we support this\u001b[39;00m\n\u001b[1;32m    245\u001b[0m         \u001b[38;5;66;03m# use case. No further action needed in this case.\u001b[39;00m\n\u001b[1;32m    246\u001b[0m         warnings\u001b[38;5;241m.\u001b[39mwarn(\n\u001b[1;32m    247\u001b[0m             \u001b[38;5;124m\"\u001b[39m\u001b[38;5;124mThe use case of calling \u001b[39m\u001b[38;5;124m\"\u001b[39m\n\u001b[1;32m    248\u001b[0m             \u001b[38;5;124m\"\u001b[39m\u001b[38;5;124m`self.oracle.update_trial(trial_id, metrics)` \u001b[39m\u001b[38;5;124m\"\u001b[39m\n\u001b[0;32m   (...)\u001b[0m\n\u001b[1;32m    254\u001b[0m             stacklevel\u001b[38;5;241m=\u001b[39m\u001b[38;5;241m2\u001b[39m,\n\u001b[1;32m    255\u001b[0m         )\n",
      "File \u001b[0;32m~/.local/lib/python3.10/site-packages/keras_tuner/src/engine/tuner.py:314\u001b[0m, in \u001b[0;36mTuner.run_trial\u001b[0;34m(self, trial, *args, **kwargs)\u001b[0m\n\u001b[1;32m    312\u001b[0m     callbacks\u001b[38;5;241m.\u001b[39mappend(model_checkpoint)\n\u001b[1;32m    313\u001b[0m     copied_kwargs[\u001b[38;5;124m\"\u001b[39m\u001b[38;5;124mcallbacks\u001b[39m\u001b[38;5;124m\"\u001b[39m] \u001b[38;5;241m=\u001b[39m callbacks\n\u001b[0;32m--> 314\u001b[0m     obj_value \u001b[38;5;241m=\u001b[39m \u001b[38;5;28;43mself\u001b[39;49m\u001b[38;5;241;43m.\u001b[39;49m\u001b[43m_build_and_fit_model\u001b[49m\u001b[43m(\u001b[49m\u001b[43mtrial\u001b[49m\u001b[43m,\u001b[49m\u001b[43m \u001b[49m\u001b[38;5;241;43m*\u001b[39;49m\u001b[43margs\u001b[49m\u001b[43m,\u001b[49m\u001b[43m \u001b[49m\u001b[38;5;241;43m*\u001b[39;49m\u001b[38;5;241;43m*\u001b[39;49m\u001b[43mcopied_kwargs\u001b[49m\u001b[43m)\u001b[49m\n\u001b[1;32m    316\u001b[0m     histories\u001b[38;5;241m.\u001b[39mappend(obj_value)\n\u001b[1;32m    317\u001b[0m \u001b[38;5;28;01mreturn\u001b[39;00m histories\n",
      "File \u001b[0;32m~/.local/lib/python3.10/site-packages/keras_tuner/src/engine/tuner.py:233\u001b[0m, in \u001b[0;36mTuner._build_and_fit_model\u001b[0;34m(self, trial, *args, **kwargs)\u001b[0m\n\u001b[1;32m    231\u001b[0m hp \u001b[38;5;241m=\u001b[39m trial\u001b[38;5;241m.\u001b[39mhyperparameters\n\u001b[1;32m    232\u001b[0m model \u001b[38;5;241m=\u001b[39m \u001b[38;5;28mself\u001b[39m\u001b[38;5;241m.\u001b[39m_try_build(hp)\n\u001b[0;32m--> 233\u001b[0m results \u001b[38;5;241m=\u001b[39m \u001b[38;5;28;43mself\u001b[39;49m\u001b[38;5;241;43m.\u001b[39;49m\u001b[43mhypermodel\u001b[49m\u001b[38;5;241;43m.\u001b[39;49m\u001b[43mfit\u001b[49m\u001b[43m(\u001b[49m\u001b[43mhp\u001b[49m\u001b[43m,\u001b[49m\u001b[43m \u001b[49m\u001b[43mmodel\u001b[49m\u001b[43m,\u001b[49m\u001b[43m \u001b[49m\u001b[38;5;241;43m*\u001b[39;49m\u001b[43margs\u001b[49m\u001b[43m,\u001b[49m\u001b[43m \u001b[49m\u001b[38;5;241;43m*\u001b[39;49m\u001b[38;5;241;43m*\u001b[39;49m\u001b[43mkwargs\u001b[49m\u001b[43m)\u001b[49m\n\u001b[1;32m    235\u001b[0m \u001b[38;5;66;03m# Save the build config for model loading later.\u001b[39;00m\n\u001b[1;32m    236\u001b[0m \u001b[38;5;28;01mif\u001b[39;00m backend\u001b[38;5;241m.\u001b[39mconfig\u001b[38;5;241m.\u001b[39mmulti_backend():\n",
      "File \u001b[0;32m~/.local/lib/python3.10/site-packages/keras_tuner/src/engine/hypermodel.py:149\u001b[0m, in \u001b[0;36mHyperModel.fit\u001b[0;34m(self, hp, model, *args, **kwargs)\u001b[0m\n\u001b[1;32m    125\u001b[0m \u001b[38;5;28;01mdef\u001b[39;00m \u001b[38;5;21mfit\u001b[39m(\u001b[38;5;28mself\u001b[39m, hp, model, \u001b[38;5;241m*\u001b[39margs, \u001b[38;5;241m*\u001b[39m\u001b[38;5;241m*\u001b[39mkwargs):\n\u001b[1;32m    126\u001b[0m \u001b[38;5;250m    \u001b[39m\u001b[38;5;124;03m\"\"\"Train the model.\u001b[39;00m\n\u001b[1;32m    127\u001b[0m \n\u001b[1;32m    128\u001b[0m \u001b[38;5;124;03m    Args:\u001b[39;00m\n\u001b[0;32m   (...)\u001b[0m\n\u001b[1;32m    147\u001b[0m \u001b[38;5;124;03m        If return a float, it should be the `objective` value.\u001b[39;00m\n\u001b[1;32m    148\u001b[0m \u001b[38;5;124;03m    \"\"\"\u001b[39;00m\n\u001b[0;32m--> 149\u001b[0m     \u001b[38;5;28;01mreturn\u001b[39;00m \u001b[43mmodel\u001b[49m\u001b[38;5;241;43m.\u001b[39;49m\u001b[43mfit\u001b[49m\u001b[43m(\u001b[49m\u001b[38;5;241;43m*\u001b[39;49m\u001b[43margs\u001b[49m\u001b[43m,\u001b[49m\u001b[43m \u001b[49m\u001b[38;5;241;43m*\u001b[39;49m\u001b[38;5;241;43m*\u001b[39;49m\u001b[43mkwargs\u001b[49m\u001b[43m)\u001b[49m\n",
      "File \u001b[0;32m~/.local/lib/python3.10/site-packages/keras/src/utils/traceback_utils.py:65\u001b[0m, in \u001b[0;36mfilter_traceback.<locals>.error_handler\u001b[0;34m(*args, **kwargs)\u001b[0m\n\u001b[1;32m     63\u001b[0m filtered_tb \u001b[38;5;241m=\u001b[39m \u001b[38;5;28;01mNone\u001b[39;00m\n\u001b[1;32m     64\u001b[0m \u001b[38;5;28;01mtry\u001b[39;00m:\n\u001b[0;32m---> 65\u001b[0m     \u001b[38;5;28;01mreturn\u001b[39;00m \u001b[43mfn\u001b[49m\u001b[43m(\u001b[49m\u001b[38;5;241;43m*\u001b[39;49m\u001b[43margs\u001b[49m\u001b[43m,\u001b[49m\u001b[43m \u001b[49m\u001b[38;5;241;43m*\u001b[39;49m\u001b[38;5;241;43m*\u001b[39;49m\u001b[43mkwargs\u001b[49m\u001b[43m)\u001b[49m\n\u001b[1;32m     66\u001b[0m \u001b[38;5;28;01mexcept\u001b[39;00m \u001b[38;5;167;01mException\u001b[39;00m \u001b[38;5;28;01mas\u001b[39;00m e:\n\u001b[1;32m     67\u001b[0m     filtered_tb \u001b[38;5;241m=\u001b[39m _process_traceback_frames(e\u001b[38;5;241m.\u001b[39m__traceback__)\n",
      "File \u001b[0;32m~/.local/lib/python3.10/site-packages/keras/src/engine/training.py:1806\u001b[0m, in \u001b[0;36mModel.fit\u001b[0;34m(self, x, y, batch_size, epochs, verbose, callbacks, validation_split, validation_data, shuffle, class_weight, sample_weight, initial_epoch, steps_per_epoch, validation_steps, validation_batch_size, validation_freq, max_queue_size, workers, use_multiprocessing)\u001b[0m\n\u001b[1;32m   1795\u001b[0m     \u001b[38;5;28;01mraise\u001b[39;00m \u001b[38;5;167;01mValueError\u001b[39;00m(\n\u001b[1;32m   1796\u001b[0m         \u001b[38;5;124m\"\u001b[39m\u001b[38;5;124mUnexpected result of `train_function` \u001b[39m\u001b[38;5;124m\"\u001b[39m\n\u001b[1;32m   1797\u001b[0m         \u001b[38;5;124m\"\u001b[39m\u001b[38;5;124m(Empty logs). This could be due to issues in input \u001b[39m\u001b[38;5;124m\"\u001b[39m\n\u001b[0;32m   (...)\u001b[0m\n\u001b[1;32m   1803\u001b[0m         \u001b[38;5;124m\"\u001b[39m\u001b[38;5;124missue/bug to `tf.keras`.\u001b[39m\u001b[38;5;124m\"\u001b[39m\n\u001b[1;32m   1804\u001b[0m     )\n\u001b[1;32m   1805\u001b[0m \u001b[38;5;66;03m# Override with model metrics instead of last step logs\u001b[39;00m\n\u001b[0;32m-> 1806\u001b[0m logs \u001b[38;5;241m=\u001b[39m \u001b[38;5;28;43mself\u001b[39;49m\u001b[38;5;241;43m.\u001b[39;49m\u001b[43m_validate_and_get_metrics_result\u001b[49m\u001b[43m(\u001b[49m\u001b[43mlogs\u001b[49m\u001b[43m)\u001b[49m\n\u001b[1;32m   1807\u001b[0m epoch_logs \u001b[38;5;241m=\u001b[39m copy\u001b[38;5;241m.\u001b[39mcopy(logs)\n\u001b[1;32m   1809\u001b[0m \u001b[38;5;66;03m# Run validation.\u001b[39;00m\n",
      "File \u001b[0;32m~/.local/lib/python3.10/site-packages/keras/src/engine/training.py:1288\u001b[0m, in \u001b[0;36mModel._validate_and_get_metrics_result\u001b[0;34m(self, logs)\u001b[0m\n\u001b[1;32m   1282\u001b[0m \u001b[38;5;28;01melse\u001b[39;00m:\n\u001b[1;32m   1283\u001b[0m     \u001b[38;5;66;03m# Verify that train / test step logs passed and metric logs have\u001b[39;00m\n\u001b[1;32m   1284\u001b[0m     \u001b[38;5;66;03m# matching keys. Could be different when using custom step functions\u001b[39;00m\n\u001b[1;32m   1285\u001b[0m     \u001b[38;5;28;01mif\u001b[39;00m \u001b[38;5;28misinstance\u001b[39m(logs, \u001b[38;5;28mdict\u001b[39m) \u001b[38;5;129;01mand\u001b[39;00m \u001b[38;5;28mset\u001b[39m(logs\u001b[38;5;241m.\u001b[39mkeys()) \u001b[38;5;241m==\u001b[39m \u001b[38;5;28mset\u001b[39m(\n\u001b[1;32m   1286\u001b[0m         metric_logs\u001b[38;5;241m.\u001b[39mkeys()\n\u001b[1;32m   1287\u001b[0m     ):\n\u001b[0;32m-> 1288\u001b[0m         logs \u001b[38;5;241m=\u001b[39m \u001b[43mtf_utils\u001b[49m\u001b[38;5;241;43m.\u001b[39;49m\u001b[43msync_to_numpy_or_python_type\u001b[49m\u001b[43m(\u001b[49m\u001b[43mmetric_logs\u001b[49m\u001b[43m)\u001b[49m\n\u001b[1;32m   1289\u001b[0m     \u001b[38;5;28;01melif\u001b[39;00m \u001b[38;5;28mself\u001b[39m\u001b[38;5;241m.\u001b[39m_cluster_coordinator:\n\u001b[1;32m   1290\u001b[0m         logging\u001b[38;5;241m.\u001b[39mwarning(PSS_WARN_MSG)\n",
      "File \u001b[0;32m~/.local/lib/python3.10/site-packages/keras/src/utils/tf_utils.py:694\u001b[0m, in \u001b[0;36msync_to_numpy_or_python_type\u001b[0;34m(tensors)\u001b[0m\n\u001b[1;32m    691\u001b[0m         \u001b[38;5;28;01mreturn\u001b[39;00m t\n\u001b[1;32m    692\u001b[0m     \u001b[38;5;28;01mreturn\u001b[39;00m t\u001b[38;5;241m.\u001b[39mitem() \u001b[38;5;28;01mif\u001b[39;00m np\u001b[38;5;241m.\u001b[39mndim(t) \u001b[38;5;241m==\u001b[39m \u001b[38;5;241m0\u001b[39m \u001b[38;5;28;01melse\u001b[39;00m t\n\u001b[0;32m--> 694\u001b[0m \u001b[38;5;28;01mreturn\u001b[39;00m \u001b[43mtf\u001b[49m\u001b[38;5;241;43m.\u001b[39;49m\u001b[43mnest\u001b[49m\u001b[38;5;241;43m.\u001b[39;49m\u001b[43mmap_structure\u001b[49m\u001b[43m(\u001b[49m\u001b[43m_to_single_numpy_or_python_type\u001b[49m\u001b[43m,\u001b[49m\u001b[43m \u001b[49m\u001b[43mtensors\u001b[49m\u001b[43m)\u001b[49m\n",
      "File \u001b[0;32m~/.local/lib/python3.10/site-packages/tensorflow/python/util/nest.py:629\u001b[0m, in \u001b[0;36mmap_structure\u001b[0;34m(func, *structure, **kwargs)\u001b[0m\n\u001b[1;32m    543\u001b[0m \u001b[38;5;129m@tf_export\u001b[39m(\u001b[38;5;124m\"\u001b[39m\u001b[38;5;124mnest.map_structure\u001b[39m\u001b[38;5;124m\"\u001b[39m)\n\u001b[1;32m    544\u001b[0m \u001b[38;5;28;01mdef\u001b[39;00m \u001b[38;5;21mmap_structure\u001b[39m(func, \u001b[38;5;241m*\u001b[39mstructure, \u001b[38;5;241m*\u001b[39m\u001b[38;5;241m*\u001b[39mkwargs):\n\u001b[1;32m    545\u001b[0m \u001b[38;5;250m  \u001b[39m\u001b[38;5;124;03m\"\"\"Creates a new structure by applying `func` to each atom in `structure`.\u001b[39;00m\n\u001b[1;32m    546\u001b[0m \n\u001b[1;32m    547\u001b[0m \u001b[38;5;124;03m  Refer to [tf.nest](https://www.tensorflow.org/api_docs/python/tf/nest)\u001b[39;00m\n\u001b[0;32m   (...)\u001b[0m\n\u001b[1;32m    627\u001b[0m \u001b[38;5;124;03m    ValueError: If wrong keyword arguments are provided.\u001b[39;00m\n\u001b[1;32m    628\u001b[0m \u001b[38;5;124;03m  \"\"\"\u001b[39;00m\n\u001b[0;32m--> 629\u001b[0m   \u001b[38;5;28;01mreturn\u001b[39;00m \u001b[43mnest_util\u001b[49m\u001b[38;5;241;43m.\u001b[39;49m\u001b[43mmap_structure\u001b[49m\u001b[43m(\u001b[49m\n\u001b[1;32m    630\u001b[0m \u001b[43m      \u001b[49m\u001b[43mnest_util\u001b[49m\u001b[38;5;241;43m.\u001b[39;49m\u001b[43mModality\u001b[49m\u001b[38;5;241;43m.\u001b[39;49m\u001b[43mCORE\u001b[49m\u001b[43m,\u001b[49m\u001b[43m \u001b[49m\u001b[43mfunc\u001b[49m\u001b[43m,\u001b[49m\u001b[43m \u001b[49m\u001b[38;5;241;43m*\u001b[39;49m\u001b[43mstructure\u001b[49m\u001b[43m,\u001b[49m\u001b[43m \u001b[49m\u001b[38;5;241;43m*\u001b[39;49m\u001b[38;5;241;43m*\u001b[39;49m\u001b[43mkwargs\u001b[49m\n\u001b[1;32m    631\u001b[0m \u001b[43m  \u001b[49m\u001b[43m)\u001b[49m\n",
      "File \u001b[0;32m~/.local/lib/python3.10/site-packages/tensorflow/python/util/nest_util.py:1168\u001b[0m, in \u001b[0;36mmap_structure\u001b[0;34m(modality, func, *structure, **kwargs)\u001b[0m\n\u001b[1;32m   1071\u001b[0m \u001b[38;5;250m\u001b[39m\u001b[38;5;124;03m\"\"\"Creates a new structure by applying `func` to each atom in `structure`.\u001b[39;00m\n\u001b[1;32m   1072\u001b[0m \n\u001b[1;32m   1073\u001b[0m \u001b[38;5;124;03m- For Modality.CORE: Refer to\u001b[39;00m\n\u001b[0;32m   (...)\u001b[0m\n\u001b[1;32m   1165\u001b[0m \u001b[38;5;124;03m  ValueError: If wrong keyword arguments are provided.\u001b[39;00m\n\u001b[1;32m   1166\u001b[0m \u001b[38;5;124;03m\"\"\"\u001b[39;00m\n\u001b[1;32m   1167\u001b[0m \u001b[38;5;28;01mif\u001b[39;00m modality \u001b[38;5;241m==\u001b[39m Modality\u001b[38;5;241m.\u001b[39mCORE:\n\u001b[0;32m-> 1168\u001b[0m   \u001b[38;5;28;01mreturn\u001b[39;00m \u001b[43m_tf_core_map_structure\u001b[49m\u001b[43m(\u001b[49m\u001b[43mfunc\u001b[49m\u001b[43m,\u001b[49m\u001b[43m \u001b[49m\u001b[38;5;241;43m*\u001b[39;49m\u001b[43mstructure\u001b[49m\u001b[43m,\u001b[49m\u001b[43m \u001b[49m\u001b[38;5;241;43m*\u001b[39;49m\u001b[38;5;241;43m*\u001b[39;49m\u001b[43mkwargs\u001b[49m\u001b[43m)\u001b[49m\n\u001b[1;32m   1169\u001b[0m \u001b[38;5;28;01melif\u001b[39;00m modality \u001b[38;5;241m==\u001b[39m Modality\u001b[38;5;241m.\u001b[39mDATA:\n\u001b[1;32m   1170\u001b[0m   \u001b[38;5;28;01mreturn\u001b[39;00m _tf_data_map_structure(func, \u001b[38;5;241m*\u001b[39mstructure, \u001b[38;5;241m*\u001b[39m\u001b[38;5;241m*\u001b[39mkwargs)\n",
      "File \u001b[0;32m~/.local/lib/python3.10/site-packages/tensorflow/python/util/nest_util.py:1206\u001b[0m, in \u001b[0;36m_tf_core_map_structure\u001b[0;34m(func, *structure, **kwargs)\u001b[0m\n\u001b[1;32m   1203\u001b[0m flat_structure \u001b[38;5;241m=\u001b[39m (_tf_core_flatten(s, expand_composites) \u001b[38;5;28;01mfor\u001b[39;00m s \u001b[38;5;129;01min\u001b[39;00m structure)\n\u001b[1;32m   1204\u001b[0m entries \u001b[38;5;241m=\u001b[39m \u001b[38;5;28mzip\u001b[39m(\u001b[38;5;241m*\u001b[39mflat_structure)\n\u001b[0;32m-> 1206\u001b[0m \u001b[38;5;28;01mreturn\u001b[39;00m \u001b[43m_tf_core_pack_sequence_as\u001b[49m\u001b[43m(\u001b[49m\n\u001b[1;32m   1207\u001b[0m \u001b[43m    \u001b[49m\u001b[43mstructure\u001b[49m\u001b[43m[\u001b[49m\u001b[38;5;241;43m0\u001b[39;49m\u001b[43m]\u001b[49m\u001b[43m,\u001b[49m\n\u001b[1;32m   1208\u001b[0m \u001b[43m    \u001b[49m\u001b[43m[\u001b[49m\u001b[43mfunc\u001b[49m\u001b[43m(\u001b[49m\u001b[38;5;241;43m*\u001b[39;49m\u001b[43mx\u001b[49m\u001b[43m)\u001b[49m\u001b[43m \u001b[49m\u001b[38;5;28;43;01mfor\u001b[39;49;00m\u001b[43m \u001b[49m\u001b[43mx\u001b[49m\u001b[43m \u001b[49m\u001b[38;5;129;43;01min\u001b[39;49;00m\u001b[43m \u001b[49m\u001b[43mentries\u001b[49m\u001b[43m]\u001b[49m\u001b[43m,\u001b[49m\n\u001b[1;32m   1209\u001b[0m \u001b[43m    \u001b[49m\u001b[43mexpand_composites\u001b[49m\u001b[38;5;241;43m=\u001b[39;49m\u001b[43mexpand_composites\u001b[49m\u001b[43m,\u001b[49m\n\u001b[1;32m   1210\u001b[0m \u001b[43m\u001b[49m\u001b[43m)\u001b[49m\n",
      "File \u001b[0;32m~/.local/lib/python3.10/site-packages/tensorflow/python/util/nest_util.py:1006\u001b[0m, in \u001b[0;36m_tf_core_pack_sequence_as\u001b[0;34m(structure, flat_sequence, expand_composites, sequence_fn)\u001b[0m\n\u001b[1;32m   1003\u001b[0m   \u001b[38;5;28;01mreturn\u001b[39;00m flat_sequence[\u001b[38;5;241m0\u001b[39m]\n\u001b[1;32m   1005\u001b[0m \u001b[38;5;28;01mtry\u001b[39;00m:\n\u001b[0;32m-> 1006\u001b[0m   final_index, packed \u001b[38;5;241m=\u001b[39m \u001b[43m_tf_core_packed_nest_with_indices\u001b[49m\u001b[43m(\u001b[49m\n\u001b[1;32m   1007\u001b[0m \u001b[43m      \u001b[49m\u001b[43mstructure\u001b[49m\u001b[43m,\u001b[49m\u001b[43m \u001b[49m\u001b[43mflat_sequence\u001b[49m\u001b[43m,\u001b[49m\u001b[43m \u001b[49m\u001b[38;5;241;43m0\u001b[39;49m\u001b[43m,\u001b[49m\u001b[43m \u001b[49m\u001b[43mis_nested_fn\u001b[49m\u001b[43m,\u001b[49m\u001b[43m \u001b[49m\u001b[43msequence_fn\u001b[49m\n\u001b[1;32m   1008\u001b[0m \u001b[43m  \u001b[49m\u001b[43m)\u001b[49m\n\u001b[1;32m   1009\u001b[0m   \u001b[38;5;28;01mif\u001b[39;00m final_index \u001b[38;5;241m<\u001b[39m \u001b[38;5;28mlen\u001b[39m(flat_sequence):\n\u001b[1;32m   1010\u001b[0m     \u001b[38;5;28;01mraise\u001b[39;00m \u001b[38;5;167;01mIndexError\u001b[39;00m\n",
      "File \u001b[0;32m~/.local/lib/python3.10/site-packages/tensorflow/python/util/nest_util.py:675\u001b[0m, in \u001b[0;36m_tf_core_packed_nest_with_indices\u001b[0;34m(structure, flat, index, is_nested_fn, sequence_fn)\u001b[0m\n\u001b[1;32m    673\u001b[0m sequence_fn \u001b[38;5;241m=\u001b[39m sequence_fn \u001b[38;5;129;01mor\u001b[39;00m sequence_like\n\u001b[1;32m    674\u001b[0m \u001b[38;5;28;01mfor\u001b[39;00m s \u001b[38;5;129;01min\u001b[39;00m _tf_core_yield_value(structure):\n\u001b[0;32m--> 675\u001b[0m   \u001b[38;5;28;01mif\u001b[39;00m \u001b[43mis_nested_fn\u001b[49m\u001b[43m(\u001b[49m\u001b[43ms\u001b[49m\u001b[43m)\u001b[49m:\n\u001b[1;32m    676\u001b[0m     new_index, child \u001b[38;5;241m=\u001b[39m _tf_core_packed_nest_with_indices(\n\u001b[1;32m    677\u001b[0m         s, flat, index, is_nested_fn, sequence_fn\n\u001b[1;32m    678\u001b[0m     )\n\u001b[1;32m    679\u001b[0m     packed\u001b[38;5;241m.\u001b[39mappend(sequence_fn(s, child))\n",
      "\u001b[0;31mKeyboardInterrupt\u001b[0m: "
     ]
    }
   ],
   "source": [
    "# Begin the search\n",
    "EPOCHS = 100\n",
    "\n",
    "tuner.search(\n",
    "    input_train_scaled,\n",
    "    label_train_scaled,\n",
    "    epochs=EPOCHS,\n",
    "    validation_split=0.1\n",
    ")\n",
    "\n",
    "# Query the tuner object to grab the best models\n",
    "models = tuner.get_best_models(num_models=5)\n",
    "\n",
    "# Here is the best model from the tuner\n",
    "best_model = models[0]\n",
    "print(best_model.summary())\n",
    "\n",
    "# Get the top hyperparameters.\n",
    "best_hps = tuner.get_best_hyperparameters()\n",
    "\n",
    "# Build the model with the best hyperparameters.\n",
    "# Assuming your MyHyperModel has a build method that takes a hyperparameter object.\n",
    "model = MyHyperModel().build(best_hps[0])\n",
    "\n",
    "# Save the best model (architecture and weights)\n",
    "\n",
    "save_dir = \"/glade/derecho/scratch/rmandava/AEW_time_location_files/models\"\n",
    "model_save_path = os.path.join(save_dir, model_save_name)\n",
    "\n",
    "model.save(model_save_path)\n",
    "\n",
    "\n",
    "# Retrain using \"best\" model hyperparameters\n",
    "history = model.fit(\n",
    "    input_train_scaled,\n",
    "    label_train_scaled,\n",
    "    epochs=EPOCHS,\n",
    "    validation_split=0.1,\n",
    "    batch_size= 32,\n",
    "    # callbacks=keras.callbacks.EarlyStopping('val_loss', patience=3),\n",
    "    shuffle=True,\n",
    "    class_weight=class_weight,  # Ensure 'class_weight' is defined in your scope\n",
    ")\n",
    "\n",
    "# Evaluate the model on the test data using `evaluate`\n",
    "results = model.evaluate(input_test_scaled, label_test_scaled, batch_size=label_test_scaled.shape[0])\n",
    "print(results)\n",
    "\n",
    "# Generate predictions (probabilities—the output of the last layer)\n",
    "predictions = model.predict(input_test_scaled)\n",
    "print(\"predictions shape:\", predictions.shape)\n",
    "\n",
    "# Compute confusion matrix elements\n",
    "tn, fp, fn, tp = sklearn.metrics.confusion_matrix(\n",
    "    label_test_scaled, np.round(predictions)\n",
    ").ravel()\n",
    "print(\"tn:\", tn)\n",
    "print(\"fp:\", fp)\n",
    "print(\"fn:\", fn)\n",
    "print(\"tp:\", tp)\n"
   ]
  },
  {
   "cell_type": "code",
   "execution_count": null,
   "id": "88d463e2-12e7-474b-95c1-ae20c22a093c",
   "metadata": {},
   "outputs": [],
   "source": [
    "pred_labels = np.round(predictions.flatten())\n",
    "true_labels = label_test_scaled.flatten()\n",
    "false_neg_idx = np.where((true_labels == 1) & (pred_labels == 0))[0]\n",
    "false_pos_idx = np.where((true_labels == 0) & (pred_labels == 1))[0]\n",
    "true_pos_idx = np.where((true_labels == 1) & (pred_labels == 1))[0]\n",
    "true_neg_idx = np.where((true_labels == 0) & (pred_labels == 0))[0]\n",
    "\n",
    "print(\"Number of false negatives:\", len(false_neg_idx))\n",
    "print(\"Number of false positives:\", len(false_pos_idx))\n",
    "\n"
   ]
  },
  {
   "cell_type": "code",
   "execution_count": null,
   "id": "cd6ddefd-a847-4a5c-a028-ca25e1e1d87c",
   "metadata": {
    "papermill": {
     "duration": 0.042059,
     "end_time": "2025-03-05T20:46:02.526276",
     "exception": false,
     "start_time": "2025-03-05T20:46:02.484217",
     "status": "completed"
    },
    "tags": []
   },
   "outputs": [],
   "source": [
    "# Assuming lat_test and lon_test are arrays with shape (num_samples, height, width)\n",
    "#central_lat = lat_test[:, lat_test.shape[1]//2, lat_test.shape[2]//2]\n",
    "#central_lon = lon_test[:, lon_test.shape[1]//2, lon_test.shape[2]//2]\n",
    "\n",
    "#lats_false_neg = central_lat[false_neg_idx]\n",
    "#lons_false_neg = central_lon[false_neg_idx]\n",
    "\n",
    "#lats_false_pos = central_lat[false_pos_idx]\n",
    "#lons_false_pos = central_lon[false_pos_idx]\n",
    "# Assuming lat_test and lon_test are 1D arrays with one coordinate per sample\n",
    "lat_false_neg = lat_test[false_neg_idx]\n",
    "lon_false_neg = lon_test[false_neg_idx]\n",
    "\n",
    "lat_false_pos = lat_test[false_pos_idx]\n",
    "lon_false_pos = lon_test[false_pos_idx]\n",
    "\n",
    "lat_true_pos = lat_test[true_pos_idx]\n",
    "lon_true_pos = lon_test[true_pos_idx]\n",
    "\n",
    "lat_true_neg = lat_test[true_neg_idx]\n",
    "lon_true_neg = lon_test[true_neg_idx]\n",
    "\n",
    "\n"
   ]
  },
  {
   "cell_type": "code",
   "execution_count": null,
   "id": "798796b5-b155-48c8-bd46-4c1a1f5fedba",
   "metadata": {},
   "outputs": [],
   "source": [
    "print(\"Unique latitudes in test set:\", np.unique(lat_test))\n",
    "print(\"Unique longitudes in test set:\", np.unique(lon_test))\n"
   ]
  },
  {
   "cell_type": "code",
   "execution_count": null,
   "id": "eb0f4581-4248-48f1-bd51-5d4bb476f030",
   "metadata": {},
   "outputs": [],
   "source": [
    "import matplotlib.pyplot as plt\n",
    "\n",
    "plt.figure(figsize=(8, 6))\n",
    "plt.scatter(lon_false_neg, lat_false_neg, marker='x', color='red', label='False Negatives')\n",
    "plt.scatter(lon_false_pos, lat_false_pos, marker='o', color='blue', label='False Positives')\n",
    "plt.xlabel('Longitude')\n",
    "plt.ylabel('Latitude')\n",
    "plt.title('Geographic Distribution of Misclassifications')\n",
    "plt.legend()\n",
    "plt.show()\n"
   ]
  },
  {
   "cell_type": "code",
   "execution_count": null,
   "id": "e5f3eb33-d853-48b3-8416-46e48cd99444",
   "metadata": {},
   "outputs": [],
   "source": []
  },
  {
   "cell_type": "code",
   "execution_count": null,
   "id": "512e75d1-8ea6-4a7e-90c9-aaf6ad6d5a85",
   "metadata": {},
   "outputs": [],
   "source": [
    "import matplotlib.pyplot as plt\n",
    "import cartopy.crs as ccrs\n",
    "import cartopy.feature as cfeature\n",
    "fig = plt.figure(figsize=(10, 8))\n",
    "ax = plt.axes(projection=ccrs.PlateCarree())\n",
    "\n",
    "\n",
    "\n",
    "lon_min, lon_max = np.min(lon_test)-15, np.max(lon_test)+15\n",
    "lat_min, lat_max = np.min(lat_test)-15, np.max(lat_test)+15\n",
    "ax.set_extent([lon_min, lon_max, lat_min, lat_max], crs=ccrs.PlateCarree())\n",
    "\n",
    "# Add map features\n",
    "ax.add_feature(cfeature.COASTLINE, linewidth=0.5)\n",
    "ax.add_feature(cfeature.BORDERS, linestyle=':', linewidth=0.5)\n",
    "ax.add_feature(cfeature.LAND, edgecolor='black', facecolor='lightgray')\n",
    "ax.add_feature(cfeature.OCEAN, facecolor='lightblue')\n",
    "\n",
    "# Plot misclassified points:\n",
    "ax.scatter(lon_false_neg, lat_false_neg, color='red', marker='x', s=100,\n",
    "           transform=ccrs.PlateCarree(), label='False Negatives')\n",
    "ax.scatter(lon_false_pos, lat_false_pos, color='blue', marker='o', s=100,\n",
    "           transform=ccrs.PlateCarree(), label='False Positives')\n",
    "\n",
    "plt.title(\"Misclassified Test Samples on Map\")\n",
    "plt.legend()\n",
    "plt.show()"
   ]
  },
  {
   "cell_type": "code",
   "execution_count": null,
   "id": "4561912c-9788-442a-a527-f125871dbce3",
   "metadata": {},
   "outputs": [],
   "source": [
    "import matplotlib.pyplot as plt\n",
    "import cartopy.crs as ccrs\n",
    "import cartopy.feature as cfeature\n",
    "\n",
    "fig = plt.figure(figsize=(10, 8))\n",
    "ax = plt.axes(projection=ccrs.PlateCarree())\n",
    "\n",
    "# Set map extent (adjust margins as desired)\n",
    "lon_min, lon_max = np.min(lon_test) - 10, np.max(lon_test) + 10\n",
    "lat_min, lat_max = np.min(lat_test) - 10, np.max(lat_test) + 10\n",
    "ax.set_extent([lon_min, lon_max, lat_min, lat_max], crs=ccrs.PlateCarree())\n",
    "\n",
    "# Add map features\n",
    "ax.add_feature(cfeature.COASTLINE, linewidth=0.5)\n",
    "ax.add_feature(cfeature.BORDERS, linestyle=':', linewidth=0.5)\n",
    "ax.add_feature(cfeature.LAND, facecolor='lightgray', edgecolor='black')\n",
    "ax.add_feature(cfeature.OCEAN, facecolor='lightblue')\n",
    "# Plot misclassified points\n",
    "ax.scatter(lon_false_neg, lat_false_neg, color='red', marker='x', s=100,\n",
    "           transform=ccrs.PlateCarree(), label='False Negatives')\n",
    "ax.scatter(lon_false_pos, lat_false_pos, color='blue', marker='o', s=100,\n",
    "           transform=ccrs.PlateCarree(), label='False Positives')\n",
    "\n",
    "\n",
    "\n",
    "# Plot correctly classified points\n",
    "ax.scatter(lon_true_pos, lat_true_pos, color='green', marker='^', s=100,\n",
    "           transform=ccrs.PlateCarree(), label='True Positives')\n",
    "ax.scatter(lon_true_neg, lat_true_neg, color='orange', marker='s', s=100,\n",
    "           transform=ccrs.PlateCarree(), label='True Negatives')\n",
    "\n",
    "plt.title(\"Test Set Classification Results on Map\")\n",
    "plt.legend()\n",
    "plt.show()\n"
   ]
  },
  {
   "cell_type": "code",
   "execution_count": null,
   "id": "dffe393f-a6c9-440d-b648-78010a1d0ecf",
   "metadata": {},
   "outputs": [],
   "source": [
    "print(\"Total samples:\", len(sample_lat))\n",
    "print(\"Unique latitudes:\", len(np.unique(sample_lat)))\n",
    "print(\"Unique longitudes:\", len(np.unique(sample_lon)))\n"
   ]
  },
  {
   "cell_type": "code",
   "execution_count": null,
   "id": "3e932dda-37e1-4158-8655-7d2a041a1a0c",
   "metadata": {},
   "outputs": [],
   "source": [
    "print(\"First 10 latitudes:\", sample_lat[:10])\n",
    "print(\"First 10 longitudes:\", sample_lon[:10])\n"
   ]
  },
  {
   "cell_type": "code",
   "execution_count": null,
   "id": "fe686778-d179-4dec-8b2e-472700d70e83",
   "metadata": {},
   "outputs": [],
   "source": [
    "import matplotlib.pyplot as plt\n",
    "\n",
    "plt.figure(figsize=(8, 6))\n",
    "plt.scatter(sample_lon, sample_lat, c='green', marker='o')\n",
    "plt.xlabel('Longitude')\n",
    "plt.ylabel('Latitude')\n",
    "plt.title('Per-Sample Weighted Centroid Coordinates')\n",
    "plt.show()\n"
   ]
  },
  {
   "cell_type": "code",
   "execution_count": null,
   "id": "5563a928-7d7f-402d-94e1-63dd0cff0982",
   "metadata": {
    "papermill": {
     "duration": 13.848113,
     "end_time": "2025-03-05T20:46:16.415723",
     "exception": false,
     "start_time": "2025-03-05T20:46:02.567610",
     "status": "completed"
    },
    "tags": []
   },
   "outputs": [],
   "source": [
    "\n",
    "\n",
    "# --- Permutation Importance ---\n",
    "# Evaluate baseline performance using your loss metric (here, the custom f1_loss_sigmoid)\n",
    "# model.metrics_names gives a list where index 0 is 'loss'\n",
    "baseline_results = model.evaluate(input_test_scaled, label_test_scaled,\n",
    "                                  batch_size=label_test_scaled.shape[0],\n",
    "                                  verbose=0)\n",
    "baseline_loss = baseline_results[model.metrics_names.index('loss')]\n",
    "print(\"Baseline loss:\", baseline_loss)\n",
    "\n",
    "# Set the number of repetitions for averaging\n",
    "n_repeats = 5\n",
    "n_features = input_test_scaled.shape[-1]\n",
    "permutation_importances = np.zeros(n_features)\n",
    "\n",
    "# Loop over each feature (channel)\n",
    "for feature_idx in range(n_features):\n",
    "    permuted_losses = []\n",
    "    for _ in range(n_repeats):\n",
    "        # Copy the test set to avoid modifying the original\n",
    "        X_permuted = np.copy(input_test_scaled)\n",
    "        # Permute the values of the selected feature across samples\n",
    "        perm = np.random.permutation(X_permuted.shape[0])\n",
    "        X_permuted[:, :, :, feature_idx] = X_permuted[perm, :, :, feature_idx]\n",
    "        \n",
    "        # Evaluate the model on the permuted test set\n",
    "        permuted_results = model.evaluate(X_permuted, label_test_scaled,\n",
    "                                          batch_size=label_test_scaled.shape[0],\n",
    "                                          verbose=0)\n",
    "        permuted_loss = permuted_results[model.metrics_names.index('loss')]\n",
    "        permuted_losses.append(permuted_loss)\n",
    "    \n",
    "    avg_permuted_loss = np.mean(permuted_losses)\n",
    "    # The difference between the permuted loss and baseline loss indicates feature importance:\n",
    "    # A larger increase means the feature is more important.\n",
    "    permutation_importances[feature_idx] = avg_permuted_loss - baseline_loss\n",
    "    print(f\"Feature {feature_idx} - Increase in Loss: {permutation_importances[feature_idx]}\")\n",
    "\n",
    "print(\"Permutation Importances (increase in loss) for all features:\", permutation_importances)\n"
   ]
  },
  {
   "cell_type": "code",
   "execution_count": null,
   "id": "b23e4f15-e79e-4040-b328-2096906415f9",
   "metadata": {
    "papermill": {
     "duration": 0.467125,
     "end_time": "2025-03-05T20:46:16.925109",
     "exception": false,
     "start_time": "2025-03-05T20:46:16.457984",
     "status": "completed"
    },
    "tags": []
   },
   "outputs": [],
   "source": [
    "import matplotlib.pyplot as plt\n",
    "import numpy as np\n",
    "\n",
    "# Suppose permutation_importances is the numpy array you printed:\n",
    "# e.g., [0.0820, 0.0824, 0.0815, 0.0864, 0.0121, ...]\n",
    "\n",
    "feature_indices = np.arange(len(permutation_importances))\n",
    "\n",
    "plt.figure(figsize=(8, 5))\n",
    "plt.bar(feature_indices, permutation_importances)\n",
    "plt.xlabel(\"Feature Index\")\n",
    "plt.ylabel(\"Increase in Loss (Permutation Importance)\")\n",
    "plt.title(\"Permutation Importance by Feature\")\n",
    "plt.xticks(feature_indices, [f\"F{i}\" for i in feature_indices], rotation=45)\n",
    "plt.tight_layout()\n",
    "plt.show()\n"
   ]
  },
  {
   "cell_type": "code",
   "execution_count": null,
   "id": "1765f8b0-69ed-4917-82f7-f15ef12cc837",
   "metadata": {
    "papermill": {
     "duration": 0.043518,
     "end_time": "2025-03-05T20:46:17.012058",
     "exception": false,
     "start_time": "2025-03-05T20:46:16.968540",
     "status": "completed"
    },
    "tags": []
   },
   "outputs": [],
   "source": [
    "sample_index = 0\n",
    "sample_input = input_test_scaled[sample_index:sample_index+1]\n",
    "\n",
    "# Compute the saliency map for the selected test sample\n",
    "saliency_map = compute_saliency_map(model, sample_input)\n",
    "\n",
    "# Plot the saliency map\n",
    "plt.figure(figsize=(8, 8))\n",
    "plt.imshow(saliency_map, cmap='hot')\n",
    "plt.colorbar()\n",
    "plt.title(f\"Saliency Map for Sample Index {sample_index}\")\n",
    "plt.show()\n",
    "\n"
   ]
  },
  {
   "cell_type": "code",
   "execution_count": null,
   "id": "5aa54c93-f08a-46e2-a610-95424eb79806",
   "metadata": {
    "papermill": {
     "duration": 0.042628,
     "end_time": "2025-03-05T20:46:17.098037",
     "exception": false,
     "start_time": "2025-03-05T20:46:17.055409",
     "status": "completed"
    },
    "tags": []
   },
   "outputs": [],
   "source": [
    "sample_index = 1\n",
    "sample_input = input_test_scaled[sample_index:sample_index+1]\n",
    "\n",
    "# Compute saliency maps per channel for the selected input sample\n",
    "saliency_maps, channel_importance = compute_saliency_per_channel(model, sample_input)\n",
    "\n",
    "# Plot the saliency maps for each channel\n",
    "num_channels = saliency_maps.shape[-1]\n",
    "cols = 5  # Set number of columns for plotting\n",
    "rows = int(np.ceil(num_channels / cols))\n",
    "plt.figure(figsize=(15, rows * 3))\n",
    "for c in range(num_channels):\n",
    "    plt.subplot(rows, cols, c + 1)\n",
    "    plt.imshow(saliency_maps[:, :, c], cmap='hot')\n",
    "    plt.title(f'Channel {c}\\nMean: {channel_importance[c]:.4f}')\n",
    "    plt.axis('off')\n",
    "plt.tight_layout()\n",
    "plt.show()\n",
    "\n",
    "# Print aggregated channel importance values\n",
    "print(\"Channel importance (mean saliency per channel):\")\n",
    "for c, imp in enumerate(channel_importance):\n",
    "    print(f\"Channel {c}: {imp:.4f}\")\n"
   ]
  },
  {
   "cell_type": "code",
   "execution_count": null,
   "id": "bfec3979-63a3-4211-9475-3445ad530009",
   "metadata": {
    "papermill": {
     "duration": 0.043201,
     "end_time": "2025-03-05T20:46:17.184585",
     "exception": false,
     "start_time": "2025-03-05T20:46:17.141384",
     "status": "completed"
    },
    "tags": []
   },
   "outputs": [],
   "source": []
  },
  {
   "cell_type": "code",
   "execution_count": null,
   "id": "f421b06b-75d2-4e23-beb0-dbb5f6c6240f",
   "metadata": {
    "papermill": {
     "duration": 0.041979,
     "end_time": "2025-03-05T20:46:17.268705",
     "exception": false,
     "start_time": "2025-03-05T20:46:17.226726",
     "status": "completed"
    },
    "tags": []
   },
   "outputs": [],
   "source": []
  },
  {
   "cell_type": "code",
   "execution_count": null,
   "id": "40b46d58-ad34-4817-a519-c9152372b7d4",
   "metadata": {
    "papermill": {
     "duration": 0.047731,
     "end_time": "2025-03-05T20:46:17.359595",
     "exception": false,
     "start_time": "2025-03-05T20:46:17.311864",
     "status": "completed"
    },
    "tags": []
   },
   "outputs": [],
   "source": []
  }
 ],
 "metadata": {
  "kernelspec": {
   "display_name": "Python 3 (ipykernel)",
   "language": "python",
   "name": "python3"
  },
  "language_info": {
   "codemirror_mode": {
    "name": "ipython",
    "version": 3
   },
   "file_extension": ".py",
   "mimetype": "text/x-python",
   "name": "python",
   "nbconvert_exporter": "python",
   "pygments_lexer": "ipython3",
   "version": "3.10.13"
  },
  "papermill": {
   "default_parameters": {},
   "duration": 7035.678234,
   "end_time": "2025-03-05T20:46:20.341478",
   "environment_variables": {},
   "exception": null,
   "input_path": "Hurricaneoriginal(300).ipynb",
   "output_path": "output_notebook_var(second)0.ipynb",
   "parameters": {
    "aew_subset": "12hr_before",
    "model_save_name": "best_model_var0.keras",
    "plevel_list": [
     false,
     false,
     300,
     false,
     false,
     false,
     300,
     300,
     850,
     300,
     850,
     false,
     false,
     false,
     false,
     300,
     850,
     false,
     300,
     850,
     300,
     850,
     300,
     300,
     850
    ],
    "tuner_project_name": "tuner_run(second)_0",
    "var_list": [
     "cape",
     "crr",
     "d",
     "ie",
     "ishf",
     "lsrr",
     "pv",
     "q",
     "q",
     "r",
     "r",
     "sp",
     "sstk",
     "tcw",
     "tcwv",
     "t",
     "t",
     "ttr",
     "u",
     "u",
     "v",
     "v",
     "vo",
     "w",
     "w"
    ]
   },
   "start_time": "2025-03-05T18:49:04.663244",
   "version": "2.6.0"
  }
 },
 "nbformat": 4,
 "nbformat_minor": 5
}
