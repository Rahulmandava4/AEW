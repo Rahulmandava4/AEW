{
 "cells": [
  {
   "cell_type": "code",
   "execution_count": null,
   "id": "2d2203c2-df40-428c-ae4c-71b20ba050c9",
   "metadata": {},
   "outputs": [],
   "source": [
    "\n"
   ]
  },
  {
   "cell_type": "code",
   "execution_count": 1,
   "id": "8bf88bb8-756d-47cb-ad74-88b3b302a462",
   "metadata": {
    "editable": true,
    "papermill": {
     "duration": 0.022322,
     "end_time": "2025-03-05T18:49:06.250982",
     "exception": false,
     "start_time": "2025-03-05T18:49:06.228660",
     "status": "completed"
    },
    "slideshow": {
     "slide_type": ""
    },
    "tags": [
     "Parameters",
     "parameters",
     "  Parameters"
    ]
   },
   "outputs": [],
   "source": [
    "# Parameters\n",
    "var_list = [\"default1\", \"default2\"]\n",
    "plevel_list = [False, 300]\n",
    "aew_subset = \"default_subset\"\n",
    "model_save_name = \"default_modelbase1.keras\"\n",
    "tuner_project_name = \"default_tuner_run1\"\n",
    "\n",
    "\n",
    "\n",
    "\n"
   ]
  },
  {
   "cell_type": "code",
   "execution_count": 2,
   "id": "b6798e3f",
   "metadata": {
    "papermill": {
     "duration": 0.012789,
     "end_time": "2025-03-05T18:49:06.269446",
     "exception": false,
     "start_time": "2025-03-05T18:49:06.256657",
     "status": "completed"
    },
    "tags": [
     "injected-parameters"
    ]
   },
   "outputs": [],
   "source": [
    "# Parameters\n",
    "# Parameters\n",
    "var_list = [\"cape\", \"crr\", \"d\", \"ie\", \"ishf\", \"lsrr\", \"pv\", \"q\",\"r\", \"sp\", \"sstk\", \"tcw\", \"tcwv\", \"t\", \"ttr\", \"u\",\"v\", \"vo\",\"w\"] #ERA5 variables\n",
    "\n",
    "\n",
    "\n",
    "plevel_list = [False, False,300, False, False, False, 300, 300, 300,False, False, False, False, 300,  False, 300,300  ,  300, 300] #pressure levels of variables\n",
    "\n",
    "aew_subset = \"12hr_before\"\n",
    "model_save_name = \"best_model_var(300)12345.keras\"\n",
    "tuner_project_name = \"tuner_run(300)12345\"\n"
   ]
  },
  {
   "cell_type": "code",
   "execution_count": null,
   "id": "cfe4b521-b034-49f0-a1ac-d961fe639066",
   "metadata": {
    "papermill": {
     "duration": 0.005028,
     "end_time": "2025-03-05T18:49:06.279538",
     "exception": false,
     "start_time": "2025-03-05T18:49:06.274510",
     "status": "completed"
    },
    "tags": []
   },
   "outputs": [],
   "source": [
    "\n"
   ]
  },
  {
   "cell_type": "code",
   "execution_count": 3,
   "id": "3d1aa354-4561-4486-9f61-73f2c1c81a31",
   "metadata": {
    "editable": true,
    "papermill": {
     "duration": 13.973479,
     "end_time": "2025-03-05T18:49:20.258119",
     "exception": false,
     "start_time": "2025-03-05T18:49:06.284640",
     "status": "completed"
    },
    "slideshow": {
     "slide_type": ""
    },
    "tags": []
   },
   "outputs": [
    {
     "name": "stderr",
     "output_type": "stream",
     "text": [
      "2025-04-29 00:49:46.890945: I tensorflow/core/util/port.cc:111] oneDNN custom operations are on. You may see slightly different numerical results due to floating-point round-off errors from different computation orders. To turn them off, set the environment variable `TF_ENABLE_ONEDNN_OPTS=0`.\n",
      "2025-04-29 00:49:46.893194: I tensorflow/tsl/cuda/cudart_stub.cc:28] Could not find cuda drivers on your machine, GPU will not be used.\n",
      "2025-04-29 00:49:46.914831: E tensorflow/compiler/xla/stream_executor/cuda/cuda_dnn.cc:9342] Unable to register cuDNN factory: Attempting to register factory for plugin cuDNN when one has already been registered\n",
      "2025-04-29 00:49:46.914865: E tensorflow/compiler/xla/stream_executor/cuda/cuda_fft.cc:609] Unable to register cuFFT factory: Attempting to register factory for plugin cuFFT when one has already been registered\n",
      "2025-04-29 00:49:46.914884: E tensorflow/compiler/xla/stream_executor/cuda/cuda_blas.cc:1518] Unable to register cuBLAS factory: Attempting to register factory for plugin cuBLAS when one has already been registered\n",
      "2025-04-29 00:49:46.920608: I tensorflow/tsl/cuda/cudart_stub.cc:28] Could not find cuda drivers on your machine, GPU will not be used.\n",
      "2025-04-29 00:49:46.921519: I tensorflow/core/platform/cpu_feature_guard.cc:182] This TensorFlow binary is optimized to use available CPU instructions in performance-critical operations.\n",
      "To enable the following instructions: AVX2 AVX512F AVX512_VNNI AVX512_BF16 FMA, in other operations, rebuild TensorFlow with the appropriate compiler flags.\n",
      "2025-04-29 00:49:48.116596: W tensorflow/compiler/tf2tensorrt/utils/py_utils.cc:38] TF-TRT Warning: Could not find TensorRT\n"
     ]
    }
   ],
   "source": [
    "#!/usr/bin/env python\n",
    "\n",
    "# coding: utf-8\n",
    "\n",
    "\n",
    "import numpy as np\n",
    "\n",
    "import matplotlib.pyplot as plt\n",
    "\n",
    "import xarray as xr\n",
    "\n",
    "import sklearn\n",
    "\n",
    "import sklearn.model_selection\n",
    "\n",
    "import keras\n",
    "\n",
    "from keras import layers\n",
    "\n",
    "import keras_tuner\n",
    "\n",
    "\n",
    "\n",
    "import tensorflow as tf\n",
    "\n",
    "import tensorflow.keras.backend as K\n",
    "\n",
    "keras.utils.set_random_seed(812)"
   ]
  },
  {
   "cell_type": "code",
   "execution_count": 4,
   "id": "32c4826e-dbc1-45c0-aca0-bc38d0254f70",
   "metadata": {},
   "outputs": [],
   "source": [
    "import tensorflow as tf\n",
    "\n",
    "def focal_loss(gamma=2.0, alpha=0.25):\n",
    "    \"\"\"Focal Loss for binary classification.\"\"\"\n",
    "    def loss_fn(y_true, y_pred):\n",
    "        # Clip to prevent NaNs \n",
    "        y_pred = tf.clip_by_value(y_pred, tf.keras.backend.epsilon(), 1 - tf.keras.backend.epsilon())\n",
    "        bce = tf.keras.backend.binary_crossentropy(y_true, y_pred)\n",
    "        p_t = y_true * y_pred + (1 - y_true) * (1 - y_pred)\n",
    "        modulating_factor = tf.pow(1.0 - p_t, gamma)\n",
    "        alpha_factor = y_true * alpha + (1 - y_true) * (1 - alpha)\n",
    "        return alpha_factor * modulating_factor * bce\n",
    "    return loss_fn\n"
   ]
  },
  {
   "cell_type": "code",
   "execution_count": 5,
   "id": "c74c2082-8917-4d0d-a2d7-b39f8548bcbb",
   "metadata": {
    "papermill": {
     "duration": 0.014754,
     "end_time": "2025-03-05T18:49:20.282885",
     "exception": false,
     "start_time": "2025-03-05T18:49:20.268131",
     "status": "completed"
    },
    "tags": []
   },
   "outputs": [],
   "source": [
    "#functions to calculate f1 score as loss function\n",
    "\n",
    "def f1_loss_sigmoid(y_true, y_pred):\n",
    "    \"\"\"\n",
    "\n",
    "    F1 metric for sigmoid output and integer encoded labels.\n",
    "\n",
    "\"\"\"\n",
    "\n",
    "    # compute tp, fp, and fn\n",
    "\n",
    "    tp = K.sum(K.cast(y_true * y_pred, 'float'), axis=0)\n",
    "\n",
    "    fp = K.sum(K.cast((1 - y_true) * y_pred, 'float'), axis=0)\n",
    "\n",
    "    fn = K.sum(K.cast(y_true * (1 - y_pred), 'float'), axis=0)\n",
    "\n",
    "\n",
    "    # precision (tp / (tp + fp))\n",
    "\n",
    "    p = tp / (tp + fp + K.epsilon())\n",
    "\n",
    "   # recall (tp / (tp + fn))\n",
    "\n",
    "    r = tp / (tp + fn + K.epsilon())\n",
    "\n",
    "\n",
    "# harmonic mean of precision and recall\n",
    "\n",
    "    f1 = (2 * p * r) / (p + r + K.epsilon())\n",
    "\n",
    "    f1 = tf.where(tf.math.is_nan(f1), tf.zeros_like(f1), f1)\n",
    "\n",
    "    return 1 - K.mean(f1)"
   ]
  },
  {
   "cell_type": "code",
   "execution_count": 6,
   "id": "58fe83a8-b5b0-4a10-81f6-a5b9277e5a3a",
   "metadata": {
    "papermill": {
     "duration": 0.012029,
     "end_time": "2025-03-05T18:49:20.300625",
     "exception": false,
     "start_time": "2025-03-05T18:49:20.288596",
     "status": "completed"
    },
    "tags": []
   },
   "outputs": [],
   "source": [
    "def f1_loss_onehot(y_true, y_pred):\n",
    "\n",
    "   \"\"\"\n",
    "\n",
    "   F1 metric for two-class output and one-hot encoded labels.\n",
    "\n",
    "   \"\"\"\n",
    "\n",
    "   # compute tp, fp, and fn\n",
    "\n",
    "   tp = K.sum(K.cast(y_true[:, 1] * y_pred[:, 1], 'float'), axis=0)\n",
    "\n",
    "   fp = K.sum(K.cast((1 - y_true[:, 1]) * y_pred[:, 1], 'float'), axis=0)\n",
    "\n",
    "   fn = K.sum(K.cast(y_true[:, 0] * (1 - y_pred[:, 0]), 'float'), axis=0)\n",
    "\n",
    "\n",
    "   # precision (tp / (tp + fp))\n",
    "\n",
    "   p = tp / (tp + fp + K.epsilon())\n",
    "\n",
    "   # recall (tp / (tp + fn))\n",
    "\n",
    "   r = tp / (tp + fn + K.epsilon())\n",
    "\n",
    "\n",
    "   # harmonic mean of precision and recall\n",
    "\n",
    "   f1 = (2 * p * r) / (p + r + K.epsilon())\n",
    "\n",
    "   f1 = tf.where(tf.math.is_nan(f1), tf.zeros_like(f1), f1)\n",
    "\n",
    "   return 1 - K.mean(f1)"
   ]
  },
  {
   "cell_type": "code",
   "execution_count": 7,
   "id": "82e6df90-377d-4c27-ac1d-156b3bc34623",
   "metadata": {
    "papermill": {
     "duration": 0.012229,
     "end_time": "2025-03-05T18:49:20.319927",
     "exception": false,
     "start_time": "2025-03-05T18:49:20.307698",
     "status": "completed"
    },
    "tags": []
   },
   "outputs": [],
   "source": [
    "import re\n",
    "\n",
    "\n",
    "def add_dim(ds):\n",
    "    # Extract the source file name from the dataset's encoding.\n",
    "    fname = ds.encoding.get('source', '')\n",
    "    # Use a regex to capture the central latitude and longitude from the filename.\n",
    "    m = re.search(r'_(\\-?\\d+\\.\\d+)_(-?\\d+\\.\\d+)\\.nc$', fname)\n",
    "    if m:\n",
    "        lat_center = float(m.group(1))\n",
    "        lon_center = float(m.group(2))\n",
    "        # Assign the central coordinates and the file name as new coordinates.\n",
    "        ds = ds.assign_coords(lat_center=lat_center, lon_center=lon_center, file_name=fname)\n",
    "    else:\n",
    "        print(\"File name does not match expected pattern:\", fname)\n",
    "    \n",
    "    # Expand dims to add the 'sample' dimension and drop unnecessary variables.\n",
    "    return ds.assign_coords({\"sample\": 1}).expand_dims(dim={\"sample\": 1}).drop_vars(\"utc_date\").drop_vars(\"latitude\").drop_vars(\"longitude\")\n",
    "\n",
    "\n",
    "\n",
    "\n",
    "    "
   ]
  },
  {
   "cell_type": "code",
   "execution_count": 8,
   "id": "ec3de133-3ed1-4df3-9444-a58e88716284",
   "metadata": {
    "papermill": {
     "duration": 0.017203,
     "end_time": "2025-03-05T18:49:20.344038",
     "exception": false,
     "start_time": "2025-03-05T18:49:20.326835",
     "status": "completed"
    },
    "tags": []
   },
   "outputs": [],
   "source": [
    "import os\n",
    "import xarray as xr\n",
    "\n",
    "def open_files_zarr(list_of_vars, aew_subset=\"12hr_before\",\n",
    "                    directory=\"/glade/derecho/scratch/rmandava/AEW_time_location_files/\",\n",
    "                    plevel_list=None, zarr_store_path=\"zarr_data\"):\n",
    "    \"\"\"\n",
    "    Opens ERA5 NetCDF files for the given variables. For each variable (or pressure-level variant),\n",
    "    it checks if a corresponding Zarr store exists in 'zarr_store_path'. If so, it loads the dataset\n",
    "    from the Zarr store; if not, it opens the NetCDF files, preprocesses them, saves them to Zarr,\n",
    "    and then returns the dataset.\n",
    "    \"\"\"\n",
    "    # Create the zarr_store_path directory if it doesn't exist.\n",
    "    if not os.path.exists(zarr_store_path):\n",
    "        os.makedirs(zarr_store_path)\n",
    "    \n",
    "    datas = {}\n",
    "    for num, var in enumerate(list_of_vars):\n",
    "        # Determine the key and filename based on whether a pressure level is specified.\n",
    "        if plevel_list:\n",
    "            if plevel_list[num]:\n",
    "                key = f\"{var}_{int(plevel_list[num])}\"\n",
    "                file_pattern = f'{directory}/{var}/aew_{aew_subset}_{int(plevel_list[num])}_*.nc'\n",
    "            else:\n",
    "                key = var\n",
    "                file_pattern = f'{directory}/{var}/aew_{aew_subset}_*.nc'\n",
    "        else:\n",
    "            key = var\n",
    "            file_pattern = f'{directory}/{var}/aew_{aew_subset}_*.nc'\n",
    "        \n",
    "        # Define the zarr path for this variable.\n",
    "        zarr_path = os.path.join(zarr_store_path, f\"{key}.zarr\")\n",
    "        \n",
    "        # If the Zarr dataset exists, load from it; otherwise, create it.\n",
    "        if os.path.exists(zarr_path):\n",
    "            print(f\"Loading {key} from Zarr store.\")\n",
    "            ds = xr.open_zarr(zarr_path)\n",
    "        else:\n",
    "            print(f\"Creating Zarr store for {key} from NetCDF files.\")\n",
    "            ds = xr.open_mfdataset(\n",
    "                file_pattern,\n",
    "                preprocess=add_dim,\n",
    "                concat_dim=\"sample\",\n",
    "                combine=\"nested\",\n",
    "            )\n",
    "            ds.to_zarr(zarr_path, mode=\"w\")\n",
    "        datas[key] = ds\n",
    "    \n",
    "    return datas\n"
   ]
  },
  {
   "cell_type": "code",
   "execution_count": null,
   "id": "c20c80e6-2437-4626-be0b-4d82bebb4f73",
   "metadata": {
    "papermill": {
     "duration": 0.015473,
     "end_time": "2025-03-05T18:49:20.366598",
     "exception": false,
     "start_time": "2025-03-05T18:49:20.351125",
     "status": "completed"
    },
    "tags": []
   },
   "outputs": [],
   "source": [
    "\n"
   ]
  },
  {
   "cell_type": "code",
   "execution_count": 9,
   "id": "ad1f231e-abc1-49e7-9bab-09ab1f3f4ebc",
   "metadata": {},
   "outputs": [],
   "source": [
    "def transpose_load_concat(data_dictionary):\n",
    "    # Instead of eagerly converting to NumPy arrays, keep the datasets as xarray objects.\n",
    "    transposed = {}\n",
    "    for key, ds in data_dictionary.items():\n",
    "        var_name = key.split('_')[0].upper()\n",
    "        # Do lazy transpose and add a 'features' dimension\n",
    "        transposed[key] = ds[var_name].expand_dims('features').transpose('sample', 'latitude', 'longitude', 'features')\n",
    "    # Concatenate along the new 'features' dimension (if multiple variables exist)\n",
    "    if len(transposed) > 1:\n",
    "        data = xr.concat(list(transposed.values()), dim='features',coords='minimal',compat='override')\n",
    "    else:\n",
    "        data = list(transposed.values())[0]\n",
    "    # Use the coordinates (lat_center, lon_center) from one of the datasets.\n",
    "    # They remain lazy and are not computed until needed.\n",
    "    first_key = next(iter(data_dictionary))\n",
    "    lat_center = data_dictionary[first_key]['lat_center']\n",
    "    lon_center = data_dictionary[first_key]['lon_center']\n",
    "    label = data_dictionary[first_key]['label']\n",
    "    return data, label, lat_center, lon_center\n",
    "\n"
   ]
  },
  {
   "cell_type": "code",
   "execution_count": 10,
   "id": "bec2717c-8176-447f-82ea-5b15e038ace1",
   "metadata": {
    "papermill": {
     "duration": 0.010767,
     "end_time": "2025-03-05T18:49:20.384143",
     "exception": false,
     "start_time": "2025-03-05T18:49:20.373376",
     "status": "completed"
    },
    "tags": []
   },
   "outputs": [],
   "source": [
    "def omit_nans(data, label, lat, lon):\n",
    "    # If data is an xarray DataArray, convert it to a NumPy array\n",
    "    if hasattr(data, 'values'):\n",
    "        data = data.values\n",
    "    maskarray = np.full(data.shape[0], True)\n",
    "    # Find indices where NaNs occur\n",
    "    masker = np.unique(np.argwhere(np.isnan(data))[:, 0])\n",
    "    maskarray[masker] = False\n",
    "\n",
    "    traindata = data[maskarray, ...]\n",
    "    trainlabel = label[maskarray]\n",
    "    lat_filtered = lat[maskarray]\n",
    "    lon_filtered = lon[maskarray]\n",
    "    return traindata, trainlabel, lat_filtered, lon_filtered\n",
    "\n"
   ]
  },
  {
   "cell_type": "code",
   "execution_count": 11,
   "id": "d02dbe1a-f1ba-4f9b-8fe0-d9126814ae62",
   "metadata": {
    "papermill": {
     "duration": 0.010866,
     "end_time": "2025-03-05T18:49:20.400498",
     "exception": false,
     "start_time": "2025-03-05T18:49:20.389632",
     "status": "completed"
    },
    "tags": []
   },
   "outputs": [],
   "source": [
    "def zscore(data):\n",
    "\n",
    "  \"\"\"\n",
    "\n",
    "  Rescaling the data using zscore (mean/std).\n",
    "\n",
    "  Each variable gets scaled independently from others.\n",
    "\n",
    "  Note that we will need to remove test data for formal training.\n",
    "\n",
    "  \"\"\"\n",
    "\n",
    "  for i in range(0, data_.shape[-1]):\n",
    "\n",
    "      data_[:, :, :, i] = (\n",
    "\n",
    "               data_[:, :, :, i] - np.nanmean(\n",
    "\n",
    "                     data_[:, :, :, i])) / np.nanstd(data_[:, :, :, i])\n",
    "\n",
    "  return data_"
   ]
  },
  {
   "cell_type": "code",
   "execution_count": 12,
   "id": "332bc130-a4e7-465c-a135-687f543db181",
   "metadata": {
    "papermill": {
     "duration": 0.011066,
     "end_time": "2025-03-05T18:49:20.416849",
     "exception": false,
     "start_time": "2025-03-05T18:49:20.405783",
     "status": "completed"
    },
    "tags": []
   },
   "outputs": [],
   "source": [
    "def minmax(data):\n",
    "\n",
    "   \"\"\"\n",
    "\n",
    "   Rescaling the data using min-max.\n",
    "\n",
    "   Each variable gets scaled independently from others.\n",
    "\n",
    "   Note that we will need to remove test data for formal training.\n",
    "\n",
    "   \"\"\"\n",
    "\n",
    "   for i in range(0, data_.shape[-1]):\n",
    "\n",
    "          data_[:, :, :, i] = (\n",
    "\n",
    "              data_[:, :, :, i] - np.nanmin(data_[:, :, :, i])\n",
    "\n",
    "          ) / (np.nanmax(data_[:, :, :, i]) - np.nanmin(data_[:, :, :, i]))\n",
    "   return data"
   ]
  },
  {
   "cell_type": "code",
   "execution_count": 13,
   "id": "f652c778-f81b-4c46-bf87-d60487903b73",
   "metadata": {
    "papermill": {
     "duration": 0.010904,
     "end_time": "2025-03-05T18:49:20.433062",
     "exception": false,
     "start_time": "2025-03-05T18:49:20.422158",
     "status": "completed"
    },
    "tags": []
   },
   "outputs": [],
   "source": [
    "def random_split(data, label, split=0.3, seed=0):\n",
    "\n",
    "   \"\"\"\n",
    "\n",
    "   Help spliting data randomly for training and testing.\n",
    "\n",
    "   \"\"\"\n",
    "\n",
    "   np.random.seed(0)\n",
    "\n",
    "   da_indx = np.random.permutation(data.shape[0])\n",
    "\n",
    "   data = data[da_indx.astype(int)]\n",
    "\n",
    "   label = label[da_indx.astype(int)]\n",
    "\n",
    "   init_range = int(data.shape[0] * (1 - 0.3))\n",
    "\n",
    "   return data[:init_range], label[:init_range], data[init_range:], label[init_range:]"
   ]
  },
  {
   "cell_type": "code",
   "execution_count": 14,
   "id": "c9f970b2-2444-4dba-8e66-a850482d5ea4",
   "metadata": {
    "papermill": {
     "duration": 0.010837,
     "end_time": "2025-03-05T18:49:20.449475",
     "exception": false,
     "start_time": "2025-03-05T18:49:20.438638",
     "status": "completed"
    },
    "tags": []
   },
   "outputs": [],
   "source": [
    "def pick_loss(loss_string):\n",
    "    \n",
    "\n",
    "    lossdict = {\n",
    "        \"relu\": tf.nn.relu,\n",
    "        \"tanh\": tf.nn.tanh,\n",
    "        \"selu\": tf.nn.selu,\n",
    "        \"sigmoid\": tf.nn.sigmoid,\n",
    "        \"relu6\": tf.nn.relu6,\n",
    "        \"silu\": tf.nn.silu,\n",
    "        \"gelu\": tf.nn.gelu,\n",
    "        \"lrelu\": tf.nn.leaky_relu,\n",
    "    }\n",
    "\n",
    "    return lossdict[loss_string]"
   ]
  },
  {
   "cell_type": "code",
   "execution_count": 15,
   "id": "d3e0c99e-885a-4f64-b057-0056b0ef246f",
   "metadata": {},
   "outputs": [],
   "source": [
    "def compute_saliency_map(model, input_sample):\n",
    "    \"\"\"\n",
    "    Compute a saliency map for a given input sample using a gradient-based approach.\n",
    "    \n",
    "    Args:\n",
    "        model (tf.keras.Model): The trained Keras model.\n",
    "        input_sample (numpy array): A single input sample of shape (1, height, width, channels).\n",
    "    \n",
    "    Returns:\n",
    "        saliency (numpy array): The saliency map of shape (height, width).\n",
    "    \"\"\"\n",
    "    # Ensure the model is in inference mode\n",
    "    model.trainable = False\n",
    "    input_tensor = tf.convert_to_tensor(input_sample)\n",
    "    \n",
    "    # Use GradientTape to record operations for automatic differentiation\n",
    "    with tf.GradientTape() as tape:\n",
    "        # Watch the input tensor\n",
    "        tape.watch(input_tensor)\n",
    "        # Get the model's prediction\n",
    "        prediction = model(input_tensor)\n",
    "    \n",
    "    # Compute gradients of the prediction with respect to the input\n",
    "    grads = tape.gradient(prediction, input_tensor)\n",
    "    \n",
    "    # If there are multiple channels, take the maximum absolute gradient across channels\n",
    "    saliency = np.max(np.abs(grads.numpy()), axis=-1)[0]\n",
    "    return saliency"
   ]
  },
  {
   "cell_type": "code",
   "execution_count": 16,
   "id": "9776cdc0-38bc-476f-b93d-3753a2eb6803",
   "metadata": {},
   "outputs": [],
   "source": [
    "def compute_saliency_per_channel(model, input_sample):\n",
    "    \"\"\"\n",
    "    Computes the saliency map for each channel of a given input sample.\n",
    "    \n",
    "    Args:\n",
    "        model (tf.keras.Model): The trained Keras model.\n",
    "        input_sample (numpy array): A single input sample with shape (1, H, W, C).\n",
    "        \n",
    "    Returns:\n",
    "        saliency_maps (numpy array): Absolute gradients with shape (H, W, C) for each channel.\n",
    "        channel_importance (numpy array): Mean saliency per channel (shape: (C,)).\n",
    "    \"\"\"\n",
    "    # Set the model to inference mode\n",
    "    model.trainable = False\n",
    "    input_tensor = tf.convert_to_tensor(input_sample)\n",
    "    \n",
    "    # Compute gradients with respect to the input sample using GradientTape\n",
    "    with tf.GradientTape() as tape:\n",
    "        tape.watch(input_tensor)\n",
    "        prediction = model(input_tensor)\n",
    "    \n",
    "    # Calculate gradients: shape (1, H, W, C)\n",
    "    grads = tape.gradient(prediction, input_tensor)\n",
    "    \n",
    "    # Remove the batch dimension: shape becomes (H, W, C)\n",
    "    grads = grads.numpy()[0]\n",
    "    \n",
    "    # Take absolute value to measure importance (magnitude of sensitivity)\n",
    "    saliency_maps = np.abs(grads)\n",
    "    \n",
    "    # Aggregate saliency per channel (e.g., using the mean over spatial dimensions)\n",
    "    channel_importance = np.mean(saliency_maps, axis=(0, 1))\n",
    "    \n",
    "    return saliency_maps, channel_importance"
   ]
  },
  {
   "cell_type": "code",
   "execution_count": 17,
   "id": "81aa5f1b-5513-4496-9fae-a6cde06e1aaa",
   "metadata": {
    "papermill": {
     "duration": 0.00964,
     "end_time": "2025-03-05T18:49:20.464813",
     "exception": false,
     "start_time": "2025-03-05T18:49:20.455173",
     "status": "completed"
    },
    "tags": []
   },
   "outputs": [],
   "source": [
    "number_of_features = len(var_list)"
   ]
  },
  {
   "cell_type": "code",
   "execution_count": 18,
   "id": "3490622e-a626-42aa-9cfe-020ee54d21e0",
   "metadata": {
    "papermill": {
     "duration": 758.818091,
     "end_time": "2025-03-05T19:01:59.288567",
     "exception": false,
     "start_time": "2025-03-05T18:49:20.470476",
     "status": "completed"
    },
    "tags": []
   },
   "outputs": [
    {
     "name": "stdout",
     "output_type": "stream",
     "text": [
      "Loading cape from Zarr store.\n",
      "Loading crr from Zarr store.\n",
      "Loading d_300 from Zarr store.\n",
      "Loading ie from Zarr store.\n",
      "Loading ishf from Zarr store.\n",
      "Loading lsrr from Zarr store.\n",
      "Loading pv_300 from Zarr store.\n",
      "Loading q_300 from Zarr store.\n",
      "Loading r_300 from Zarr store.\n",
      "Loading sp from Zarr store.\n",
      "Loading sstk from Zarr store.\n",
      "Loading tcw from Zarr store.\n",
      "Loading tcwv from Zarr store.\n",
      "Loading t_300 from Zarr store.\n",
      "Loading ttr from Zarr store.\n",
      "Loading u_300 from Zarr store.\n",
      "Loading v_300 from Zarr store.\n",
      "Loading vo_300 from Zarr store.\n",
      "Loading w_300 from Zarr store.\n"
     ]
    }
   ],
   "source": [
    "data = open_files_zarr(\n",
    "    list_of_vars=var_list,\n",
    "    aew_subset=aew_subset,\n",
    "    directory=\"/glade/derecho/scratch/rmandava/AEW_time_location_files/\",\n",
    "    plevel_list=plevel_list,\n",
    "    zarr_store_path=\"/glade/derecho/scratch/rmandava/AEW_time_location_files/Project1/zarr\"\n",
    ")\n",
    "\n",
    "\n",
    "\n",
    "\n"
   ]
  },
  {
   "cell_type": "code",
   "execution_count": null,
   "id": "51ddac3e-071b-4796-9ca6-9cb01deeb598",
   "metadata": {},
   "outputs": [],
   "source": []
  },
  {
   "cell_type": "code",
   "execution_count": 19,
   "id": "f240d4af-46d1-4cef-a5ab-2e2527a1639f",
   "metadata": {
    "papermill": {
     "duration": 185.616237,
     "end_time": "2025-03-05T19:05:04.925249",
     "exception": false,
     "start_time": "2025-03-05T19:01:59.309012",
     "status": "completed"
    },
    "tags": []
   },
   "outputs": [
    {
     "name": "stdout",
     "output_type": "stream",
     "text": [
      "(2750, 32, 32, 19)\n"
     ]
    }
   ],
   "source": [
    "# transpose the data and concat variables\n",
    "\n",
    "#data_, labels_ = transpose_load_concat(data)\n",
    "data_, labels_, sample_lat, sample_lon = transpose_load_concat(data)\n",
    "\n",
    "print(np.shape(data_))"
   ]
  },
  {
   "cell_type": "code",
   "execution_count": 20,
   "id": "a0e4f7b8-f9e0-4131-ae35-97e47bc557d0",
   "metadata": {
    "papermill": {
     "duration": 0.372532,
     "end_time": "2025-03-05T19:05:05.305951",
     "exception": false,
     "start_time": "2025-03-05T19:05:04.933419",
     "status": "completed"
    },
    "tags": []
   },
   "outputs": [],
   "source": [
    "# check / remove nans\n",
    "\n",
    "data_, labels_, sample_lat, sample_lon = omit_nans(data_, labels_, sample_lat, sample_lon)\n",
    "\n",
    "\n",
    "\n",
    "\n"
   ]
  },
  {
   "cell_type": "code",
   "execution_count": 21,
   "id": "0492935e-1f35-446b-ab16-aba0e667857b",
   "metadata": {
    "papermill": {
     "duration": 0.044227,
     "end_time": "2025-03-05T19:05:05.358050",
     "exception": false,
     "start_time": "2025-03-05T19:05:05.313823",
     "status": "completed"
    },
    "tags": []
   },
   "outputs": [
    {
     "name": "stdout",
     "output_type": "stream",
     "text": [
      "(560, 32, 32, 19) (140, 32, 32, 19) (560,) (140,)\n"
     ]
    },
    {
     "name": "stderr",
     "output_type": "stream",
     "text": [
      "/glade/u/home/rmandava/.local/lib/python3.10/site-packages/xarray/core/indexing.py:1642: PerformanceWarning: Slicing with an out-of-order index is generating 106 times more chunks\n",
      "  return self.array[key]\n",
      "/glade/u/home/rmandava/.local/lib/python3.10/site-packages/xarray/core/indexing.py:1642: PerformanceWarning: Slicing with an out-of-order index is generating 27 times more chunks\n",
      "  return self.array[key]\n"
     ]
    }
   ],
   "source": [
    "#split train and test set\n",
    "X_train, X_test, y_train, y_test, lat_train, lat_test, lon_train, lon_test = sklearn.model_selection.train_test_split(\n",
    "    data_, labels_, sample_lat, sample_lon, test_size=0.2, random_state=42)\n",
    "\n",
    "\n",
    "\n",
    "print (np.shape(X_train), np.shape(X_test), np.shape(y_train), np.shape(y_test))\n",
    "\n",
    "\n",
    "y_train = np.expand_dims(y_train, axis=1)\n",
    "\n",
    "y_test = np.expand_dims(y_test, axis=1)"
   ]
  },
  {
   "cell_type": "code",
   "execution_count": 22,
   "id": "164ee316-7c83-474b-bdb9-7c12ca165e1f",
   "metadata": {
    "papermill": {
     "duration": 0.312834,
     "end_time": "2025-03-05T19:05:05.678612",
     "exception": false,
     "start_time": "2025-03-05T19:05:05.365778",
     "status": "completed"
    },
    "tags": []
   },
   "outputs": [],
   "source": [
    "# [21]: Scaling code (fixed to prevent data leakage)\n",
    "\n",
    "# Create the scaler object\n",
    "scaler_input = sklearn.preprocessing.StandardScaler()\n",
    "\n",
    "# Reshape training data to 2D (samples, features)\n",
    "X_train_tmp = np.reshape(X_train, (-1, len(var_list)))\n",
    "\n",
    "# Fit the scaler ONLY on the training data\n",
    "scaler_input.fit(X_train_tmp)  # <-- Key change: Learn mean/std from training data\n",
    "\n",
    "# Transform BOTH training and test data using the SAME scaler\n",
    "input_train_scaled = scaler_input.transform(X_train_tmp)          # Train: transform only\n",
    "input_test_scaled = scaler_input.transform(                       # Test: transform only\n",
    "    np.reshape(X_test, (-1, len(var_list)))\n",
    ")\n",
    "\n",
    "# Reshape back to original dimensions (samples, height, width, features)\n",
    "input_train_scaled = np.reshape(input_train_scaled, X_train.shape)\n",
    "input_test_scaled = np.reshape(input_test_scaled, X_test.shape)\n",
    "\n",
    "# Labels remain unchanged\n",
    "label_train_scaled = y_train\n",
    "label_test_scaled = y_test"
   ]
  },
  {
   "cell_type": "code",
   "execution_count": 23,
   "id": "6bed418e-264b-45e6-92ee-b72c2f7a04d7",
   "metadata": {
    "papermill": {
     "duration": 0.014239,
     "end_time": "2025-03-05T19:05:05.701116",
     "exception": false,
     "start_time": "2025-03-05T19:05:05.686877",
     "status": "completed"
    },
    "tags": []
   },
   "outputs": [
    {
     "name": "stdout",
     "output_type": "stream",
     "text": [
      "(560, 32, 32, 19) (560, 1) (140, 32, 32, 19) (140, 1)\n"
     ]
    }
   ],
   "source": [
    "# print the shapes to double check them\n",
    "\n",
    "print(\n",
    "\n",
    "input_train_scaled.shape,\n",
    "\n",
    "label_train_scaled.shape,\n",
    "\n",
    "input_test_scaled.shape,\n",
    "\n",
    "label_test_scaled.shape\n",
    "\n",
    ")"
   ]
  },
  {
   "cell_type": "code",
   "execution_count": 24,
   "id": "10597eb7-f8fa-4523-a306-55d5a442d504",
   "metadata": {
    "papermill": {
     "duration": 0.017418,
     "end_time": "2025-03-05T19:05:05.726147",
     "exception": false,
     "start_time": "2025-03-05T19:05:05.708729",
     "status": "completed"
    },
    "tags": []
   },
   "outputs": [
    {
     "name": "stdout",
     "output_type": "stream",
     "text": [
      "Number of positive samples in training data: 91 (16.25% of total)\n"
     ]
    }
   ],
   "source": [
    "#generate class weights due to class imbalance issues\n",
    "\n",
    "counts = np.bincount(y_train[:, 0].astype(int))\n",
    "\n",
    "\n",
    "print(\n",
    "\n",
    "\"Number of positive samples in training data: {} ({:.2f}% of total)\".format(\n",
    "\n",
    "counts[1], 100 * float(counts[1]) / len(y_train))\n",
    "\n",
    ")"
   ]
  },
  {
   "cell_type": "code",
   "execution_count": 25,
   "id": "557d98a2-07ba-4fa7-8ba2-9ce8baa53b63",
   "metadata": {
    "papermill": {
     "duration": 0.01967,
     "end_time": "2025-03-05T19:05:05.753659",
     "exception": false,
     "start_time": "2025-03-05T19:05:05.733989",
     "status": "completed"
    },
    "tags": []
   },
   "outputs": [
    {
     "name": "stdout",
     "output_type": "stream",
     "text": [
      "{0: 0.1625, 1: 0.8375}\n"
     ]
    }
   ],
   "source": [
    "# old weights\n",
    "\n",
    "# weight_for_0 = 1.0 / counts[0]\n",
    "\n",
    "# weight_for_1 = 1.0 / counts[1]\n",
    "\n",
    "\n",
    "#new weights\n",
    "\n",
    "weight_for_0 = float(counts[1]) / len(y_train)\n",
    "\n",
    "weight_for_1 = 1 - (float(counts[1]) / len(y_train))\n",
    "\n",
    "\n",
    "class_weight = {0: weight_for_0, 1: weight_for_1}\n",
    "\n",
    "print(class_weight)"
   ]
  },
  {
   "cell_type": "code",
   "execution_count": 26,
   "id": "700f978d-cc6f-484a-864f-dcb9e703eed4",
   "metadata": {
    "papermill": {
     "duration": 1.029155,
     "end_time": "2025-03-05T19:05:06.790734",
     "exception": false,
     "start_time": "2025-03-05T19:05:05.761579",
     "status": "completed"
    },
    "tags": []
   },
   "outputs": [
    {
     "name": "stderr",
     "output_type": "stream",
     "text": [
      "2025-04-29 00:50:55.996739: E tensorflow/compiler/xla/stream_executor/cuda/cuda_driver.cc:268] failed call to cuInit: CUDA_ERROR_NO_DEVICE: no CUDA-capable device is detected\n"
     ]
    }
   ],
   "source": [
    "METRICS = [\n",
    "\n",
    "keras.metrics.BinaryCrossentropy(name='cross entropy'),\n",
    "\n",
    "keras.metrics.MeanSquaredError(name='mean_squared_error'),\n",
    "\n",
    "keras.metrics.RootMeanSquaredError(name='root_mean_squared_error'),\n",
    "\n",
    "keras.metrics.TruePositives(name='tp'),\n",
    "\n",
    "keras.metrics.FalsePositives(name='fp'),\n",
    "\n",
    "keras.metrics.TrueNegatives(name='tn'),\n",
    "\n",
    "keras.metrics.FalseNegatives(name='fn'),\n",
    "\n",
    "keras.metrics.BinaryAccuracy(name='binary_accuracy'),\n",
    "\n",
    "keras.metrics.F1Score(threshold=0.5, name='f1_score'),\n",
    "\n",
    "keras.metrics.Precision(name='precision'),\n",
    "\n",
    "keras.metrics.Recall(name='recall'),\n",
    "\n",
    "keras.metrics.AUC(name='auc'),\n",
    "\n",
    "keras.metrics.AUC(name='prc', curve='PR'),\n",
    "\n",
    "]"
   ]
  },
  {
   "cell_type": "code",
   "execution_count": null,
   "id": "a9900636-a8fb-4b46-9282-66643c95cdc2",
   "metadata": {},
   "outputs": [],
   "source": [
    "\n"
   ]
  },
  {
   "cell_type": "code",
   "execution_count": 27,
   "id": "6bc9aab7-2558-4304-a6c7-5809d60e8437",
   "metadata": {
    "papermill": {
     "duration": 0.030448,
     "end_time": "2025-03-05T19:05:06.829775",
     "exception": false,
     "start_time": "2025-03-05T19:05:06.799327",
     "status": "completed"
    },
    "tags": []
   },
   "outputs": [],
   "source": [
    "class MyHyperModel(keras_tuner.HyperModel):\n",
    "    def build(self, hp):\n",
    "        model = keras.Sequential()\n",
    "\n",
    "        model.add(keras.Input(shape=(32, 32, number_of_features)))\n",
    "\n",
    "        # Data augmentation\n",
    "        model.add(layers.RandomFlip(\"horizontal_and_vertical\"))\n",
    "        model.add(layers.RandomRotation(factor=(-0.5, 0.5)))\n",
    "\n",
    "        # Hyperparameters\n",
    "        featmaps1 = hp.Int('units_1', min_value=10, max_value=60)\n",
    "        featmaps2 = hp.Int('units_2', min_value=10, max_value=64)\n",
    "        featmaps3 = hp.Int('units_3', min_value=10, max_value=128)\n",
    "        featmaps4 = hp.Int('units_4', min_value=10, max_value=80)\n",
    "        learning_rate = hp.Float('lr', min_value=0.00001, max_value=0.01, sampling=\"linear\")\n",
    "        act_func = hp.Choice('activation', [\"relu\", \"tanh\", \"selu\", \"sigmoid\", \"relu6\", \"silu\", \"gelu\"])\n",
    "\n",
    "        # Conv Block 1\n",
    "        model.add(layers.Conv2D(featmaps1, 3, strides=1, padding=\"same\"))\n",
    "        model.add(layers.BatchNormalization())\n",
    "        model.add(layers.Activation(pick_loss(act_func)))\n",
    "        model.add(layers.MaxPooling2D(2))\n",
    "        model.add(layers.Dropout(0.2))\n",
    "\n",
    "        # Conv Block 2\n",
    "        model.add(layers.Conv2D(featmaps2, 3, strides=1, padding=\"same\"))\n",
    "        model.add(layers.BatchNormalization())\n",
    "        model.add(layers.Activation(pick_loss(act_func)))\n",
    "        model.add(layers.MaxPooling2D(2))\n",
    "        model.add(layers.Dropout(0.2))\n",
    "\n",
    "        # Conv Block 3\n",
    "        model.add(layers.Conv2D(featmaps3, 3, strides=1, padding=\"same\"))\n",
    "        model.add(layers.BatchNormalization())\n",
    "        model.add(layers.Activation(pick_loss(act_func)))\n",
    "        model.add(layers.MaxPooling2D(2))\n",
    "        model.add(layers.Dropout(0.2))\n",
    "\n",
    "        # Fully connected\n",
    "        model.add(layers.GlobalMaxPooling2D())\n",
    "        model.add(layers.Dense(featmaps4))\n",
    "        model.add(layers.Dense(1, activation=\"sigmoid\"))\n",
    "\n",
    "        # Focal Loss tuning\n",
    "        gamma = hp.Float('gamma', min_value=1.0, max_value=3.0, step=0.5)\n",
    "        alpha = hp.Float('alpha', min_value=0.1, max_value=0.9, step=0.1)\n",
    "\n",
    "        model.compile(\n",
    "            optimizer=keras.optimizers.Adam(learning_rate=learning_rate),\n",
    "            loss=focal_loss(gamma=gamma, alpha=alpha),\n",
    "            metrics=METRICS\n",
    "        )\n",
    "\n",
    "        return model\n",
    "\n",
    "\n"
   ]
  },
  {
   "cell_type": "code",
   "execution_count": 28,
   "id": "e68e967f-623f-4332-a38c-57359b8121c3",
   "metadata": {
    "papermill": {
     "duration": 0.018907,
     "end_time": "2025-03-05T19:05:06.856235",
     "exception": false,
     "start_time": "2025-03-05T19:05:06.837328",
     "status": "completed"
    },
    "tags": []
   },
   "outputs": [],
   "source": [
    "def fit(self, hp, model, *args, **kwargs):\n",
    "    batchsizenum = hp.Int('batch_size', min_value=10, max_value=60, step=5, sampling=\"linear\")\n",
    "\n",
    "    print({k: hp.get(k) if hp.is_active(k) else None for k in hp._hps})\n",
    "\n",
    "    return model.fit(\n",
    "        *args,\n",
    "        batch_size=batchsizenum,\n",
    "        # normally we might use early stopping, but not needed since\n",
    "        # callbacks saves checkpoints of the model during trials\n",
    "        # callbacks=keras.callbacks.EarlyStopping('val_loss', patience=5),\n",
    "        validation_split=0.1,\n",
    "        shuffle=True,\n",
    "        class_weight=class_weight,\n",
    "        **kwargs,\n",
    "    )\n"
   ]
  },
  {
   "cell_type": "code",
   "execution_count": 29,
   "id": "4b0947fd-6eb0-4f20-8b0f-2f5d11ab5b3b",
   "metadata": {
    "editable": true,
    "papermill": {
     "duration": 0.379052,
     "end_time": "2025-03-05T19:05:07.243192",
     "exception": false,
     "start_time": "2025-03-05T19:05:06.864140",
     "status": "completed"
    },
    "slideshow": {
     "slide_type": ""
    },
    "tags": [
     "Parameters",
     "parameters"
    ]
   },
   "outputs": [
    {
     "name": "stdout",
     "output_type": "stream",
     "text": [
      "Search space summary\n",
      "Default search space size: 8\n",
      "units_1 (Int)\n",
      "{'default': None, 'conditions': [], 'min_value': 10, 'max_value': 60, 'step': 1, 'sampling': 'linear'}\n",
      "units_2 (Int)\n",
      "{'default': None, 'conditions': [], 'min_value': 10, 'max_value': 64, 'step': 1, 'sampling': 'linear'}\n",
      "units_3 (Int)\n",
      "{'default': None, 'conditions': [], 'min_value': 10, 'max_value': 128, 'step': 1, 'sampling': 'linear'}\n",
      "units_4 (Int)\n",
      "{'default': None, 'conditions': [], 'min_value': 10, 'max_value': 80, 'step': 1, 'sampling': 'linear'}\n",
      "lr (Float)\n",
      "{'default': 1e-05, 'conditions': [], 'min_value': 1e-05, 'max_value': 0.01, 'step': None, 'sampling': 'linear'}\n",
      "activation (Choice)\n",
      "{'default': 'relu', 'conditions': [], 'values': ['relu', 'tanh', 'selu', 'sigmoid', 'relu6', 'silu', 'gelu'], 'ordered': False}\n",
      "gamma (Float)\n",
      "{'default': 1.0, 'conditions': [], 'min_value': 1.0, 'max_value': 3.0, 'step': 0.5, 'sampling': 'linear'}\n",
      "alpha (Float)\n",
      "{'default': 0.1, 'conditions': [], 'min_value': 0.1, 'max_value': 0.9, 'step': 0.1, 'sampling': 'linear'}\n"
     ]
    }
   ],
   "source": [
    "# make the tuner object\n",
    "tuner = keras_tuner.BayesianOptimization(\n",
    "    hypermodel=MyHyperModel(),\n",
    "    objective=keras_tuner.Objective(\"val_f1_score\", direction=\"max\"),\n",
    "    max_trials=150,\n",
    "    project_name=tuner_project_name,\n",
    "    alpha=0.0001,\n",
    "    beta=2.6,\n",
    "    seed=123,\n",
    "    tune_new_entries=True,\n",
    "    allow_new_entries=True,\n",
    "    max_retries_per_trial=1,\n",
    "    max_consecutive_failed_trials=3,\n",
    "    overwrite=True,\n",
    ")\n",
    "\n",
    "# summary\n",
    "tuner.search_space_summary()\n"
   ]
  },
  {
   "cell_type": "code",
   "execution_count": null,
   "id": "ff5a6396-3b45-4ae6-91ad-62b07260777e",
   "metadata": {
    "papermill": {
     "duration": 6055.188829,
     "end_time": "2025-03-05T20:46:02.439902",
     "exception": false,
     "start_time": "2025-03-05T19:05:07.251073",
     "status": "completed"
    },
    "tags": []
   },
   "outputs": [
    {
     "name": "stdout",
     "output_type": "stream",
     "text": [
      "Trial 40 Complete [00h 00m 25s]\n",
      "val_f1_score: 0.6153846383094788\n",
      "\n",
      "Best val_f1_score So Far: 0.6666666865348816\n",
      "Total elapsed time: 00h 20m 34s\n",
      "\n",
      "Search: Running Trial #41\n",
      "\n",
      "Value             |Best Value So Far |Hyperparameter\n",
      "22                |27                |units_1\n",
      "36                |47                |units_2\n",
      "100               |84                |units_3\n",
      "61                |66                |units_4\n",
      "0.0070728         |0.001196          |lr\n",
      "tanh              |gelu              |activation\n",
      "2.5               |2.5               |gamma\n",
      "0.5               |0.4               |alpha\n",
      "\n"
     ]
    },
    {
     "name": "stderr",
     "output_type": "stream",
     "text": [
      "/glade/u/home/rmandava/.local/lib/python3.10/site-packages/sklearn/gaussian_process/kernels.py:442: ConvergenceWarning: The optimal value found for dimension 0 of parameter length_scale is close to the specified lower bound 1e-05. Decreasing the bound and calling fit again may find a better value.\n",
      "  warnings.warn(\n"
     ]
    },
    {
     "name": "stdout",
     "output_type": "stream",
     "text": [
      "Epoch 1/100\n",
      "16/16 [==============================] - 2s 40ms/step - loss: 0.3467 - cross entropy: 0.8163 - mean_squared_error: 0.2046 - root_mean_squared_error: 0.4523 - tp: 31.0000 - fp: 88.0000 - tn: 381.0000 - fn: 60.0000 - binary_accuracy: 0.7357 - f1_score: 0.2952 - precision: 0.2605 - recall: 0.3407 - auc: 0.6286 - prc: 0.2339 - val_loss: 0.3179 - val_cross entropy: 0.7276 - val_mean_squared_error: 0.1767 - val_root_mean_squared_error: 0.4203 - val_tp: 3.0000 - val_fp: 8.0000 - val_tn: 42.0000 - val_fn: 3.0000 - val_binary_accuracy: 0.8036 - val_f1_score: 0.3529 - val_precision: 0.2727 - val_recall: 0.5000 - val_auc: 0.7583 - val_prc: 0.2375\n",
      "Epoch 2/100\n",
      "16/16 [==============================] - 0s 15ms/step - loss: 0.0589 - cross entropy: 0.4582 - mean_squared_error: 0.1497 - root_mean_squared_error: 0.3869 - tp: 33.0000 - fp: 55.0000 - tn: 364.0000 - fn: 52.0000 - binary_accuracy: 0.7877 - f1_score: 0.3815 - precision: 0.3750 - recall: 0.3882 - auc: 0.7208 - prc: 0.3395 - val_loss: 0.0279 - val_cross entropy: 0.3889 - val_mean_squared_error: 0.1131 - val_root_mean_squared_error: 0.3364 - val_tp: 0.0000e+00 - val_fp: 1.0000 - val_tn: 49.0000 - val_fn: 6.0000 - val_binary_accuracy: 0.8750 - val_f1_score: 0.0000e+00 - val_precision: 0.0000e+00 - val_recall: 0.0000e+00 - val_auc: 0.7900 - val_prc: 0.2181\n",
      "Epoch 3/100\n",
      "16/16 [==============================] - 0s 17ms/step - loss: 0.0391 - cross entropy: 0.4449 - mean_squared_error: 0.1406 - root_mean_squared_error: 0.3750 - tp: 20.0000 - fp: 39.0000 - tn: 380.0000 - fn: 65.0000 - binary_accuracy: 0.7937 - f1_score: 0.2778 - precision: 0.3390 - recall: 0.2353 - auc: 0.7972 - prc: 0.3470 - val_loss: 0.0425 - val_cross entropy: 0.3521 - val_mean_squared_error: 0.1060 - val_root_mean_squared_error: 0.3255 - val_tp: 4.0000 - val_fp: 6.0000 - val_tn: 44.0000 - val_fn: 2.0000 - val_binary_accuracy: 0.8571 - val_f1_score: 0.5000 - val_precision: 0.4000 - val_recall: 0.6667 - val_auc: 0.8483 - val_prc: 0.3201\n",
      "Epoch 4/100\n",
      "16/16 [==============================] - 0s 16ms/step - loss: 0.0335 - cross entropy: 0.4213 - mean_squared_error: 0.1311 - root_mean_squared_error: 0.3621 - tp: 33.0000 - fp: 37.0000 - tn: 382.0000 - fn: 52.0000 - binary_accuracy: 0.8234 - f1_score: 0.4258 - precision: 0.4714 - recall: 0.3882 - auc: 0.8324 - prc: 0.4256 - val_loss: 0.0309 - val_cross entropy: 0.4637 - val_mean_squared_error: 0.1430 - val_root_mean_squared_error: 0.3782 - val_tp: 4.0000 - val_fp: 5.0000 - val_tn: 45.0000 - val_fn: 2.0000 - val_binary_accuracy: 0.8750 - val_f1_score: 0.5333 - val_precision: 0.4444 - val_recall: 0.6667 - val_auc: 0.8317 - val_prc: 0.3354\n",
      "Epoch 5/100\n",
      "16/16 [==============================] - 0s 15ms/step - loss: 0.0345 - cross entropy: 0.4614 - mean_squared_error: 0.1444 - root_mean_squared_error: 0.3800 - tp: 28.0000 - fp: 39.0000 - tn: 380.0000 - fn: 57.0000 - binary_accuracy: 0.8095 - f1_score: 0.3684 - precision: 0.4179 - recall: 0.3294 - auc: 0.8125 - prc: 0.3896 - val_loss: 0.0382 - val_cross entropy: 0.4655 - val_mean_squared_error: 0.1455 - val_root_mean_squared_error: 0.3815 - val_tp: 4.0000 - val_fp: 8.0000 - val_tn: 42.0000 - val_fn: 2.0000 - val_binary_accuracy: 0.8214 - val_f1_score: 0.4444 - val_precision: 0.3333 - val_recall: 0.6667 - val_auc: 0.7917 - val_prc: 0.3337\n",
      "Epoch 6/100\n",
      "16/16 [==============================] - 0s 15ms/step - loss: 0.0321 - cross entropy: 0.4283 - mean_squared_error: 0.1326 - root_mean_squared_error: 0.3642 - tp: 30.0000 - fp: 33.0000 - tn: 386.0000 - fn: 55.0000 - binary_accuracy: 0.8254 - f1_score: 0.4054 - precision: 0.4762 - recall: 0.3529 - auc: 0.8408 - prc: 0.4470 - val_loss: 0.0240 - val_cross entropy: 0.4051 - val_mean_squared_error: 0.1177 - val_root_mean_squared_error: 0.3430 - val_tp: 1.0000 - val_fp: 1.0000 - val_tn: 49.0000 - val_fn: 5.0000 - val_binary_accuracy: 0.8929 - val_f1_score: 0.2500 - val_precision: 0.5000 - val_recall: 0.1667 - val_auc: 0.8767 - val_prc: 0.3775\n",
      "Epoch 7/100\n",
      "16/16 [==============================] - 0s 15ms/step - loss: 0.0309 - cross entropy: 0.4348 - mean_squared_error: 0.1333 - root_mean_squared_error: 0.3652 - tp: 22.0000 - fp: 22.0000 - tn: 397.0000 - fn: 63.0000 - binary_accuracy: 0.8313 - f1_score: 0.3411 - precision: 0.5000 - recall: 0.2588 - auc: 0.8497 - prc: 0.4707 - val_loss: 0.0263 - val_cross entropy: 0.4244 - val_mean_squared_error: 0.1270 - val_root_mean_squared_error: 0.3564 - val_tp: 1.0000 - val_fp: 2.0000 - val_tn: 48.0000 - val_fn: 5.0000 - val_binary_accuracy: 0.8750 - val_f1_score: 0.2222 - val_precision: 0.3333 - val_recall: 0.1667 - val_auc: 0.8600 - val_prc: 0.3914\n",
      "Epoch 8/100\n",
      "16/16 [==============================] - 0s 16ms/step - loss: 0.0270 - cross entropy: 0.3751 - mean_squared_error: 0.1136 - root_mean_squared_error: 0.3371 - tp: 34.0000 - fp: 27.0000 - tn: 392.0000 - fn: 51.0000 - binary_accuracy: 0.8452 - f1_score: 0.4658 - precision: 0.5574 - recall: 0.4000 - auc: 0.8932 - prc: 0.5637 - val_loss: 0.0328 - val_cross entropy: 0.4483 - val_mean_squared_error: 0.1393 - val_root_mean_squared_error: 0.3732 - val_tp: 4.0000 - val_fp: 5.0000 - val_tn: 45.0000 - val_fn: 2.0000 - val_binary_accuracy: 0.8750 - val_f1_score: 0.5333 - val_precision: 0.4444 - val_recall: 0.6667 - val_auc: 0.8267 - val_prc: 0.4202\n",
      "Epoch 9/100\n",
      "16/16 [==============================] - 0s 15ms/step - loss: 0.0319 - cross entropy: 0.4291 - mean_squared_error: 0.1321 - root_mean_squared_error: 0.3634 - tp: 47.0000 - fp: 45.0000 - tn: 374.0000 - fn: 38.0000 - binary_accuracy: 0.8353 - f1_score: 0.5311 - precision: 0.5109 - recall: 0.5529 - auc: 0.8536 - prc: 0.5010 - val_loss: 0.0302 - val_cross entropy: 0.4653 - val_mean_squared_error: 0.1453 - val_root_mean_squared_error: 0.3811 - val_tp: 3.0000 - val_fp: 3.0000 - val_tn: 47.0000 - val_fn: 3.0000 - val_binary_accuracy: 0.8929 - val_f1_score: 0.5000 - val_precision: 0.5000 - val_recall: 0.5000 - val_auc: 0.8517 - val_prc: 0.3523\n",
      "Epoch 10/100\n",
      "16/16 [==============================] - 0s 15ms/step - loss: 0.0343 - cross entropy: 0.4397 - mean_squared_error: 0.1374 - root_mean_squared_error: 0.3707 - tp: 26.0000 - fp: 30.0000 - tn: 389.0000 - fn: 59.0000 - binary_accuracy: 0.8234 - f1_score: 0.3688 - precision: 0.4643 - recall: 0.3059 - auc: 0.8114 - prc: 0.3987 - val_loss: 0.0370 - val_cross entropy: 0.3835 - val_mean_squared_error: 0.1152 - val_root_mean_squared_error: 0.3394 - val_tp: 3.0000 - val_fp: 5.0000 - val_tn: 45.0000 - val_fn: 3.0000 - val_binary_accuracy: 0.8571 - val_f1_score: 0.4286 - val_precision: 0.3750 - val_recall: 0.5000 - val_auc: 0.7867 - val_prc: 0.3056\n",
      "Epoch 11/100\n",
      "16/16 [==============================] - 0s 14ms/step - loss: 0.0328 - cross entropy: 0.3618 - mean_squared_error: 0.1124 - root_mean_squared_error: 0.3352 - tp: 30.0000 - fp: 25.0000 - tn: 394.0000 - fn: 55.0000 - binary_accuracy: 0.8413 - f1_score: 0.4286 - precision: 0.5455 - recall: 0.3529 - auc: 0.8718 - prc: 0.4797 - val_loss: 0.0566 - val_cross entropy: 0.5749 - val_mean_squared_error: 0.1972 - val_root_mean_squared_error: 0.4441 - val_tp: 4.0000 - val_fp: 19.0000 - val_tn: 31.0000 - val_fn: 2.0000 - val_binary_accuracy: 0.6250 - val_f1_score: 0.2759 - val_precision: 0.1739 - val_recall: 0.6667 - val_auc: 0.7483 - val_prc: 0.3014\n",
      "Epoch 12/100\n",
      "16/16 [==============================] - 0s 15ms/step - loss: 0.0325 - cross entropy: 0.4167 - mean_squared_error: 0.1302 - root_mean_squared_error: 0.3609 - tp: 34.0000 - fp: 47.0000 - tn: 372.0000 - fn: 51.0000 - binary_accuracy: 0.8056 - f1_score: 0.4096 - precision: 0.4198 - recall: 0.4000 - auc: 0.8562 - prc: 0.4483 - val_loss: 0.0330 - val_cross entropy: 0.4231 - val_mean_squared_error: 0.1302 - val_root_mean_squared_error: 0.3608 - val_tp: 3.0000 - val_fp: 3.0000 - val_tn: 47.0000 - val_fn: 3.0000 - val_binary_accuracy: 0.8929 - val_f1_score: 0.5000 - val_precision: 0.5000 - val_recall: 0.5000 - val_auc: 0.7650 - val_prc: 0.4184\n",
      "Epoch 13/100\n",
      "16/16 [==============================] - 0s 15ms/step - loss: 0.0309 - cross entropy: 0.3994 - mean_squared_error: 0.1224 - root_mean_squared_error: 0.3498 - tp: 25.0000 - fp: 26.0000 - tn: 393.0000 - fn: 60.0000 - binary_accuracy: 0.8294 - f1_score: 0.3676 - precision: 0.4902 - recall: 0.2941 - auc: 0.8573 - prc: 0.4741 - val_loss: 0.0431 - val_cross entropy: 0.4788 - val_mean_squared_error: 0.1543 - val_root_mean_squared_error: 0.3928 - val_tp: 3.0000 - val_fp: 11.0000 - val_tn: 39.0000 - val_fn: 3.0000 - val_binary_accuracy: 0.7500 - val_f1_score: 0.3000 - val_precision: 0.2143 - val_recall: 0.5000 - val_auc: 0.7500 - val_prc: 0.3991\n",
      "Epoch 14/100\n",
      "16/16 [==============================] - 0s 14ms/step - loss: 0.0289 - cross entropy: 0.3907 - mean_squared_error: 0.1197 - root_mean_squared_error: 0.3460 - tp: 44.0000 - fp: 45.0000 - tn: 374.0000 - fn: 41.0000 - binary_accuracy: 0.8294 - f1_score: 0.5057 - precision: 0.4944 - recall: 0.5176 - auc: 0.8802 - prc: 0.5610 - val_loss: 0.0379 - val_cross entropy: 0.4285 - val_mean_squared_error: 0.1324 - val_root_mean_squared_error: 0.3638 - val_tp: 3.0000 - val_fp: 5.0000 - val_tn: 45.0000 - val_fn: 3.0000 - val_binary_accuracy: 0.8571 - val_f1_score: 0.4286 - val_precision: 0.3750 - val_recall: 0.5000 - val_auc: 0.7283 - val_prc: 0.3862\n",
      "Epoch 15/100\n",
      "16/16 [==============================] - 0s 14ms/step - loss: 0.0282 - cross entropy: 0.3624 - mean_squared_error: 0.1103 - root_mean_squared_error: 0.3321 - tp: 37.0000 - fp: 33.0000 - tn: 386.0000 - fn: 48.0000 - binary_accuracy: 0.8393 - f1_score: 0.4774 - precision: 0.5286 - recall: 0.4353 - auc: 0.8880 - prc: 0.5425 - val_loss: 0.0319 - val_cross entropy: 0.3829 - val_mean_squared_error: 0.1102 - val_root_mean_squared_error: 0.3319 - val_tp: 1.0000 - val_fp: 1.0000 - val_tn: 49.0000 - val_fn: 5.0000 - val_binary_accuracy: 0.8929 - val_f1_score: 0.2500 - val_precision: 0.5000 - val_recall: 0.1667 - val_auc: 0.7800 - val_prc: 0.4065\n",
      "Epoch 16/100\n",
      "16/16 [==============================] - 0s 15ms/step - loss: 0.0283 - cross entropy: 0.3862 - mean_squared_error: 0.1159 - root_mean_squared_error: 0.3404 - tp: 46.0000 - fp: 29.0000 - tn: 390.0000 - fn: 39.0000 - binary_accuracy: 0.8651 - f1_score: 0.5750 - precision: 0.6133 - recall: 0.5412 - auc: 0.8894 - prc: 0.5726 - val_loss: 0.0388 - val_cross entropy: 0.3377 - val_mean_squared_error: 0.0970 - val_root_mean_squared_error: 0.3115 - val_tp: 1.0000 - val_fp: 1.0000 - val_tn: 49.0000 - val_fn: 5.0000 - val_binary_accuracy: 0.8929 - val_f1_score: 0.2500 - val_precision: 0.5000 - val_recall: 0.1667 - val_auc: 0.7317 - val_prc: 0.3809\n",
      "Epoch 17/100\n",
      "16/16 [==============================] - 0s 17ms/step - loss: 0.0289 - cross entropy: 0.3249 - mean_squared_error: 0.0991 - root_mean_squared_error: 0.3149 - tp: 49.0000 - fp: 37.0000 - tn: 382.0000 - fn: 36.0000 - binary_accuracy: 0.8552 - f1_score: 0.5731 - precision: 0.5698 - recall: 0.5765 - auc: 0.9017 - prc: 0.6030 - val_loss: 0.0438 - val_cross entropy: 0.4187 - val_mean_squared_error: 0.1252 - val_root_mean_squared_error: 0.3539 - val_tp: 3.0000 - val_fp: 2.0000 - val_tn: 48.0000 - val_fn: 3.0000 - val_binary_accuracy: 0.9107 - val_f1_score: 0.5455 - val_precision: 0.6000 - val_recall: 0.5000 - val_auc: 0.7017 - val_prc: 0.4407\n",
      "Epoch 18/100\n",
      "16/16 [==============================] - 0s 14ms/step - loss: 0.0258 - cross entropy: 0.3835 - mean_squared_error: 0.1149 - root_mean_squared_error: 0.3389 - tp: 37.0000 - fp: 21.0000 - tn: 398.0000 - fn: 48.0000 - binary_accuracy: 0.8631 - f1_score: 0.5175 - precision: 0.6379 - recall: 0.4353 - auc: 0.9029 - prc: 0.6237 - val_loss: 0.0376 - val_cross entropy: 0.3785 - val_mean_squared_error: 0.1119 - val_root_mean_squared_error: 0.3344 - val_tp: 1.0000 - val_fp: 2.0000 - val_tn: 48.0000 - val_fn: 5.0000 - val_binary_accuracy: 0.8750 - val_f1_score: 0.2222 - val_precision: 0.3333 - val_recall: 0.1667 - val_auc: 0.7217 - val_prc: 0.3998\n",
      "Epoch 19/100\n",
      "16/16 [==============================] - 0s 15ms/step - loss: 0.0234 - cross entropy: 0.3330 - mean_squared_error: 0.0992 - root_mean_squared_error: 0.3150 - tp: 46.0000 - fp: 20.0000 - tn: 399.0000 - fn: 39.0000 - binary_accuracy: 0.8829 - f1_score: 0.6093 - precision: 0.6970 - recall: 0.5412 - auc: 0.9257 - prc: 0.6861 - val_loss: 0.0394 - val_cross entropy: 0.4476 - val_mean_squared_error: 0.1409 - val_root_mean_squared_error: 0.3754 - val_tp: 2.0000 - val_fp: 6.0000 - val_tn: 44.0000 - val_fn: 4.0000 - val_binary_accuracy: 0.8214 - val_f1_score: 0.2857 - val_precision: 0.2500 - val_recall: 0.3333 - val_auc: 0.7217 - val_prc: 0.3414\n",
      "Epoch 20/100\n",
      "16/16 [==============================] - 0s 15ms/step - loss: 0.0227 - cross entropy: 0.3691 - mean_squared_error: 0.1076 - root_mean_squared_error: 0.3281 - tp: 52.0000 - fp: 24.0000 - tn: 395.0000 - fn: 33.0000 - binary_accuracy: 0.8869 - f1_score: 0.6460 - precision: 0.6842 - recall: 0.6118 - auc: 0.9313 - prc: 0.6951 - val_loss: 0.0402 - val_cross entropy: 0.4376 - val_mean_squared_error: 0.1356 - val_root_mean_squared_error: 0.3682 - val_tp: 3.0000 - val_fp: 5.0000 - val_tn: 45.0000 - val_fn: 3.0000 - val_binary_accuracy: 0.8571 - val_f1_score: 0.4286 - val_precision: 0.3750 - val_recall: 0.5000 - val_auc: 0.6867 - val_prc: 0.3681\n",
      "Epoch 21/100\n",
      "16/16 [==============================] - 0s 15ms/step - loss: 0.0245 - cross entropy: 0.3563 - mean_squared_error: 0.1053 - root_mean_squared_error: 0.3245 - tp: 49.0000 - fp: 26.0000 - tn: 393.0000 - fn: 36.0000 - binary_accuracy: 0.8770 - f1_score: 0.6125 - precision: 0.6533 - recall: 0.5765 - auc: 0.9153 - prc: 0.6573 - val_loss: 0.0466 - val_cross entropy: 0.4626 - val_mean_squared_error: 0.1474 - val_root_mean_squared_error: 0.3840 - val_tp: 2.0000 - val_fp: 7.0000 - val_tn: 43.0000 - val_fn: 4.0000 - val_binary_accuracy: 0.8036 - val_f1_score: 0.2667 - val_precision: 0.2222 - val_recall: 0.3333 - val_auc: 0.6750 - val_prc: 0.4122\n",
      "Epoch 22/100\n",
      "16/16 [==============================] - 0s 14ms/step - loss: 0.0246 - cross entropy: 0.3349 - mean_squared_error: 0.0994 - root_mean_squared_error: 0.3153 - tp: 48.0000 - fp: 23.0000 - tn: 396.0000 - fn: 37.0000 - binary_accuracy: 0.8810 - f1_score: 0.6154 - precision: 0.6761 - recall: 0.5647 - auc: 0.9174 - prc: 0.6647 - val_loss: 0.0510 - val_cross entropy: 0.4404 - val_mean_squared_error: 0.1400 - val_root_mean_squared_error: 0.3741 - val_tp: 3.0000 - val_fp: 9.0000 - val_tn: 41.0000 - val_fn: 3.0000 - val_binary_accuracy: 0.7857 - val_f1_score: 0.3333 - val_precision: 0.2500 - val_recall: 0.5000 - val_auc: 0.7000 - val_prc: 0.4557\n",
      "Epoch 23/100\n",
      "16/16 [==============================] - 0s 14ms/step - loss: 0.0249 - cross entropy: 0.3611 - mean_squared_error: 0.1068 - root_mean_squared_error: 0.3268 - tp: 52.0000 - fp: 25.0000 - tn: 394.0000 - fn: 33.0000 - binary_accuracy: 0.8849 - f1_score: 0.6420 - precision: 0.6753 - recall: 0.6118 - auc: 0.9149 - prc: 0.6699 - val_loss: 0.0369 - val_cross entropy: 0.4452 - val_mean_squared_error: 0.1388 - val_root_mean_squared_error: 0.3726 - val_tp: 2.0000 - val_fp: 2.0000 - val_tn: 48.0000 - val_fn: 4.0000 - val_binary_accuracy: 0.8929 - val_f1_score: 0.4000 - val_precision: 0.5000 - val_recall: 0.3333 - val_auc: 0.7083 - val_prc: 0.2481\n",
      "Epoch 24/100\n",
      "16/16 [==============================] - 0s 15ms/step - loss: 0.0239 - cross entropy: 0.3470 - mean_squared_error: 0.1029 - root_mean_squared_error: 0.3208 - tp: 51.0000 - fp: 25.0000 - tn: 394.0000 - fn: 34.0000 - binary_accuracy: 0.8829 - f1_score: 0.6335 - precision: 0.6711 - recall: 0.6000 - auc: 0.9223 - prc: 0.6914 - val_loss: 0.0549 - val_cross entropy: 0.4499 - val_mean_squared_error: 0.1462 - val_root_mean_squared_error: 0.3823 - val_tp: 4.0000 - val_fp: 10.0000 - val_tn: 40.0000 - val_fn: 2.0000 - val_binary_accuracy: 0.7857 - val_f1_score: 0.4000 - val_precision: 0.2857 - val_recall: 0.6667 - val_auc: 0.7233 - val_prc: 0.4043\n",
      "Epoch 25/100\n",
      "16/16 [==============================] - 0s 15ms/step - loss: 0.0217 - cross entropy: 0.3339 - mean_squared_error: 0.0979 - root_mean_squared_error: 0.3128 - tp: 50.0000 - fp: 18.0000 - tn: 401.0000 - fn: 35.0000 - binary_accuracy: 0.8948 - f1_score: 0.6536 - precision: 0.7353 - recall: 0.5882 - auc: 0.9337 - prc: 0.7256 - val_loss: 0.0375 - val_cross entropy: 0.4256 - val_mean_squared_error: 0.1330 - val_root_mean_squared_error: 0.3647 - val_tp: 3.0000 - val_fp: 6.0000 - val_tn: 44.0000 - val_fn: 3.0000 - val_binary_accuracy: 0.8393 - val_f1_score: 0.4000 - val_precision: 0.3333 - val_recall: 0.5000 - val_auc: 0.7483 - val_prc: 0.3859\n",
      "Epoch 26/100\n",
      "16/16 [==============================] - 0s 15ms/step - loss: 0.0228 - cross entropy: 0.3488 - mean_squared_error: 0.1014 - root_mean_squared_error: 0.3185 - tp: 55.0000 - fp: 29.0000 - tn: 390.0000 - fn: 30.0000 - binary_accuracy: 0.8829 - f1_score: 0.6509 - precision: 0.6548 - recall: 0.6471 - auc: 0.9290 - prc: 0.7380 - val_loss: 0.0503 - val_cross entropy: 0.4122 - val_mean_squared_error: 0.1282 - val_root_mean_squared_error: 0.3580 - val_tp: 3.0000 - val_fp: 5.0000 - val_tn: 45.0000 - val_fn: 3.0000 - val_binary_accuracy: 0.8571 - val_f1_score: 0.4286 - val_precision: 0.3750 - val_recall: 0.5000 - val_auc: 0.7183 - val_prc: 0.4904\n",
      "Epoch 27/100\n",
      "16/16 [==============================] - 0s 15ms/step - loss: 0.0219 - cross entropy: 0.2979 - mean_squared_error: 0.0874 - root_mean_squared_error: 0.2956 - tp: 54.0000 - fp: 18.0000 - tn: 401.0000 - fn: 31.0000 - binary_accuracy: 0.9028 - f1_score: 0.6879 - precision: 0.7500 - recall: 0.6353 - auc: 0.9396 - prc: 0.7582 - val_loss: 0.0429 - val_cross entropy: 0.4172 - val_mean_squared_error: 0.1309 - val_root_mean_squared_error: 0.3618 - val_tp: 2.0000 - val_fp: 7.0000 - val_tn: 43.0000 - val_fn: 4.0000 - val_binary_accuracy: 0.8036 - val_f1_score: 0.2667 - val_precision: 0.2222 - val_recall: 0.3333 - val_auc: 0.7267 - val_prc: 0.3652\n",
      "Epoch 28/100\n",
      "16/16 [==============================] - 0s 15ms/step - loss: 0.0204 - cross entropy: 0.3407 - mean_squared_error: 0.0978 - root_mean_squared_error: 0.3128 - tp: 56.0000 - fp: 24.0000 - tn: 395.0000 - fn: 29.0000 - binary_accuracy: 0.8948 - f1_score: 0.6788 - precision: 0.7000 - recall: 0.6588 - auc: 0.9443 - prc: 0.7495 - val_loss: 0.0465 - val_cross entropy: 0.4235 - val_mean_squared_error: 0.1329 - val_root_mean_squared_error: 0.3646 - val_tp: 3.0000 - val_fp: 6.0000 - val_tn: 44.0000 - val_fn: 3.0000 - val_binary_accuracy: 0.8393 - val_f1_score: 0.4000 - val_precision: 0.3333 - val_recall: 0.5000 - val_auc: 0.7400 - val_prc: 0.5154\n",
      "Epoch 29/100\n",
      "16/16 [==============================] - 0s 14ms/step - loss: 0.0189 - cross entropy: 0.3142 - mean_squared_error: 0.0896 - root_mean_squared_error: 0.2994 - tp: 63.0000 - fp: 25.0000 - tn: 394.0000 - fn: 22.0000 - binary_accuracy: 0.9067 - f1_score: 0.7283 - precision: 0.7159 - recall: 0.7412 - auc: 0.9555 - prc: 0.7937 - val_loss: 0.0381 - val_cross entropy: 0.3306 - val_mean_squared_error: 0.0954 - val_root_mean_squared_error: 0.3089 - val_tp: 2.0000 - val_fp: 1.0000 - val_tn: 49.0000 - val_fn: 4.0000 - val_binary_accuracy: 0.9107 - val_f1_score: 0.4444 - val_precision: 0.6667 - val_recall: 0.3333 - val_auc: 0.7733 - val_prc: 0.3235\n",
      "Epoch 30/100\n",
      "16/16 [==============================] - 0s 14ms/step - loss: 0.0245 - cross entropy: 0.3206 - mean_squared_error: 0.0947 - root_mean_squared_error: 0.3077 - tp: 40.0000 - fp: 21.0000 - tn: 398.0000 - fn: 45.0000 - binary_accuracy: 0.8690 - f1_score: 0.5479 - precision: 0.6557 - recall: 0.4706 - auc: 0.9242 - prc: 0.6754 - val_loss: 0.0460 - val_cross entropy: 0.3891 - val_mean_squared_error: 0.1230 - val_root_mean_squared_error: 0.3508 - val_tp: 4.0000 - val_fp: 6.0000 - val_tn: 44.0000 - val_fn: 2.0000 - val_binary_accuracy: 0.8571 - val_f1_score: 0.5000 - val_precision: 0.4000 - val_recall: 0.6667 - val_auc: 0.7683 - val_prc: 0.4184\n",
      "Epoch 31/100\n",
      "16/16 [==============================] - 0s 14ms/step - loss: 0.0208 - cross entropy: 0.2962 - mean_squared_error: 0.0873 - root_mean_squared_error: 0.2954 - tp: 53.0000 - fp: 26.0000 - tn: 393.0000 - fn: 32.0000 - binary_accuracy: 0.8849 - f1_score: 0.6463 - precision: 0.6709 - recall: 0.6235 - auc: 0.9412 - prc: 0.7742 - val_loss: 0.0510 - val_cross entropy: 0.4629 - val_mean_squared_error: 0.1528 - val_root_mean_squared_error: 0.3909 - val_tp: 4.0000 - val_fp: 10.0000 - val_tn: 40.0000 - val_fn: 2.0000 - val_binary_accuracy: 0.7857 - val_f1_score: 0.4000 - val_precision: 0.2857 - val_recall: 0.6667 - val_auc: 0.7383 - val_prc: 0.3581\n",
      "Epoch 32/100\n",
      "16/16 [==============================] - 0s 15ms/step - loss: 0.0193 - cross entropy: 0.3373 - mean_squared_error: 0.0959 - root_mean_squared_error: 0.3097 - tp: 58.0000 - fp: 17.0000 - tn: 402.0000 - fn: 27.0000 - binary_accuracy: 0.9127 - f1_score: 0.7250 - precision: 0.7733 - recall: 0.6824 - auc: 0.9525 - prc: 0.8294 - val_loss: 0.0526 - val_cross entropy: 0.4184 - val_mean_squared_error: 0.1349 - val_root_mean_squared_error: 0.3672 - val_tp: 3.0000 - val_fp: 7.0000 - val_tn: 43.0000 - val_fn: 3.0000 - val_binary_accuracy: 0.8214 - val_f1_score: 0.3750 - val_precision: 0.3000 - val_recall: 0.5000 - val_auc: 0.7267 - val_prc: 0.3933\n",
      "Epoch 33/100\n",
      "16/16 [==============================] - 0s 15ms/step - loss: 0.0184 - cross entropy: 0.2903 - mean_squared_error: 0.0843 - root_mean_squared_error: 0.2903 - tp: 57.0000 - fp: 16.0000 - tn: 403.0000 - fn: 28.0000 - binary_accuracy: 0.9127 - f1_score: 0.7215 - precision: 0.7808 - recall: 0.6706 - auc: 0.9542 - prc: 0.8127 - val_loss: 0.0535 - val_cross entropy: 0.4175 - val_mean_squared_error: 0.1322 - val_root_mean_squared_error: 0.3637 - val_tp: 3.0000 - val_fp: 7.0000 - val_tn: 43.0000 - val_fn: 3.0000 - val_binary_accuracy: 0.8214 - val_f1_score: 0.3750 - val_precision: 0.3000 - val_recall: 0.5000 - val_auc: 0.7367 - val_prc: 0.4130\n",
      "Epoch 34/100\n",
      "16/16 [==============================] - 0s 15ms/step - loss: 0.0181 - cross entropy: 0.2864 - mean_squared_error: 0.0811 - root_mean_squared_error: 0.2847 - tp: 63.0000 - fp: 20.0000 - tn: 399.0000 - fn: 22.0000 - binary_accuracy: 0.9167 - f1_score: 0.7500 - precision: 0.7590 - recall: 0.7412 - auc: 0.9570 - prc: 0.8180 - val_loss: 0.0620 - val_cross entropy: 0.4289 - val_mean_squared_error: 0.1398 - val_root_mean_squared_error: 0.3739 - val_tp: 3.0000 - val_fp: 10.0000 - val_tn: 40.0000 - val_fn: 3.0000 - val_binary_accuracy: 0.7679 - val_f1_score: 0.3158 - val_precision: 0.2308 - val_recall: 0.5000 - val_auc: 0.7383 - val_prc: 0.5062\n",
      "Epoch 35/100\n",
      "16/16 [==============================] - 0s 15ms/step - loss: 0.0193 - cross entropy: 0.3057 - mean_squared_error: 0.0878 - root_mean_squared_error: 0.2964 - tp: 60.0000 - fp: 20.0000 - tn: 399.0000 - fn: 25.0000 - binary_accuracy: 0.9107 - f1_score: 0.7273 - precision: 0.7500 - recall: 0.7059 - auc: 0.9508 - prc: 0.7699 - val_loss: 0.0521 - val_cross entropy: 0.3732 - val_mean_squared_error: 0.1132 - val_root_mean_squared_error: 0.3365 - val_tp: 3.0000 - val_fp: 5.0000 - val_tn: 45.0000 - val_fn: 3.0000 - val_binary_accuracy: 0.8571 - val_f1_score: 0.4286 - val_precision: 0.3750 - val_recall: 0.5000 - val_auc: 0.7350 - val_prc: 0.3969\n",
      "Epoch 36/100\n",
      "16/16 [==============================] - 0s 15ms/step - loss: 0.0188 - cross entropy: 0.2632 - mean_squared_error: 0.0760 - root_mean_squared_error: 0.2757 - tp: 57.0000 - fp: 21.0000 - tn: 398.0000 - fn: 28.0000 - binary_accuracy: 0.9028 - f1_score: 0.6994 - precision: 0.7308 - recall: 0.6706 - auc: 0.9563 - prc: 0.8284 - val_loss: 0.0440 - val_cross entropy: 0.3621 - val_mean_squared_error: 0.1088 - val_root_mean_squared_error: 0.3299 - val_tp: 3.0000 - val_fp: 2.0000 - val_tn: 48.0000 - val_fn: 3.0000 - val_binary_accuracy: 0.9107 - val_f1_score: 0.5455 - val_precision: 0.6000 - val_recall: 0.5000 - val_auc: 0.7417 - val_prc: 0.4195\n",
      "Epoch 37/100\n",
      "16/16 [==============================] - 0s 15ms/step - loss: 0.0166 - cross entropy: 0.2846 - mean_squared_error: 0.0793 - root_mean_squared_error: 0.2816 - tp: 61.0000 - fp: 16.0000 - tn: 403.0000 - fn: 24.0000 - binary_accuracy: 0.9206 - f1_score: 0.7531 - precision: 0.7922 - recall: 0.7176 - auc: 0.9655 - prc: 0.8413 - val_loss: 0.0517 - val_cross entropy: 0.3782 - val_mean_squared_error: 0.1160 - val_root_mean_squared_error: 0.3406 - val_tp: 2.0000 - val_fp: 5.0000 - val_tn: 45.0000 - val_fn: 4.0000 - val_binary_accuracy: 0.8393 - val_f1_score: 0.3077 - val_precision: 0.2857 - val_recall: 0.3333 - val_auc: 0.7233 - val_prc: 0.3767\n",
      "Epoch 38/100\n",
      "16/16 [==============================] - 0s 15ms/step - loss: 0.0168 - cross entropy: 0.2706 - mean_squared_error: 0.0766 - root_mean_squared_error: 0.2768 - tp: 61.0000 - fp: 15.0000 - tn: 404.0000 - fn: 24.0000 - binary_accuracy: 0.9226 - f1_score: 0.7578 - precision: 0.8026 - recall: 0.7176 - auc: 0.9657 - prc: 0.8148 - val_loss: 0.0448 - val_cross entropy: 0.3181 - val_mean_squared_error: 0.0919 - val_root_mean_squared_error: 0.3031 - val_tp: 2.0000 - val_fp: 2.0000 - val_tn: 48.0000 - val_fn: 4.0000 - val_binary_accuracy: 0.8929 - val_f1_score: 0.4000 - val_precision: 0.5000 - val_recall: 0.3333 - val_auc: 0.7650 - val_prc: 0.4649\n",
      "Epoch 39/100\n",
      "16/16 [==============================] - 0s 15ms/step - loss: 0.0203 - cross entropy: 0.2983 - mean_squared_error: 0.0857 - root_mean_squared_error: 0.2928 - tp: 55.0000 - fp: 23.0000 - tn: 396.0000 - fn: 30.0000 - binary_accuracy: 0.8948 - f1_score: 0.6748 - precision: 0.7051 - recall: 0.6471 - auc: 0.9467 - prc: 0.7773 - val_loss: 0.0349 - val_cross entropy: 0.3763 - val_mean_squared_error: 0.1146 - val_root_mean_squared_error: 0.3385 - val_tp: 2.0000 - val_fp: 1.0000 - val_tn: 49.0000 - val_fn: 4.0000 - val_binary_accuracy: 0.9107 - val_f1_score: 0.4444 - val_precision: 0.6667 - val_recall: 0.3333 - val_auc: 0.7500 - val_prc: 0.2807\n",
      "Epoch 40/100\n",
      "16/16 [==============================] - 0s 15ms/step - loss: 0.0191 - cross entropy: 0.3131 - mean_squared_error: 0.0888 - root_mean_squared_error: 0.2979 - tp: 58.0000 - fp: 24.0000 - tn: 395.0000 - fn: 27.0000 - binary_accuracy: 0.8988 - f1_score: 0.6946 - precision: 0.7073 - recall: 0.6824 - auc: 0.9505 - prc: 0.8041 - val_loss: 0.0506 - val_cross entropy: 0.3641 - val_mean_squared_error: 0.1140 - val_root_mean_squared_error: 0.3376 - val_tp: 3.0000 - val_fp: 7.0000 - val_tn: 43.0000 - val_fn: 3.0000 - val_binary_accuracy: 0.8214 - val_f1_score: 0.3750 - val_precision: 0.3000 - val_recall: 0.5000 - val_auc: 0.7617 - val_prc: 0.3875\n",
      "Epoch 41/100\n",
      "16/16 [==============================] - 0s 15ms/step - loss: 0.0226 - cross entropy: 0.3046 - mean_squared_error: 0.0890 - root_mean_squared_error: 0.2984 - tp: 54.0000 - fp: 25.0000 - tn: 394.0000 - fn: 31.0000 - binary_accuracy: 0.8889 - f1_score: 0.6585 - precision: 0.6835 - recall: 0.6353 - auc: 0.9347 - prc: 0.7178 - val_loss: 0.0502 - val_cross entropy: 0.4585 - val_mean_squared_error: 0.1513 - val_root_mean_squared_error: 0.3890 - val_tp: 3.0000 - val_fp: 10.0000 - val_tn: 40.0000 - val_fn: 3.0000 - val_binary_accuracy: 0.7679 - val_f1_score: 0.3158 - val_precision: 0.2308 - val_recall: 0.5000 - val_auc: 0.7517 - val_prc: 0.3073\n",
      "Epoch 42/100\n",
      "16/16 [==============================] - 0s 15ms/step - loss: 0.0170 - cross entropy: 0.2702 - mean_squared_error: 0.0754 - root_mean_squared_error: 0.2746 - tp: 55.0000 - fp: 15.0000 - tn: 404.0000 - fn: 30.0000 - binary_accuracy: 0.9107 - f1_score: 0.7097 - precision: 0.7857 - recall: 0.6471 - auc: 0.9639 - prc: 0.8206 - val_loss: 0.0463 - val_cross entropy: 0.4005 - val_mean_squared_error: 0.1278 - val_root_mean_squared_error: 0.3574 - val_tp: 3.0000 - val_fp: 8.0000 - val_tn: 42.0000 - val_fn: 3.0000 - val_binary_accuracy: 0.8036 - val_f1_score: 0.3529 - val_precision: 0.2727 - val_recall: 0.5000 - val_auc: 0.7617 - val_prc: 0.3995\n",
      "Epoch 43/100\n",
      "16/16 [==============================] - 0s 15ms/step - loss: 0.0167 - cross entropy: 0.3103 - mean_squared_error: 0.0858 - root_mean_squared_error: 0.2929 - tp: 67.0000 - fp: 21.0000 - tn: 398.0000 - fn: 18.0000 - binary_accuracy: 0.9226 - f1_score: 0.7746 - precision: 0.7614 - recall: 0.7882 - auc: 0.9683 - prc: 0.8474 - val_loss: 0.0382 - val_cross entropy: 0.3401 - val_mean_squared_error: 0.1016 - val_root_mean_squared_error: 0.3187 - val_tp: 3.0000 - val_fp: 2.0000 - val_tn: 48.0000 - val_fn: 3.0000 - val_binary_accuracy: 0.9107 - val_f1_score: 0.5455 - val_precision: 0.6000 - val_recall: 0.5000 - val_auc: 0.7750 - val_prc: 0.4744\n",
      "Epoch 44/100\n",
      "16/16 [==============================] - 0s 15ms/step - loss: 0.0172 - cross entropy: 0.2588 - mean_squared_error: 0.0724 - root_mean_squared_error: 0.2691 - tp: 56.0000 - fp: 14.0000 - tn: 405.0000 - fn: 29.0000 - binary_accuracy: 0.9147 - f1_score: 0.7226 - precision: 0.8000 - recall: 0.6588 - auc: 0.9663 - prc: 0.8207 - val_loss: 0.0456 - val_cross entropy: 0.4053 - val_mean_squared_error: 0.1308 - val_root_mean_squared_error: 0.3617 - val_tp: 3.0000 - val_fp: 8.0000 - val_tn: 42.0000 - val_fn: 3.0000 - val_binary_accuracy: 0.8036 - val_f1_score: 0.3529 - val_precision: 0.2727 - val_recall: 0.5000 - val_auc: 0.7917 - val_prc: 0.3854\n",
      "Epoch 45/100\n",
      "16/16 [==============================] - 0s 15ms/step - loss: 0.0190 - cross entropy: 0.2917 - mean_squared_error: 0.0824 - root_mean_squared_error: 0.2871 - tp: 66.0000 - fp: 26.0000 - tn: 393.0000 - fn: 19.0000 - binary_accuracy: 0.9107 - f1_score: 0.7458 - precision: 0.7174 - recall: 0.7765 - auc: 0.9553 - prc: 0.7841 - val_loss: 0.0398 - val_cross entropy: 0.3257 - val_mean_squared_error: 0.0987 - val_root_mean_squared_error: 0.3142 - val_tp: 2.0000 - val_fp: 3.0000 - val_tn: 47.0000 - val_fn: 4.0000 - val_binary_accuracy: 0.8750 - val_f1_score: 0.3636 - val_precision: 0.4000 - val_recall: 0.3333 - val_auc: 0.7833 - val_prc: 0.3826\n",
      "Epoch 46/100\n",
      "16/16 [==============================] - 0s 13ms/step - loss: 0.0176 - cross entropy: 0.2578 - mean_squared_error: 0.0712 - root_mean_squared_error: 0.2669 - tp: 63.0000 - fp: 20.0000 - tn: 399.0000 - fn: 22.0000 - binary_accuracy: 0.9167 - f1_score: 0.7500 - precision: 0.7590 - recall: 0.7412 - auc: 0.9654 - prc: 0.8003 - val_loss: 0.0512 - val_cross entropy: 0.3172 - val_mean_squared_error: 0.0946 - val_root_mean_squared_error: 0.3075 - val_tp: 1.0000 - val_fp: 0.0000e+00 - val_tn: 50.0000 - val_fn: 5.0000 - val_binary_accuracy: 0.9107 - val_f1_score: 0.2857 - val_precision: 1.0000 - val_recall: 0.1667 - val_auc: 0.7417 - val_prc: 0.3171\n",
      "Epoch 47/100\n",
      "16/16 [==============================] - 0s 13ms/step - loss: 0.0236 - cross entropy: 0.3060 - mean_squared_error: 0.0896 - root_mean_squared_error: 0.2993 - tp: 46.0000 - fp: 18.0000 - tn: 401.0000 - fn: 39.0000 - binary_accuracy: 0.8869 - f1_score: 0.6174 - precision: 0.7188 - recall: 0.5412 - auc: 0.9310 - prc: 0.7140 - val_loss: 0.0702 - val_cross entropy: 0.5062 - val_mean_squared_error: 0.1732 - val_root_mean_squared_error: 0.4162 - val_tp: 4.0000 - val_fp: 12.0000 - val_tn: 38.0000 - val_fn: 2.0000 - val_binary_accuracy: 0.7500 - val_f1_score: 0.3636 - val_precision: 0.2500 - val_recall: 0.6667 - val_auc: 0.7117 - val_prc: 0.2226\n",
      "Epoch 48/100\n",
      "16/16 [==============================] - 0s 13ms/step - loss: 0.0177 - cross entropy: 0.2869 - mean_squared_error: 0.0812 - root_mean_squared_error: 0.2849 - tp: 60.0000 - fp: 24.0000 - tn: 395.0000 - fn: 25.0000 - binary_accuracy: 0.9028 - f1_score: 0.7101 - precision: 0.7143 - recall: 0.7059 - auc: 0.9578 - prc: 0.8340 - val_loss: 0.0490 - val_cross entropy: 0.4126 - val_mean_squared_error: 0.1349 - val_root_mean_squared_error: 0.3673 - val_tp: 2.0000 - val_fp: 10.0000 - val_tn: 40.0000 - val_fn: 4.0000 - val_binary_accuracy: 0.7500 - val_f1_score: 0.2222 - val_precision: 0.1667 - val_recall: 0.3333 - val_auc: 0.7300 - val_prc: 0.2065\n",
      "Epoch 49/100\n",
      "16/16 [==============================] - 0s 13ms/step - loss: 0.0152 - cross entropy: 0.2839 - mean_squared_error: 0.0769 - root_mean_squared_error: 0.2773 - tp: 68.0000 - fp: 16.0000 - tn: 403.0000 - fn: 17.0000 - binary_accuracy: 0.9345 - f1_score: 0.8047 - precision: 0.8095 - recall: 0.8000 - auc: 0.9742 - prc: 0.8661 - val_loss: 0.0379 - val_cross entropy: 0.3186 - val_mean_squared_error: 0.0943 - val_root_mean_squared_error: 0.3072 - val_tp: 1.0000 - val_fp: 1.0000 - val_tn: 49.0000 - val_fn: 5.0000 - val_binary_accuracy: 0.8929 - val_f1_score: 0.2500 - val_precision: 0.5000 - val_recall: 0.1667 - val_auc: 0.7883 - val_prc: 0.3480\n",
      "Epoch 50/100\n",
      "16/16 [==============================] - 0s 13ms/step - loss: 0.0173 - cross entropy: 0.2768 - mean_squared_error: 0.0774 - root_mean_squared_error: 0.2783 - tp: 64.0000 - fp: 21.0000 - tn: 398.0000 - fn: 21.0000 - binary_accuracy: 0.9167 - f1_score: 0.7529 - precision: 0.7529 - recall: 0.7529 - auc: 0.9616 - prc: 0.8302 - val_loss: 0.0348 - val_cross entropy: 0.3388 - val_mean_squared_error: 0.1044 - val_root_mean_squared_error: 0.3231 - val_tp: 2.0000 - val_fp: 4.0000 - val_tn: 46.0000 - val_fn: 4.0000 - val_binary_accuracy: 0.8571 - val_f1_score: 0.3333 - val_precision: 0.3333 - val_recall: 0.3333 - val_auc: 0.8167 - val_prc: 0.3980\n",
      "Epoch 51/100\n",
      "16/16 [==============================] - 0s 13ms/step - loss: 0.0122 - cross entropy: 0.2357 - mean_squared_error: 0.0627 - root_mean_squared_error: 0.2503 - tp: 63.0000 - fp: 8.0000 - tn: 411.0000 - fn: 22.0000 - binary_accuracy: 0.9405 - f1_score: 0.8077 - precision: 0.8873 - recall: 0.7412 - auc: 0.9843 - prc: 0.9243 - val_loss: 0.0454 - val_cross entropy: 0.3612 - val_mean_squared_error: 0.1145 - val_root_mean_squared_error: 0.3383 - val_tp: 4.0000 - val_fp: 7.0000 - val_tn: 43.0000 - val_fn: 2.0000 - val_binary_accuracy: 0.8393 - val_f1_score: 0.4706 - val_precision: 0.3636 - val_recall: 0.6667 - val_auc: 0.7950 - val_prc: 0.4094\n",
      "Epoch 52/100\n",
      "16/16 [==============================] - 0s 13ms/step - loss: 0.0149 - cross entropy: 0.2487 - mean_squared_error: 0.0687 - root_mean_squared_error: 0.2621 - tp: 69.0000 - fp: 18.0000 - tn: 401.0000 - fn: 16.0000 - binary_accuracy: 0.9325 - f1_score: 0.8023 - precision: 0.7931 - recall: 0.8118 - auc: 0.9730 - prc: 0.8666 - val_loss: 0.0531 - val_cross entropy: 0.3878 - val_mean_squared_error: 0.1255 - val_root_mean_squared_error: 0.3542 - val_tp: 4.0000 - val_fp: 7.0000 - val_tn: 43.0000 - val_fn: 2.0000 - val_binary_accuracy: 0.8393 - val_f1_score: 0.4706 - val_precision: 0.3636 - val_recall: 0.6667 - val_auc: 0.7783 - val_prc: 0.3642\n",
      "Epoch 53/100\n",
      "16/16 [==============================] - 0s 15ms/step - loss: 0.0153 - cross entropy: 0.2433 - mean_squared_error: 0.0677 - root_mean_squared_error: 0.2601 - tp: 63.0000 - fp: 18.0000 - tn: 401.0000 - fn: 22.0000 - binary_accuracy: 0.9206 - f1_score: 0.7590 - precision: 0.7778 - recall: 0.7412 - auc: 0.9702 - prc: 0.8549 - val_loss: 0.0412 - val_cross entropy: 0.3438 - val_mean_squared_error: 0.1057 - val_root_mean_squared_error: 0.3251 - val_tp: 4.0000 - val_fp: 4.0000 - val_tn: 46.0000 - val_fn: 2.0000 - val_binary_accuracy: 0.8929 - val_f1_score: 0.5714 - val_precision: 0.5000 - val_recall: 0.6667 - val_auc: 0.8267 - val_prc: 0.4036\n",
      "Epoch 54/100\n",
      "16/16 [==============================] - 0s 14ms/step - loss: 0.0157 - cross entropy: 0.2404 - mean_squared_error: 0.0660 - root_mean_squared_error: 0.2569 - tp: 70.0000 - fp: 19.0000 - tn: 400.0000 - fn: 15.0000 - binary_accuracy: 0.9325 - f1_score: 0.8046 - precision: 0.7865 - recall: 0.8235 - auc: 0.9697 - prc: 0.8557 - val_loss: 0.0608 - val_cross entropy: 0.3917 - val_mean_squared_error: 0.1263 - val_root_mean_squared_error: 0.3554 - val_tp: 4.0000 - val_fp: 7.0000 - val_tn: 43.0000 - val_fn: 2.0000 - val_binary_accuracy: 0.8393 - val_f1_score: 0.4706 - val_precision: 0.3636 - val_recall: 0.6667 - val_auc: 0.7650 - val_prc: 0.4207\n",
      "Epoch 55/100\n",
      "16/16 [==============================] - 0s 15ms/step - loss: 0.0139 - cross entropy: 0.2478 - mean_squared_error: 0.0670 - root_mean_squared_error: 0.2589 - tp: 67.0000 - fp: 14.0000 - tn: 405.0000 - fn: 18.0000 - binary_accuracy: 0.9365 - f1_score: 0.8072 - precision: 0.8272 - recall: 0.7882 - auc: 0.9762 - prc: 0.8919 - val_loss: 0.0590 - val_cross entropy: 0.4531 - val_mean_squared_error: 0.1531 - val_root_mean_squared_error: 0.3913 - val_tp: 3.0000 - val_fp: 11.0000 - val_tn: 39.0000 - val_fn: 3.0000 - val_binary_accuracy: 0.7500 - val_f1_score: 0.3000 - val_precision: 0.2143 - val_recall: 0.5000 - val_auc: 0.7567 - val_prc: 0.3676\n",
      "Epoch 56/100\n",
      "16/16 [==============================] - 0s 14ms/step - loss: 0.0118 - cross entropy: 0.2193 - mean_squared_error: 0.0584 - root_mean_squared_error: 0.2417 - tp: 66.0000 - fp: 8.0000 - tn: 411.0000 - fn: 19.0000 - binary_accuracy: 0.9464 - f1_score: 0.8302 - precision: 0.8919 - recall: 0.7765 - auc: 0.9843 - prc: 0.9231 - val_loss: 0.0534 - val_cross entropy: 0.3839 - val_mean_squared_error: 0.1270 - val_root_mean_squared_error: 0.3564 - val_tp: 3.0000 - val_fp: 9.0000 - val_tn: 41.0000 - val_fn: 3.0000 - val_binary_accuracy: 0.7857 - val_f1_score: 0.3333 - val_precision: 0.2500 - val_recall: 0.5000 - val_auc: 0.7750 - val_prc: 0.3517\n",
      "Epoch 57/100\n",
      "16/16 [==============================] - 0s 13ms/step - loss: 0.0122 - cross entropy: 0.2341 - mean_squared_error: 0.0622 - root_mean_squared_error: 0.2493 - tp: 65.0000 - fp: 14.0000 - tn: 405.0000 - fn: 20.0000 - binary_accuracy: 0.9325 - f1_score: 0.7927 - precision: 0.8228 - recall: 0.7647 - auc: 0.9809 - prc: 0.9207 - val_loss: 0.0469 - val_cross entropy: 0.3682 - val_mean_squared_error: 0.1186 - val_root_mean_squared_error: 0.3444 - val_tp: 1.0000 - val_fp: 6.0000 - val_tn: 44.0000 - val_fn: 5.0000 - val_binary_accuracy: 0.8036 - val_f1_score: 0.1538 - val_precision: 0.1429 - val_recall: 0.1667 - val_auc: 0.7600 - val_prc: 0.2154\n",
      "Epoch 58/100\n",
      "16/16 [==============================] - 0s 13ms/step - loss: 0.0121 - cross entropy: 0.2240 - mean_squared_error: 0.0601 - root_mean_squared_error: 0.2451 - tp: 67.0000 - fp: 11.0000 - tn: 408.0000 - fn: 18.0000 - binary_accuracy: 0.9425 - f1_score: 0.8221 - precision: 0.8590 - recall: 0.7882 - auc: 0.9821 - prc: 0.9226 - val_loss: 0.0756 - val_cross entropy: 0.4261 - val_mean_squared_error: 0.1430 - val_root_mean_squared_error: 0.3781 - val_tp: 4.0000 - val_fp: 9.0000 - val_tn: 41.0000 - val_fn: 2.0000 - val_binary_accuracy: 0.8036 - val_f1_score: 0.4211 - val_precision: 0.3077 - val_recall: 0.6667 - val_auc: 0.7883 - val_prc: 0.4156\n",
      "Epoch 59/100\n",
      "16/16 [==============================] - 0s 14ms/step - loss: 0.0160 - cross entropy: 0.2333 - mean_squared_error: 0.0640 - root_mean_squared_error: 0.2531 - tp: 71.0000 - fp: 21.0000 - tn: 398.0000 - fn: 14.0000 - binary_accuracy: 0.9306 - f1_score: 0.8023 - precision: 0.7717 - recall: 0.8353 - auc: 0.9701 - prc: 0.8856 - val_loss: 0.0491 - val_cross entropy: 0.3709 - val_mean_squared_error: 0.1152 - val_root_mean_squared_error: 0.3394 - val_tp: 2.0000 - val_fp: 3.0000 - val_tn: 47.0000 - val_fn: 4.0000 - val_binary_accuracy: 0.8750 - val_f1_score: 0.3636 - val_precision: 0.4000 - val_recall: 0.3333 - val_auc: 0.6900 - val_prc: 0.1985\n",
      "Epoch 60/100\n",
      "16/16 [==============================] - 0s 14ms/step - loss: 0.0207 - cross entropy: 0.2573 - mean_squared_error: 0.0739 - root_mean_squared_error: 0.2719 - tp: 53.0000 - fp: 11.0000 - tn: 408.0000 - fn: 32.0000 - binary_accuracy: 0.9147 - f1_score: 0.7114 - precision: 0.8281 - recall: 0.6235 - auc: 0.9529 - prc: 0.7835 - val_loss: 0.0577 - val_cross entropy: 0.4117 - val_mean_squared_error: 0.1358 - val_root_mean_squared_error: 0.3685 - val_tp: 4.0000 - val_fp: 8.0000 - val_tn: 42.0000 - val_fn: 2.0000 - val_binary_accuracy: 0.8214 - val_f1_score: 0.4444 - val_precision: 0.3333 - val_recall: 0.6667 - val_auc: 0.7667 - val_prc: 0.3696\n",
      "Epoch 61/100\n",
      "16/16 [==============================] - 0s 14ms/step - loss: 0.0176 - cross entropy: 0.2617 - mean_squared_error: 0.0734 - root_mean_squared_error: 0.2709 - tp: 64.0000 - fp: 21.0000 - tn: 398.0000 - fn: 21.0000 - binary_accuracy: 0.9167 - f1_score: 0.7529 - precision: 0.7529 - recall: 0.7529 - auc: 0.9609 - prc: 0.8394 - val_loss: 0.0488 - val_cross entropy: 0.4023 - val_mean_squared_error: 0.1312 - val_root_mean_squared_error: 0.3623 - val_tp: 4.0000 - val_fp: 9.0000 - val_tn: 41.0000 - val_fn: 2.0000 - val_binary_accuracy: 0.8036 - val_f1_score: 0.4211 - val_precision: 0.3077 - val_recall: 0.6667 - val_auc: 0.8300 - val_prc: 0.5436\n",
      "Epoch 62/100\n",
      "16/16 [==============================] - 0s 15ms/step - loss: 0.0137 - cross entropy: 0.2493 - mean_squared_error: 0.0681 - root_mean_squared_error: 0.2610 - tp: 66.0000 - fp: 13.0000 - tn: 406.0000 - fn: 19.0000 - binary_accuracy: 0.9365 - f1_score: 0.8049 - precision: 0.8354 - recall: 0.7765 - auc: 0.9773 - prc: 0.9101 - val_loss: 0.0560 - val_cross entropy: 0.4069 - val_mean_squared_error: 0.1314 - val_root_mean_squared_error: 0.3625 - val_tp: 4.0000 - val_fp: 8.0000 - val_tn: 42.0000 - val_fn: 2.0000 - val_binary_accuracy: 0.8214 - val_f1_score: 0.4444 - val_precision: 0.3333 - val_recall: 0.6667 - val_auc: 0.7783 - val_prc: 0.3752\n",
      "Epoch 63/100\n",
      "16/16 [==============================] - 0s 14ms/step - loss: 0.0115 - cross entropy: 0.2388 - mean_squared_error: 0.0632 - root_mean_squared_error: 0.2514 - tp: 75.0000 - fp: 10.0000 - tn: 409.0000 - fn: 10.0000 - binary_accuracy: 0.9603 - f1_score: 0.8824 - precision: 0.8824 - recall: 0.8824 - auc: 0.9871 - prc: 0.9372 - val_loss: 0.0511 - val_cross entropy: 0.3613 - val_mean_squared_error: 0.1148 - val_root_mean_squared_error: 0.3388 - val_tp: 3.0000 - val_fp: 5.0000 - val_tn: 45.0000 - val_fn: 3.0000 - val_binary_accuracy: 0.8571 - val_f1_score: 0.4286 - val_precision: 0.3750 - val_recall: 0.5000 - val_auc: 0.7700 - val_prc: 0.3728\n",
      "Epoch 64/100\n",
      "16/16 [==============================] - 0s 13ms/step - loss: 0.0129 - cross entropy: 0.2271 - mean_squared_error: 0.0606 - root_mean_squared_error: 0.2462 - tp: 67.0000 - fp: 19.0000 - tn: 400.0000 - fn: 18.0000 - binary_accuracy: 0.9266 - f1_score: 0.7836 - precision: 0.7791 - recall: 0.7882 - auc: 0.9787 - prc: 0.9055 - val_loss: 0.0783 - val_cross entropy: 0.4608 - val_mean_squared_error: 0.1584 - val_root_mean_squared_error: 0.3980 - val_tp: 4.0000 - val_fp: 11.0000 - val_tn: 39.0000 - val_fn: 2.0000 - val_binary_accuracy: 0.7679 - val_f1_score: 0.3810 - val_precision: 0.2667 - val_recall: 0.6667 - val_auc: 0.7667 - val_prc: 0.2131\n",
      "Epoch 65/100\n",
      "16/16 [==============================] - 0s 14ms/step - loss: 0.0122 - cross entropy: 0.2137 - mean_squared_error: 0.0577 - root_mean_squared_error: 0.2402 - tp: 69.0000 - fp: 11.0000 - tn: 408.0000 - fn: 16.0000 - binary_accuracy: 0.9464 - f1_score: 0.8364 - precision: 0.8625 - recall: 0.8118 - auc: 0.9817 - prc: 0.9166 - val_loss: 0.0770 - val_cross entropy: 0.4188 - val_mean_squared_error: 0.1427 - val_root_mean_squared_error: 0.3777 - val_tp: 4.0000 - val_fp: 11.0000 - val_tn: 39.0000 - val_fn: 2.0000 - val_binary_accuracy: 0.7679 - val_f1_score: 0.3810 - val_precision: 0.2667 - val_recall: 0.6667 - val_auc: 0.7650 - val_prc: 0.3632\n",
      "Epoch 66/100\n",
      "16/16 [==============================] - 0s 15ms/step - loss: 0.0118 - cross entropy: 0.2128 - mean_squared_error: 0.0556 - root_mean_squared_error: 0.2358 - tp: 71.0000 - fp: 12.0000 - tn: 407.0000 - fn: 14.0000 - binary_accuracy: 0.9484 - f1_score: 0.8452 - precision: 0.8554 - recall: 0.8353 - auc: 0.9827 - prc: 0.9258 - val_loss: 0.0672 - val_cross entropy: 0.4117 - val_mean_squared_error: 0.1338 - val_root_mean_squared_error: 0.3658 - val_tp: 3.0000 - val_fp: 10.0000 - val_tn: 40.0000 - val_fn: 3.0000 - val_binary_accuracy: 0.7679 - val_f1_score: 0.3158 - val_precision: 0.2308 - val_recall: 0.5000 - val_auc: 0.7383 - val_prc: 0.2930\n",
      "Epoch 67/100\n",
      "16/16 [==============================] - 0s 15ms/step - loss: 0.0187 - cross entropy: 0.2326 - mean_squared_error: 0.0663 - root_mean_squared_error: 0.2574 - tp: 65.0000 - fp: 21.0000 - tn: 398.0000 - fn: 20.0000 - binary_accuracy: 0.9187 - f1_score: 0.7602 - precision: 0.7558 - recall: 0.7647 - auc: 0.9607 - prc: 0.8733 - val_loss: 0.0848 - val_cross entropy: 0.4905 - val_mean_squared_error: 0.1650 - val_root_mean_squared_error: 0.4062 - val_tp: 4.0000 - val_fp: 11.0000 - val_tn: 39.0000 - val_fn: 2.0000 - val_binary_accuracy: 0.7679 - val_f1_score: 0.3810 - val_precision: 0.2667 - val_recall: 0.6667 - val_auc: 0.7783 - val_prc: 0.3986\n",
      "Epoch 68/100\n",
      "16/16 [==============================] - 0s 14ms/step - loss: 0.0151 - cross entropy: 0.2438 - mean_squared_error: 0.0666 - root_mean_squared_error: 0.2581 - tp: 70.0000 - fp: 13.0000 - tn: 406.0000 - fn: 15.0000 - binary_accuracy: 0.9444 - f1_score: 0.8333 - precision: 0.8434 - recall: 0.8235 - auc: 0.9733 - prc: 0.8565 - val_loss: 0.0751 - val_cross entropy: 0.4594 - val_mean_squared_error: 0.1566 - val_root_mean_squared_error: 0.3957 - val_tp: 4.0000 - val_fp: 13.0000 - val_tn: 37.0000 - val_fn: 2.0000 - val_binary_accuracy: 0.7321 - val_f1_score: 0.3478 - val_precision: 0.2353 - val_recall: 0.6667 - val_auc: 0.7667 - val_prc: 0.3708\n",
      "Epoch 69/100\n",
      "16/16 [==============================] - 0s 16ms/step - loss: 0.0103 - cross entropy: 0.2172 - mean_squared_error: 0.0571 - root_mean_squared_error: 0.2389 - tp: 73.0000 - fp: 9.0000 - tn: 410.0000 - fn: 12.0000 - binary_accuracy: 0.9583 - f1_score: 0.8743 - precision: 0.8902 - recall: 0.8588 - auc: 0.9893 - prc: 0.9507 - val_loss: 0.0594 - val_cross entropy: 0.4113 - val_mean_squared_error: 0.1337 - val_root_mean_squared_error: 0.3657 - val_tp: 4.0000 - val_fp: 9.0000 - val_tn: 41.0000 - val_fn: 2.0000 - val_binary_accuracy: 0.8036 - val_f1_score: 0.4211 - val_precision: 0.3077 - val_recall: 0.6667 - val_auc: 0.7617 - val_prc: 0.3791\n",
      "Epoch 70/100\n",
      "16/16 [==============================] - 0s 15ms/step - loss: 0.0085 - cross entropy: 0.2022 - mean_squared_error: 0.0503 - root_mean_squared_error: 0.2242 - tp: 77.0000 - fp: 7.0000 - tn: 412.0000 - fn: 8.0000 - binary_accuracy: 0.9702 - f1_score: 0.9112 - precision: 0.9167 - recall: 0.9059 - auc: 0.9929 - prc: 0.9692 - val_loss: 0.0858 - val_cross entropy: 0.4486 - val_mean_squared_error: 0.1500 - val_root_mean_squared_error: 0.3873 - val_tp: 4.0000 - val_fp: 11.0000 - val_tn: 39.0000 - val_fn: 2.0000 - val_binary_accuracy: 0.7679 - val_f1_score: 0.3810 - val_precision: 0.2667 - val_recall: 0.6667 - val_auc: 0.7767 - val_prc: 0.2670\n",
      "Epoch 71/100\n",
      "16/16 [==============================] - 0s 15ms/step - loss: 0.0082 - cross entropy: 0.1815 - mean_squared_error: 0.0452 - root_mean_squared_error: 0.2126 - tp: 74.0000 - fp: 7.0000 - tn: 412.0000 - fn: 11.0000 - binary_accuracy: 0.9643 - f1_score: 0.8916 - precision: 0.9136 - recall: 0.8706 - auc: 0.9925 - prc: 0.9688 - val_loss: 0.1102 - val_cross entropy: 0.4894 - val_mean_squared_error: 0.1648 - val_root_mean_squared_error: 0.4060 - val_tp: 4.0000 - val_fp: 10.0000 - val_tn: 40.0000 - val_fn: 2.0000 - val_binary_accuracy: 0.7857 - val_f1_score: 0.4000 - val_precision: 0.2857 - val_recall: 0.6667 - val_auc: 0.7883 - val_prc: 0.5130\n",
      "Epoch 72/100\n",
      "16/16 [==============================] - 0s 16ms/step - loss: 0.0145 - cross entropy: 0.1903 - mean_squared_error: 0.0512 - root_mean_squared_error: 0.2262 - tp: 71.0000 - fp: 16.0000 - tn: 403.0000 - fn: 14.0000 - binary_accuracy: 0.9405 - f1_score: 0.8256 - precision: 0.8161 - recall: 0.8353 - auc: 0.9771 - prc: 0.9246 - val_loss: 0.1176 - val_cross entropy: 0.5554 - val_mean_squared_error: 0.1880 - val_root_mean_squared_error: 0.4335 - val_tp: 4.0000 - val_fp: 15.0000 - val_tn: 35.0000 - val_fn: 2.0000 - val_binary_accuracy: 0.6964 - val_f1_score: 0.3200 - val_precision: 0.2105 - val_recall: 0.6667 - val_auc: 0.7633 - val_prc: 0.2722\n",
      "Epoch 73/100\n",
      "16/16 [==============================] - 0s 15ms/step - loss: 0.0242 - cross entropy: 0.2685 - mean_squared_error: 0.0778 - root_mean_squared_error: 0.2789 - tp: 61.0000 - fp: 27.0000 - tn: 392.0000 - fn: 24.0000 - binary_accuracy: 0.8988 - f1_score: 0.7052 - precision: 0.6932 - recall: 0.7176 - auc: 0.9451 - prc: 0.7586 - val_loss: 0.0653 - val_cross entropy: 0.4497 - val_mean_squared_error: 0.1466 - val_root_mean_squared_error: 0.3829 - val_tp: 3.0000 - val_fp: 9.0000 - val_tn: 41.0000 - val_fn: 3.0000 - val_binary_accuracy: 0.7857 - val_f1_score: 0.3333 - val_precision: 0.2500 - val_recall: 0.5000 - val_auc: 0.6817 - val_prc: 0.3301\n",
      "Epoch 74/100\n",
      "16/16 [==============================] - 0s 15ms/step - loss: 0.0166 - cross entropy: 0.2806 - mean_squared_error: 0.0775 - root_mean_squared_error: 0.2784 - tp: 66.0000 - fp: 20.0000 - tn: 399.0000 - fn: 19.0000 - binary_accuracy: 0.9226 - f1_score: 0.7719 - precision: 0.7674 - recall: 0.7765 - auc: 0.9641 - prc: 0.8799 - val_loss: 0.0463 - val_cross entropy: 0.4034 - val_mean_squared_error: 0.1289 - val_root_mean_squared_error: 0.3591 - val_tp: 1.0000 - val_fp: 7.0000 - val_tn: 43.0000 - val_fn: 5.0000 - val_binary_accuracy: 0.7857 - val_f1_score: 0.1429 - val_precision: 0.1250 - val_recall: 0.1667 - val_auc: 0.7117 - val_prc: 0.1849\n",
      "Epoch 75/100\n",
      "16/16 [==============================] - 0s 16ms/step - loss: 0.0138 - cross entropy: 0.2531 - mean_squared_error: 0.0678 - root_mean_squared_error: 0.2604 - tp: 62.0000 - fp: 14.0000 - tn: 405.0000 - fn: 23.0000 - binary_accuracy: 0.9266 - f1_score: 0.7702 - precision: 0.8158 - recall: 0.7294 - auc: 0.9776 - prc: 0.8813 - val_loss: 0.0669 - val_cross entropy: 0.3994 - val_mean_squared_error: 0.1293 - val_root_mean_squared_error: 0.3595 - val_tp: 3.0000 - val_fp: 7.0000 - val_tn: 43.0000 - val_fn: 3.0000 - val_binary_accuracy: 0.8214 - val_f1_score: 0.3750 - val_precision: 0.3000 - val_recall: 0.5000 - val_auc: 0.7417 - val_prc: 0.3501\n",
      "Epoch 76/100\n",
      "16/16 [==============================] - 0s 15ms/step - loss: 0.0153 - cross entropy: 0.2452 - mean_squared_error: 0.0669 - root_mean_squared_error: 0.2587 - tp: 66.0000 - fp: 15.0000 - tn: 404.0000 - fn: 19.0000 - binary_accuracy: 0.9325 - f1_score: 0.7952 - precision: 0.8148 - recall: 0.7765 - auc: 0.9704 - prc: 0.8778 - val_loss: 0.0626 - val_cross entropy: 0.4430 - val_mean_squared_error: 0.1448 - val_root_mean_squared_error: 0.3805 - val_tp: 3.0000 - val_fp: 8.0000 - val_tn: 42.0000 - val_fn: 3.0000 - val_binary_accuracy: 0.8036 - val_f1_score: 0.3529 - val_precision: 0.2727 - val_recall: 0.5000 - val_auc: 0.7200 - val_prc: 0.2261\n",
      "Epoch 77/100\n",
      "16/16 [==============================] - 0s 15ms/step - loss: 0.0105 - cross entropy: 0.2203 - mean_squared_error: 0.0568 - root_mean_squared_error: 0.2384 - tp: 66.0000 - fp: 5.0000 - tn: 414.0000 - fn: 19.0000 - binary_accuracy: 0.9524 - f1_score: 0.8462 - precision: 0.9296 - recall: 0.7765 - auc: 0.9888 - prc: 0.9482 - val_loss: 0.0901 - val_cross entropy: 0.4750 - val_mean_squared_error: 0.1593 - val_root_mean_squared_error: 0.3991 - val_tp: 4.0000 - val_fp: 10.0000 - val_tn: 40.0000 - val_fn: 2.0000 - val_binary_accuracy: 0.7857 - val_f1_score: 0.4000 - val_precision: 0.2857 - val_recall: 0.6667 - val_auc: 0.7083 - val_prc: 0.2109\n",
      "Epoch 78/100\n",
      "16/16 [==============================] - 0s 15ms/step - loss: 0.0105 - cross entropy: 0.2230 - mean_squared_error: 0.0568 - root_mean_squared_error: 0.2383 - tp: 72.0000 - fp: 8.0000 - tn: 411.0000 - fn: 13.0000 - binary_accuracy: 0.9583 - f1_score: 0.8727 - precision: 0.9000 - recall: 0.8471 - auc: 0.9868 - prc: 0.9498 - val_loss: 0.0710 - val_cross entropy: 0.4164 - val_mean_squared_error: 0.1371 - val_root_mean_squared_error: 0.3703 - val_tp: 3.0000 - val_fp: 8.0000 - val_tn: 42.0000 - val_fn: 3.0000 - val_binary_accuracy: 0.8036 - val_f1_score: 0.3529 - val_precision: 0.2727 - val_recall: 0.5000 - val_auc: 0.7333 - val_prc: 0.3407\n",
      "Epoch 79/100\n",
      "16/16 [==============================] - 0s 16ms/step - loss: 0.0069 - cross entropy: 0.1790 - mean_squared_error: 0.0433 - root_mean_squared_error: 0.2080 - tp: 81.0000 - fp: 7.0000 - tn: 412.0000 - fn: 4.0000 - binary_accuracy: 0.9782 - f1_score: 0.9364 - precision: 0.9205 - recall: 0.9529 - auc: 0.9954 - prc: 0.9820 - val_loss: 0.0882 - val_cross entropy: 0.3856 - val_mean_squared_error: 0.1200 - val_root_mean_squared_error: 0.3463 - val_tp: 4.0000 - val_fp: 6.0000 - val_tn: 44.0000 - val_fn: 2.0000 - val_binary_accuracy: 0.8571 - val_f1_score: 0.5000 - val_precision: 0.4000 - val_recall: 0.6667 - val_auc: 0.7433 - val_prc: 0.3686\n",
      "Epoch 80/100\n",
      "16/16 [==============================] - 0s 15ms/step - loss: 0.0103 - cross entropy: 0.1799 - mean_squared_error: 0.0465 - root_mean_squared_error: 0.2156 - tp: 75.0000 - fp: 10.0000 - tn: 409.0000 - fn: 10.0000 - binary_accuracy: 0.9603 - f1_score: 0.8824 - precision: 0.8824 - recall: 0.8824 - auc: 0.9875 - prc: 0.9403 - val_loss: 0.0765 - val_cross entropy: 0.3945 - val_mean_squared_error: 0.1253 - val_root_mean_squared_error: 0.3540 - val_tp: 3.0000 - val_fp: 7.0000 - val_tn: 43.0000 - val_fn: 3.0000 - val_binary_accuracy: 0.8214 - val_f1_score: 0.3750 - val_precision: 0.3000 - val_recall: 0.5000 - val_auc: 0.7250 - val_prc: 0.2085\n",
      "Epoch 81/100\n",
      "16/16 [==============================] - 0s 15ms/step - loss: 0.0115 - cross entropy: 0.1849 - mean_squared_error: 0.0487 - root_mean_squared_error: 0.2208 - tp: 71.0000 - fp: 11.0000 - tn: 408.0000 - fn: 14.0000 - binary_accuracy: 0.9504 - f1_score: 0.8503 - precision: 0.8659 - recall: 0.8353 - auc: 0.9838 - prc: 0.9343 - val_loss: 0.0664 - val_cross entropy: 0.3623 - val_mean_squared_error: 0.1104 - val_root_mean_squared_error: 0.3322 - val_tp: 3.0000 - val_fp: 6.0000 - val_tn: 44.0000 - val_fn: 3.0000 - val_binary_accuracy: 0.8393 - val_f1_score: 0.4000 - val_precision: 0.3333 - val_recall: 0.5000 - val_auc: 0.7600 - val_prc: 0.3736\n",
      "Epoch 82/100\n",
      "16/16 [==============================] - 0s 15ms/step - loss: 0.0095 - cross entropy: 0.1969 - mean_squared_error: 0.0506 - root_mean_squared_error: 0.2250 - tp: 71.0000 - fp: 13.0000 - tn: 406.0000 - fn: 14.0000 - binary_accuracy: 0.9464 - f1_score: 0.8402 - precision: 0.8452 - recall: 0.8353 - auc: 0.9890 - prc: 0.9465 - val_loss: 0.0917 - val_cross entropy: 0.4253 - val_mean_squared_error: 0.1366 - val_root_mean_squared_error: 0.3696 - val_tp: 4.0000 - val_fp: 9.0000 - val_tn: 41.0000 - val_fn: 2.0000 - val_binary_accuracy: 0.8036 - val_f1_score: 0.4211 - val_precision: 0.3077 - val_recall: 0.6667 - val_auc: 0.7667 - val_prc: 0.3705\n",
      "Epoch 83/100\n",
      "16/16 [==============================] - 0s 15ms/step - loss: 0.0082 - cross entropy: 0.1662 - mean_squared_error: 0.0412 - root_mean_squared_error: 0.2029 - tp: 74.0000 - fp: 6.0000 - tn: 413.0000 - fn: 11.0000 - binary_accuracy: 0.9663 - f1_score: 0.8970 - precision: 0.9250 - recall: 0.8706 - auc: 0.9921 - prc: 0.9705 - val_loss: 0.1166 - val_cross entropy: 0.4557 - val_mean_squared_error: 0.1442 - val_root_mean_squared_error: 0.3797 - val_tp: 4.0000 - val_fp: 9.0000 - val_tn: 41.0000 - val_fn: 2.0000 - val_binary_accuracy: 0.8036 - val_f1_score: 0.4211 - val_precision: 0.3077 - val_recall: 0.6667 - val_auc: 0.7433 - val_prc: 0.3891\n",
      "Epoch 84/100\n",
      "16/16 [==============================] - 0s 15ms/step - loss: 0.0072 - cross entropy: 0.1721 - mean_squared_error: 0.0419 - root_mean_squared_error: 0.2046 - tp: 76.0000 - fp: 8.0000 - tn: 411.0000 - fn: 9.0000 - binary_accuracy: 0.9663 - f1_score: 0.8994 - precision: 0.9048 - recall: 0.8941 - auc: 0.9948 - prc: 0.9747 - val_loss: 0.1037 - val_cross entropy: 0.4795 - val_mean_squared_error: 0.1595 - val_root_mean_squared_error: 0.3994 - val_tp: 4.0000 - val_fp: 11.0000 - val_tn: 39.0000 - val_fn: 2.0000 - val_binary_accuracy: 0.7679 - val_f1_score: 0.3810 - val_precision: 0.2667 - val_recall: 0.6667 - val_auc: 0.7417 - val_prc: 0.2192\n",
      "Epoch 85/100\n",
      "16/16 [==============================] - 0s 16ms/step - loss: 0.0099 - cross entropy: 0.1674 - mean_squared_error: 0.0428 - root_mean_squared_error: 0.2069 - tp: 73.0000 - fp: 8.0000 - tn: 411.0000 - fn: 12.0000 - binary_accuracy: 0.9603 - f1_score: 0.8795 - precision: 0.9012 - recall: 0.8588 - auc: 0.9890 - prc: 0.9399 - val_loss: 0.1168 - val_cross entropy: 0.4718 - val_mean_squared_error: 0.1477 - val_root_mean_squared_error: 0.3843 - val_tp: 4.0000 - val_fp: 9.0000 - val_tn: 41.0000 - val_fn: 2.0000 - val_binary_accuracy: 0.8036 - val_f1_score: 0.4211 - val_precision: 0.3077 - val_recall: 0.6667 - val_auc: 0.7633 - val_prc: 0.4643\n",
      "Epoch 86/100\n",
      "16/16 [==============================] - 0s 15ms/step - loss: 0.0168 - cross entropy: 0.2233 - mean_squared_error: 0.0629 - root_mean_squared_error: 0.2509 - tp: 72.0000 - fp: 25.0000 - tn: 394.0000 - fn: 13.0000 - binary_accuracy: 0.9246 - f1_score: 0.7912 - precision: 0.7423 - recall: 0.8471 - auc: 0.9709 - prc: 0.8830 - val_loss: 0.0945 - val_cross entropy: 0.5075 - val_mean_squared_error: 0.1752 - val_root_mean_squared_error: 0.4186 - val_tp: 3.0000 - val_fp: 12.0000 - val_tn: 38.0000 - val_fn: 3.0000 - val_binary_accuracy: 0.7321 - val_f1_score: 0.2857 - val_precision: 0.2000 - val_recall: 0.5000 - val_auc: 0.6533 - val_prc: 0.1380\n",
      "Epoch 87/100\n",
      "16/16 [==============================] - 0s 15ms/step - loss: 0.0161 - cross entropy: 0.2040 - mean_squared_error: 0.0569 - root_mean_squared_error: 0.2386 - tp: 59.0000 - fp: 14.0000 - tn: 405.0000 - fn: 26.0000 - binary_accuracy: 0.9206 - f1_score: 0.7468 - precision: 0.8082 - recall: 0.6941 - auc: 0.9722 - prc: 0.8772 - val_loss: 0.0890 - val_cross entropy: 0.4272 - val_mean_squared_error: 0.1427 - val_root_mean_squared_error: 0.3777 - val_tp: 4.0000 - val_fp: 9.0000 - val_tn: 41.0000 - val_fn: 2.0000 - val_binary_accuracy: 0.8036 - val_f1_score: 0.4211 - val_precision: 0.3077 - val_recall: 0.6667 - val_auc: 0.7733 - val_prc: 0.4248\n",
      "Epoch 88/100\n",
      "16/16 [==============================] - 0s 15ms/step - loss: 0.0097 - cross entropy: 0.1893 - mean_squared_error: 0.0486 - root_mean_squared_error: 0.2206 - tp: 69.0000 - fp: 6.0000 - tn: 413.0000 - fn: 16.0000 - binary_accuracy: 0.9563 - f1_score: 0.8625 - precision: 0.9200 - recall: 0.8118 - auc: 0.9893 - prc: 0.9456 - val_loss: 0.0791 - val_cross entropy: 0.4374 - val_mean_squared_error: 0.1433 - val_root_mean_squared_error: 0.3785 - val_tp: 4.0000 - val_fp: 10.0000 - val_tn: 40.0000 - val_fn: 2.0000 - val_binary_accuracy: 0.7857 - val_f1_score: 0.4000 - val_precision: 0.2857 - val_recall: 0.6667 - val_auc: 0.8000 - val_prc: 0.4608\n",
      "Epoch 89/100\n",
      " 5/16 [========>.....................] - ETA: 0s - loss: 0.0099 - cross entropy: 0.2119 - mean_squared_error: 0.0541 - root_mean_squared_error: 0.2325 - tp: 28.0000 - fp: 4.0000 - tn: 125.0000 - fn: 3.0000 - binary_accuracy: 0.9563 - f1_score: 0.8889 - precision: 0.8750 - recall: 0.9032 - auc: 0.9896 - prc: 0.9622  "
     ]
    }
   ],
   "source": [
    "# Begin the search\n",
    "EPOCHS = 100\n",
    "\n",
    "tuner.search(\n",
    "    input_train_scaled,\n",
    "    label_train_scaled,\n",
    "    epochs=EPOCHS,\n",
    "    validation_split=0.1\n",
    ")\n",
    "\n",
    "# Query the tuner object to grab the best models\n",
    "models = tuner.get_best_models(num_models=5)\n",
    "\n",
    "# Here is the best model from the tuner\n",
    "best_model = models[0]\n",
    "print(best_model.summary())\n",
    "\n",
    "# Get the top hyperparameters.\n",
    "best_hps = tuner.get_best_hyperparameters()\n",
    "\n",
    "# Build the model with the best hyperparameters.\n",
    "# Assuming your MyHyperModel has a build method that takes a hyperparameter object.\n",
    "model = MyHyperModel().build(best_hps[0])\n",
    "\n",
    "# Save the best model (architecture and weights)\n",
    "\n",
    "save_dir = \"/glade/derecho/scratch/rmandava/AEW_time_location_files/models\"\n",
    "model_save_path = os.path.join(save_dir, model_save_name)\n",
    "\n",
    "model.save(model_save_path)\n",
    "\n",
    "\n",
    "# Retrain using \"best\" model hyperparameters\n",
    "history = model.fit(\n",
    "    input_train_scaled,\n",
    "    label_train_scaled,\n",
    "    epochs=EPOCHS,\n",
    "    validation_split=0.1,\n",
    "    batch_size= 32,\n",
    "    # callbacks=keras.callbacks.EarlyStopping('val_loss', patience=3),\n",
    "    shuffle=True,\n",
    "    class_weight=class_weight,  # Ensure 'class_weight' is defined in your scope\n",
    ")\n",
    "\n",
    "# Evaluate the model on the test data using `evaluate`\n",
    "results = model.evaluate(input_test_scaled, label_test_scaled, batch_size=label_test_scaled.shape[0])\n",
    "print(results)\n",
    "\n",
    "# Generate predictions (probabilities—the output of the last layer)\n",
    "predictions = model.predict(input_test_scaled)\n",
    "print(\"predictions shape:\", predictions.shape)\n",
    "\n",
    "# Compute confusion matrix elements\n",
    "tn, fp, fn, tp = sklearn.metrics.confusion_matrix(\n",
    "    label_test_scaled, np.round(predictions)\n",
    ").ravel()\n",
    "print(\"tn:\", tn)\n",
    "print(\"fp:\", fp)\n",
    "print(\"fn:\", fn)\n",
    "print(\"tp:\", tp)\n"
   ]
  },
  {
   "cell_type": "code",
   "execution_count": null,
   "id": "1f8883c1-4450-444a-88a5-18ed3d94d588",
   "metadata": {},
   "outputs": [],
   "source": [
    "# —— Ensemble top K models —— \n",
    "\n",
    "from sklearn.metrics import f1_score\n",
    "import numpy as np\n",
    "\n",
    "# 1) Grab the top K hyperparameters\n",
    "top_hps = tuner.get_best_hyperparameters(num_trials=5)\n",
    "\n",
    "# 2) Rebuild each best model\n",
    "models = [ MyHyperModel().build(hp) for hp in top_hps ]\n",
    "# (Or, if you saved weights per trial, load them here onto each model.)\n",
    "\n",
    "# 3) Run each model on the test set\n",
    "all_preds = np.stack([m.predict(input_test_scaled).flatten() for m in models], axis=0)\n",
    "\n",
    "# 4) Average their probabilities & threshold\n",
    "ensemble_probs = all_preds.mean(axis=0)\n",
    "ensemble_preds = (ensemble_probs >= 0.5).astype(int)\n",
    "\n",
    "# 5) Compute & print ensemble F1\n",
    "print(\"Ensemble F1:\", f1_score(label_test_scaled, ensemble_preds))\n"
   ]
  },
  {
   "cell_type": "code",
   "execution_count": null,
   "id": "88d463e2-12e7-474b-95c1-ae20c22a093c",
   "metadata": {},
   "outputs": [],
   "source": [
    "pred_labels = np.round(predictions.flatten())\n",
    "true_labels = label_test_scaled.flatten()\n",
    "false_neg_idx = np.where((true_labels == 1) & (pred_labels == 0))[0]\n",
    "false_pos_idx = np.where((true_labels == 0) & (pred_labels == 1))[0]\n",
    "true_pos_idx = np.where((true_labels == 1) & (pred_labels == 1))[0]\n",
    "true_neg_idx = np.where((true_labels == 0) & (pred_labels == 0))[0]\n",
    "\n",
    "print(\"Number of false negatives:\", len(false_neg_idx))\n",
    "print(\"Number of false positives:\", len(false_pos_idx))\n",
    "\n"
   ]
  },
  {
   "cell_type": "code",
   "execution_count": null,
   "id": "cd6ddefd-a847-4a5c-a028-ca25e1e1d87c",
   "metadata": {
    "papermill": {
     "duration": 0.042059,
     "end_time": "2025-03-05T20:46:02.526276",
     "exception": false,
     "start_time": "2025-03-05T20:46:02.484217",
     "status": "completed"
    },
    "tags": []
   },
   "outputs": [],
   "source": [
    "# Assuming lat_test and lon_test are arrays with shape (num_samples, height, width)\n",
    "#central_lat = lat_test[:, lat_test.shape[1]//2, lat_test.shape[2]//2]\n",
    "#central_lon = lon_test[:, lon_test.shape[1]//2, lon_test.shape[2]//2]\n",
    "\n",
    "#lats_false_neg = central_lat[false_neg_idx]\n",
    "#lons_false_neg = central_lon[false_neg_idx]\n",
    "\n",
    "#lats_false_pos = central_lat[false_pos_idx]\n",
    "#lons_false_pos = central_lon[false_pos_idx]\n",
    "# Assuming lat_test and lon_test are 1D arrays with one coordinate per sample\n",
    "lat_false_neg = lat_test[false_neg_idx]\n",
    "lon_false_neg = lon_test[false_neg_idx]\n",
    "\n",
    "lat_false_pos = lat_test[false_pos_idx]\n",
    "lon_false_pos = lon_test[false_pos_idx]\n",
    "\n",
    "lat_true_pos = lat_test[true_pos_idx]\n",
    "lon_true_pos = lon_test[true_pos_idx]\n",
    "\n",
    "lat_true_neg = lat_test[true_neg_idx]\n",
    "lon_true_neg = lon_test[true_neg_idx]\n",
    "\n",
    "\n"
   ]
  },
  {
   "cell_type": "code",
   "execution_count": null,
   "id": "798796b5-b155-48c8-bd46-4c1a1f5fedba",
   "metadata": {},
   "outputs": [],
   "source": [
    "print(\"Unique latitudes in test set:\", np.unique(lat_test))\n",
    "print(\"Unique longitudes in test set:\", np.unique(lon_test))\n"
   ]
  },
  {
   "cell_type": "code",
   "execution_count": null,
   "id": "eb0f4581-4248-48f1-bd51-5d4bb476f030",
   "metadata": {},
   "outputs": [],
   "source": [
    "import matplotlib.pyplot as plt\n",
    "\n",
    "plt.figure(figsize=(8, 6))\n",
    "plt.scatter(lon_false_neg, lat_false_neg, marker='x', color='red', label='False Negatives')\n",
    "plt.scatter(lon_false_pos, lat_false_pos, marker='o', color='blue', label='False Positives')\n",
    "plt.xlabel('Longitude')\n",
    "plt.ylabel('Latitude')\n",
    "plt.title('Geographic Distribution of Misclassifications')\n",
    "plt.legend()\n",
    "plt.show()\n"
   ]
  },
  {
   "cell_type": "code",
   "execution_count": null,
   "id": "e5f3eb33-d853-48b3-8416-46e48cd99444",
   "metadata": {},
   "outputs": [],
   "source": []
  },
  {
   "cell_type": "code",
   "execution_count": null,
   "id": "512e75d1-8ea6-4a7e-90c9-aaf6ad6d5a85",
   "metadata": {},
   "outputs": [],
   "source": [
    "import matplotlib.pyplot as plt\n",
    "import cartopy.crs as ccrs\n",
    "import cartopy.feature as cfeature\n",
    "fig = plt.figure(figsize=(10, 8))\n",
    "ax = plt.axes(projection=ccrs.PlateCarree())\n",
    "\n",
    "\n",
    "\n",
    "lon_min, lon_max = np.min(lon_test)-15, np.max(lon_test)+15\n",
    "lat_min, lat_max = np.min(lat_test)-15, np.max(lat_test)+15\n",
    "ax.set_extent([lon_min, lon_max, lat_min, lat_max], crs=ccrs.PlateCarree())\n",
    "\n",
    "# Add map features\n",
    "ax.add_feature(cfeature.COASTLINE, linewidth=0.5)\n",
    "ax.add_feature(cfeature.BORDERS, linestyle=':', linewidth=0.5)\n",
    "ax.add_feature(cfeature.LAND, edgecolor='black', facecolor='lightgray')\n",
    "ax.add_feature(cfeature.OCEAN, facecolor='lightblue')\n",
    "\n",
    "# Plot misclassified points:\n",
    "ax.scatter(lon_false_neg, lat_false_neg, color='red', marker='x', s=100,\n",
    "           transform=ccrs.PlateCarree(), label='False Negatives')\n",
    "ax.scatter(lon_false_pos, lat_false_pos, color='blue', marker='o', s=100,\n",
    "           transform=ccrs.PlateCarree(), label='False Positives')\n",
    "\n",
    "plt.title(\"Misclassified Test Samples on Map\")\n",
    "plt.legend()\n",
    "plt.show()"
   ]
  },
  {
   "cell_type": "code",
   "execution_count": null,
   "id": "4561912c-9788-442a-a527-f125871dbce3",
   "metadata": {},
   "outputs": [],
   "source": [
    "import matplotlib.pyplot as plt\n",
    "import cartopy.crs as ccrs\n",
    "import cartopy.feature as cfeature\n",
    "\n",
    "fig = plt.figure(figsize=(10, 8))\n",
    "ax = plt.axes(projection=ccrs.PlateCarree())\n",
    "\n",
    "# Set map extent (adjust margins as desired)\n",
    "lon_min, lon_max = np.min(lon_test) - 10, np.max(lon_test) + 10\n",
    "lat_min, lat_max = np.min(lat_test) - 10, np.max(lat_test) + 10\n",
    "ax.set_extent([lon_min, lon_max, lat_min, lat_max], crs=ccrs.PlateCarree())\n",
    "\n",
    "# Add map features\n",
    "ax.add_feature(cfeature.COASTLINE, linewidth=0.5)\n",
    "ax.add_feature(cfeature.BORDERS, linestyle=':', linewidth=0.5)\n",
    "ax.add_feature(cfeature.LAND, facecolor='lightgray', edgecolor='black')\n",
    "ax.add_feature(cfeature.OCEAN, facecolor='lightblue')\n",
    "# Plot misclassified points\n",
    "ax.scatter(lon_false_neg, lat_false_neg, color='red', marker='x', s=100,\n",
    "           transform=ccrs.PlateCarree(), label='False Negatives')\n",
    "ax.scatter(lon_false_pos, lat_false_pos, color='blue', marker='o', s=100,\n",
    "           transform=ccrs.PlateCarree(), label='False Positives')\n",
    "\n",
    "\n",
    "\n",
    "# Plot correctly classified points\n",
    "ax.scatter(lon_true_pos, lat_true_pos, color='green', marker='^', s=100,\n",
    "           transform=ccrs.PlateCarree(), label='True Positives')\n",
    "ax.scatter(lon_true_neg, lat_true_neg, color='orange', marker='s', s=100,\n",
    "           transform=ccrs.PlateCarree(), label='True Negatives')\n",
    "\n",
    "plt.title(\"Test Set Classification Results on Map\")\n",
    "plt.legend()\n",
    "plt.show()\n"
   ]
  },
  {
   "cell_type": "code",
   "execution_count": null,
   "id": "dffe393f-a6c9-440d-b648-78010a1d0ecf",
   "metadata": {},
   "outputs": [],
   "source": [
    "print(\"Total samples:\", len(sample_lat))\n",
    "print(\"Unique latitudes:\", len(np.unique(sample_lat)))\n",
    "print(\"Unique longitudes:\", len(np.unique(sample_lon)))\n"
   ]
  },
  {
   "cell_type": "code",
   "execution_count": null,
   "id": "3e932dda-37e1-4158-8655-7d2a041a1a0c",
   "metadata": {},
   "outputs": [],
   "source": [
    "print(\"First 10 latitudes:\", sample_lat[:10])\n",
    "print(\"First 10 longitudes:\", sample_lon[:10])\n"
   ]
  },
  {
   "cell_type": "code",
   "execution_count": null,
   "id": "fe686778-d179-4dec-8b2e-472700d70e83",
   "metadata": {},
   "outputs": [],
   "source": [
    "import matplotlib.pyplot as plt\n",
    "\n",
    "plt.figure(figsize=(8, 6))\n",
    "plt.scatter(sample_lon, sample_lat, c='green', marker='o')\n",
    "plt.xlabel('Longitude')\n",
    "plt.ylabel('Latitude')\n",
    "plt.title('Per-Sample Weighted Centroid Coordinates')\n",
    "plt.show()\n"
   ]
  },
  {
   "cell_type": "code",
   "execution_count": null,
   "id": "5563a928-7d7f-402d-94e1-63dd0cff0982",
   "metadata": {
    "papermill": {
     "duration": 13.848113,
     "end_time": "2025-03-05T20:46:16.415723",
     "exception": false,
     "start_time": "2025-03-05T20:46:02.567610",
     "status": "completed"
    },
    "tags": []
   },
   "outputs": [],
   "source": [
    "\n",
    "\n",
    "# --- Permutation Importance ---\n",
    "# Evaluate baseline performance using your loss metric (here, the custom f1_loss_sigmoid)\n",
    "# model.metrics_names gives a list where index 0 is 'loss'\n",
    "baseline_results = model.evaluate(input_test_scaled, label_test_scaled,\n",
    "                                  batch_size=label_test_scaled.shape[0],\n",
    "                                  verbose=0)\n",
    "baseline_loss = baseline_results[model.metrics_names.index('loss')]\n",
    "print(\"Baseline loss:\", baseline_loss)\n",
    "\n",
    "# Set the number of repetitions for averaging\n",
    "n_repeats = 5\n",
    "n_features = input_test_scaled.shape[-1]\n",
    "permutation_importances = np.zeros(n_features)\n",
    "\n",
    "# Loop over each feature (channel)\n",
    "for feature_idx in range(n_features):\n",
    "    permuted_losses = []\n",
    "    for _ in range(n_repeats):\n",
    "        # Copy the test set to avoid modifying the original\n",
    "        X_permuted = np.copy(input_test_scaled)\n",
    "        # Permute the values of the selected feature across samples\n",
    "        perm = np.random.permutation(X_permuted.shape[0])\n",
    "        X_permuted[:, :, :, feature_idx] = X_permuted[perm, :, :, feature_idx]\n",
    "        \n",
    "        # Evaluate the model on the permuted test set\n",
    "        permuted_results = model.evaluate(X_permuted, label_test_scaled,\n",
    "                                          batch_size=label_test_scaled.shape[0],\n",
    "                                          verbose=0)\n",
    "        permuted_loss = permuted_results[model.metrics_names.index('loss')]\n",
    "        permuted_losses.append(permuted_loss)\n",
    "    \n",
    "    avg_permuted_loss = np.mean(permuted_losses)\n",
    "    # The difference between the permuted loss and baseline loss indicates feature importance:\n",
    "    # A larger increase means the feature is more important.\n",
    "    permutation_importances[feature_idx] = avg_permuted_loss - baseline_loss\n",
    "    print(f\"Feature {feature_idx} - Increase in Loss: {permutation_importances[feature_idx]}\")\n",
    "\n",
    "print(\"Permutation Importances (increase in loss) for all features:\", permutation_importances)\n"
   ]
  },
  {
   "cell_type": "code",
   "execution_count": null,
   "id": "b23e4f15-e79e-4040-b328-2096906415f9",
   "metadata": {
    "papermill": {
     "duration": 0.467125,
     "end_time": "2025-03-05T20:46:16.925109",
     "exception": false,
     "start_time": "2025-03-05T20:46:16.457984",
     "status": "completed"
    },
    "tags": []
   },
   "outputs": [],
   "source": [
    "import matplotlib.pyplot as plt\n",
    "import numpy as np\n",
    "\n",
    "# Suppose permutation_importances is the numpy array you printed:\n",
    "# e.g., [0.0820, 0.0824, 0.0815, 0.0864, 0.0121, ...]\n",
    "\n",
    "feature_indices = np.arange(len(permutation_importances))\n",
    "\n",
    "plt.figure(figsize=(8, 5))\n",
    "plt.bar(feature_indices, permutation_importances)\n",
    "plt.xlabel(\"Feature Index\")\n",
    "plt.ylabel(\"Increase in Loss (Permutation Importance)\")\n",
    "plt.title(\"Permutation Importance by Feature\")\n",
    "plt.xticks(feature_indices, [f\"F{i}\" for i in feature_indices], rotation=45)\n",
    "plt.tight_layout()\n",
    "plt.show()\n"
   ]
  },
  {
   "cell_type": "code",
   "execution_count": null,
   "id": "1765f8b0-69ed-4917-82f7-f15ef12cc837",
   "metadata": {
    "papermill": {
     "duration": 0.043518,
     "end_time": "2025-03-05T20:46:17.012058",
     "exception": false,
     "start_time": "2025-03-05T20:46:16.968540",
     "status": "completed"
    },
    "tags": []
   },
   "outputs": [],
   "source": [
    "sample_index = 0\n",
    "sample_input = input_test_scaled[sample_index:sample_index+1]\n",
    "\n",
    "# Compute the saliency map for the selected test sample\n",
    "saliency_map = compute_saliency_map(model, sample_input)\n",
    "\n",
    "# Plot the saliency map\n",
    "plt.figure(figsize=(8, 8))\n",
    "plt.imshow(saliency_map, cmap='hot')\n",
    "plt.colorbar()\n",
    "plt.title(f\"Saliency Map for Sample Index {sample_index}\")\n",
    "plt.show()\n",
    "\n"
   ]
  },
  {
   "cell_type": "code",
   "execution_count": null,
   "id": "5aa54c93-f08a-46e2-a610-95424eb79806",
   "metadata": {
    "papermill": {
     "duration": 0.042628,
     "end_time": "2025-03-05T20:46:17.098037",
     "exception": false,
     "start_time": "2025-03-05T20:46:17.055409",
     "status": "completed"
    },
    "tags": []
   },
   "outputs": [],
   "source": [
    "sample_index = 1\n",
    "sample_input = input_test_scaled[sample_index:sample_index+1]\n",
    "\n",
    "# Compute saliency maps per channel for the selected input sample\n",
    "saliency_maps, channel_importance = compute_saliency_per_channel(model, sample_input)\n",
    "\n",
    "# Plot the saliency maps for each channel\n",
    "num_channels = saliency_maps.shape[-1]\n",
    "cols = 5  # Set number of columns for plotting\n",
    "rows = int(np.ceil(num_channels / cols))\n",
    "plt.figure(figsize=(15, rows * 3))\n",
    "for c in range(num_channels):\n",
    "    plt.subplot(rows, cols, c + 1)\n",
    "    plt.imshow(saliency_maps[:, :, c], cmap='hot')\n",
    "    plt.title(f'Channel {c}\\nMean: {channel_importance[c]:.4f}')\n",
    "    plt.axis('off')\n",
    "plt.tight_layout()\n",
    "plt.show()\n",
    "\n",
    "# Print aggregated channel importance values\n",
    "print(\"Channel importance (mean saliency per channel):\")\n",
    "for c, imp in enumerate(channel_importance):\n",
    "    print(f\"Channel {c}: {imp:.4f}\")\n"
   ]
  },
  {
   "cell_type": "code",
   "execution_count": null,
   "id": "bfec3979-63a3-4211-9475-3445ad530009",
   "metadata": {
    "papermill": {
     "duration": 0.043201,
     "end_time": "2025-03-05T20:46:17.184585",
     "exception": false,
     "start_time": "2025-03-05T20:46:17.141384",
     "status": "completed"
    },
    "tags": []
   },
   "outputs": [],
   "source": [
    "import numpy as np\n",
    "import pandas as pd\n",
    "import matplotlib.pyplot as plt\n",
    "\n",
    "# 1) Compute per‑sample, per‑channel saliency importances\n",
    "all_imps = []\n",
    "for x in input_test_scaled:             # each x has shape (32,32,channels)\n",
    "    _, imp = compute_saliency_per_channel(best_model, x[np.newaxis,...])\n",
    "    all_imps.append(imp)               # imp.shape == (channels,)\n",
    "all_imps = np.stack(all_imps)          # shape (N_samples, channels)\n",
    "\n",
    "# 2) Average importance across samples\n",
    "mean_imp = all_imps.mean(axis=0)       # shape (channels,)\n",
    "\n",
    "# 3) Build a DataFrame mapping feature→plevel→importance\n",
    "df = pd.DataFrame({\n",
    "    \"feature\": var_list,\n",
    "    \"plevel\": plevel_list,\n",
    "    \"importance\": mean_imp\n",
    "})\n",
    "\n",
    "# 4) Group by pressure level and plot\n",
    "grouped = df.groupby(\"plevel\")[\"importance\"].mean().reset_index()\n",
    "plt.figure(figsize=(6,4))\n",
    "plt.bar(grouped[\"plevel\"].astype(str), grouped[\"importance\"])\n",
    "plt.xlabel(\"Pressure level (hPa or False=surface)\")\n",
    "plt.ylabel(\"Mean saliency importance\")\n",
    "plt.title(\"Average feature importance by pressure level\")\n",
    "plt.show()\n"
   ]
  },
  {
   "cell_type": "code",
   "execution_count": null,
   "id": "f421b06b-75d2-4e23-beb0-dbb5f6c6240f",
   "metadata": {
    "papermill": {
     "duration": 0.041979,
     "end_time": "2025-03-05T20:46:17.268705",
     "exception": false,
     "start_time": "2025-03-05T20:46:17.226726",
     "status": "completed"
    },
    "tags": []
   },
   "outputs": [],
   "source": [
    "# 1) Print out full test‐set metrics by name\n",
    "test_results = model.evaluate(\n",
    "    input_test_scaled,\n",
    "    label_test_scaled,\n",
    "    batch_size=label_test_scaled.shape[0],\n",
    "    verbose=0\n",
    ")\n",
    "print(dict(zip(model.metrics_names, test_results)))\n",
    "\n",
    "# 2) Peek at the end of your training history for F1 improvements\n",
    "import pandas as pd\n",
    "hist_df = pd.DataFrame(history.history)\n",
    "print(hist_df[['f1_score','val_f1_score']].tail())\n",
    "\n",
    "# 3) (Optional) Plot train vs. val F1 over epochs\n",
    "import matplotlib.pyplot as plt\n",
    "plt.plot(hist_df['f1_score'],    label='train F1')\n",
    "plt.plot(hist_df['val_f1_score'],label='val F1')\n",
    "plt.xlabel('Epoch')\n",
    "plt.ylabel('F1 Score')\n",
    "plt.legend()\n",
    "plt.title('Focal‐Loss Training F1 Curves')\n",
    "plt.show()\n"
   ]
  },
  {
   "cell_type": "code",
   "execution_count": null,
   "id": "40b46d58-ad34-4817-a519-c9152372b7d4",
   "metadata": {
    "papermill": {
     "duration": 0.047731,
     "end_time": "2025-03-05T20:46:17.359595",
     "exception": false,
     "start_time": "2025-03-05T20:46:17.311864",
     "status": "completed"
    },
    "tags": []
   },
   "outputs": [],
   "source": [
    "# Replace your rebuild logic:\n",
    "# top_hps = tuner.get_best_hyperparameters(num_trials=5)\n",
    "# models  = [MyHyperModel().build(hp) for hp in top_hps]\n",
    "\n",
    "# With this single line:\n",
    "models = tuner.get_best_models(num_models=5)\n",
    "\n",
    "# Then stack and average as before:\n",
    "all_preds     = np.stack([m.predict(input_test_scaled).flatten() for m in models], axis=0)\n",
    "ensemble_probs= all_preds.mean(axis=0)\n",
    "ensemble_preds= (ensemble_probs >= 0.5).astype(int)\n",
    "print(\"Ensemble F1:\", f1_score(label_test_scaled, ensemble_preds))\n"
   ]
  },
  {
   "cell_type": "code",
   "execution_count": null,
   "id": "2ae3ef17-24f6-4569-8095-2bdee2e67245",
   "metadata": {},
   "outputs": [],
   "source": []
  },
  {
   "cell_type": "code",
   "execution_count": null,
   "id": "aa32367f-578a-4d6c-abda-25f517326f92",
   "metadata": {},
   "outputs": [],
   "source": []
  },
  {
   "cell_type": "code",
   "execution_count": null,
   "id": "3a400de0-e033-42a0-9271-eb725e4f2bb4",
   "metadata": {},
   "outputs": [],
   "source": []
  }
 ],
 "metadata": {
  "kernelspec": {
   "display_name": "Python 3 (ipykernel)",
   "language": "python",
   "name": "python3"
  },
  "language_info": {
   "codemirror_mode": {
    "name": "ipython",
    "version": 3
   },
   "file_extension": ".py",
   "mimetype": "text/x-python",
   "name": "python",
   "nbconvert_exporter": "python",
   "pygments_lexer": "ipython3",
   "version": "3.10.13"
  },
  "papermill": {
   "default_parameters": {},
   "duration": 7035.678234,
   "end_time": "2025-03-05T20:46:20.341478",
   "environment_variables": {},
   "exception": null,
   "input_path": "Hurricaneoriginal(300).ipynb",
   "output_path": "output_notebook_var(second)0.ipynb",
   "parameters": {
    "aew_subset": "12hr_before",
    "model_save_name": "best_model_var0.keras",
    "plevel_list": [
     false,
     false,
     300,
     false,
     false,
     false,
     300,
     300,
     850,
     300,
     850,
     false,
     false,
     false,
     false,
     300,
     850,
     false,
     300,
     850,
     300,
     850,
     300,
     300,
     850
    ],
    "tuner_project_name": "tuner_run(second)_0",
    "var_list": [
     "cape",
     "crr",
     "d",
     "ie",
     "ishf",
     "lsrr",
     "pv",
     "q",
     "q",
     "r",
     "r",
     "sp",
     "sstk",
     "tcw",
     "tcwv",
     "t",
     "t",
     "ttr",
     "u",
     "u",
     "v",
     "v",
     "vo",
     "w",
     "w"
    ]
   },
   "start_time": "2025-03-05T18:49:04.663244",
   "version": "2.6.0"
  }
 },
 "nbformat": 4,
 "nbformat_minor": 5
}
